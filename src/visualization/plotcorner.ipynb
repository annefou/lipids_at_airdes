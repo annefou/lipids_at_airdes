{
 "cells": [
  {
   "cell_type": "code",
   "execution_count": 4,
   "metadata": {},
   "outputs": [],
   "source": [
    "import matplotlib.pyplot as plt\n",
    "import matplotlib as mpl\n",
    "import seaborn as sns; sns.set('paper', palette='colorblind')\n",
    "import numpy as np\n",
    "from refnx import analysis\n",
    "import sys"
   ]
  },
  {
   "cell_type": "code",
   "execution_count": 5,
   "metadata": {},
   "outputs": [],
   "source": [
    "f = sys.argv[1] #'../../output/dlpc_highconc_chain.txt'\n",
    "tail_length = float(sys.argv[2]) #1.54 + 1.265 * 12\n",
    "vole = float(sys.argv[3]) #667.)\n",
    "flatchain = analysis.curvefitter.load_chain(f)\n",
    "figures_dir = sys.argv[5] + '/reports/figures/'\n",
    "lab = sys.argv[4] #'dlpc'"
   ]
  },
  {
   "cell_type": "code",
   "execution_count": 6,
   "metadata": {
    "scrolled": false
   },
   "outputs": [],
   "source": [
    "# plotting pdfs\n",
    "import corner\n",
    "\n",
    "mpl.rcParams['axes.labelsize']=22\n",
    "mpl.rcParams['xtick.labelsize']=14\n",
    "mpl.rcParams['ytick.labelsize']=14\n",
    "\n",
    "label=['$V_t$/Å$^3$', '$V_h$/Å$^3$', '$d_h$/Å', 'θ$_t$/°', r'ϕ$_h/\\times10^{-2}$', 'σ$_{t,h,s}$/Å']\n",
    "\n",
    "new_flat = np.zeros((flatchain.shape[0] * flatchain.shape[1], 6))\n",
    "\n",
    "new_flat[:, 0] = list(flatchain[:, :, 2].flatten())\n",
    "new_flat[:, 1] = list(flatchain[:, :, 3].flatten())\n",
    "new_flat[:, 3] = list(np.rad2deg(np.arccos(flatchain[:, :, 1].flatten())))\n",
    "new_flat[:, 4] = list(flatchain[:, :, 5].flatten() * 100)\n",
    "new_flat[:, 5] = list(flatchain[:, :, 4].flatten())\n",
    "new_flat[:, 2] = list((flatchain[:, :, 3].flatten() * tail_length * flatchain[:, :, 1].flatten()))\n",
    "new_flat[:, 2] = new_flat[:, 2] / (flatchain[:, :, 2].flatten())\n",
    "a = 1 - flatchain[:, :, 5].flatten()\n",
    "new_flat[:, 2] = new_flat[:, 2] / a\n",
    "\n",
    "\n",
    "plt1 = corner.corner(new_flat, max_n_ticks=3, labels=label)\n",
    "plt.savefig('{}{}4_all_corner.png'.format(figures_dir, lab), dpi=600)\n",
    "plt.close()\n",
    "\n",
    "new_flat = np.zeros((flatchain.shape[0] * flatchain.shape[1], 6))\n",
    "\n",
    "new_flat[:, 0] = list(flatchain[:, :, 2].flatten())\n",
    "new_flat[:, 1] = list(flatchain[:, :, 3].flatten())\n",
    "new_flat[:, 3] = list(np.rad2deg(np.arccos(flatchain[:, :, 7].flatten())))\n",
    "new_flat[:, 4] = list(flatchain[:, :, 9].flatten() * 100)\n",
    "new_flat[:, 5] = list(flatchain[:, :, 8].flatten())\n",
    "new_flat[:, 2] = list((flatchain[:, :, 3].flatten() * tail_length * flatchain[:, :, 7].flatten()))\n",
    "new_flat[:, 2] = new_flat[:, 2] / (flatchain[:, :, 2].flatten())\n",
    "a = 1 - flatchain[:, :, 9].flatten()\n",
    "new_flat[:, 2] = new_flat[:, 2] / a\n",
    "\n",
    "\n",
    "plt1 = corner.corner(new_flat, max_n_ticks=3, labels=label)\n",
    "plt.savefig('{}{}5_all_corner.png'.format(figures_dir, lab), dpi=600)\n",
    "plt.close()"
   ]
  },
  {
   "cell_type": "code",
   "execution_count": null,
   "metadata": {},
   "outputs": [],
   "source": [
    "#lab = [0'scale4', 1'angle4', 2'vt', 3'vh', 4'rough4', 5'solh4', \n",
    "#       6'scale5', 7'angle5', 8'rough5', 9'solh5']"
   ]
  }
 ],
 "metadata": {
  "kernelspec": {
   "display_name": "Python [conda env:asfarm_2018]",
   "language": "python",
   "name": "conda-env-asfarm_2018-py"
  },
  "language_info": {
   "codemirror_mode": {
    "name": "ipython",
    "version": 3
   },
   "file_extension": ".py",
   "mimetype": "text/x-python",
   "name": "python",
   "nbconvert_exporter": "python",
   "pygments_lexer": "ipython3",
   "version": "3.6.5"
  },
  "latex_envs": {
   "LaTeX_envs_menu_present": true,
   "autoclose": false,
   "autocomplete": true,
   "bibliofile": "biblio.bib",
   "cite_by": "apalike",
   "current_citInitial": 1,
   "eqLabelWithNumbers": true,
   "eqNumInitial": 1,
   "hotkeys": {
    "equation": "Ctrl-E",
    "itemize": "Ctrl-I"
   },
   "labels_anchors": false,
   "latex_user_defs": false,
   "report_style_numbering": false,
   "user_envs_cfg": false
  }
 },
 "nbformat": 4,
 "nbformat_minor": 2
}
