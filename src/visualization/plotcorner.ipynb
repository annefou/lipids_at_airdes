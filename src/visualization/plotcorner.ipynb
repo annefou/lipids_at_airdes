{
 "cells": [
  {
   "cell_type": "code",
   "execution_count": 4,
   "metadata": {},
   "outputs": [],
   "source": [
    "import matplotlib.pyplot as plt\n",
    "import matplotlib as mpl\n",
    "import seaborn as sns; sns.set('paper', palette='colorblind')\n",
    "import numpy as np\n",
    "from refnx import analysis\n",
    "import sys"
   ]
  },
  {
   "cell_type": "code",
   "execution_count": 5,
   "metadata": {},
   "outputs": [],
   "source": [
    "f = sys.argv[1] #'../../output/dlpc_highconc_chain.txt'\n",
    "tail_length = 1.54 + 1.265 * int(sys.argv[2])\n",
    "flatchain = analysis.curvefitter.load_chain(f)\n",
    "figures_dir = '../../reports/figures/'\n",
    "lab = sys.argv[3] #'dlpc'"
   ]
  },
  {
   "cell_type": "code",
   "execution_count": 6,
   "metadata": {
    "scrolled": false
   },
   "outputs": [],
   "source": [
    "# plotting pdfs\n",
    "import corner\n",
    "\n",
    "mpl.rcParams['axes.labelsize']=22\n",
    "mpl.rcParams['xtick.labelsize']=14\n",
    "mpl.rcParams['ytick.labelsize']=14\n",
    "mpl.rcParams['axes.linewidth'] = 1\n",
    "mpl.rcParams['axes.edgecolor'] = 'k'\n",
    "\n",
    "\n",
    "label=['$V_t$/Å$^3$', '$V_h$/Å$^3$', '$d_h$/Å', 'θ$_t$/°', r'ϕ$_h/\\times10^{-2}$', 'σ$_{t,h,s}$/Å']\n",
    "\n",
    "new_flat = np.zeros((flatchain.shape[0] * flatchain.shape[1], 6))\n",
    "\n",
    "new_flat[:, 0] = list(flatchain[:, :, 3].flatten())\n",
    "new_flat[:, 1] = list(flatchain[:, :, 4].flatten())\n",
    "new_flat[:, 3] = list(np.rad2deg(np.arccos(flatchain[:, :, 2].flatten())))\n",
    "new_flat[:, 5] = list(flatchain[:, :, 5].flatten())\n",
    "new_flat[:, 2] = list(flatchain[:, :, 1].flatten())\n",
    "new_flat[:, 4] = list((1 - (flatchain[:, :, 4].flatten() / flatchain[:, :, 3].flatten()) * (\n",
    "    flatchain[:, :, 2].flatten() * tail_length / flatchain[:, :, 1].flatten())) * 100)\n",
    "\n",
    "plt1 = corner.corner(new_flat, max_n_ticks=3, labels=label)\n",
    "plt.savefig('{}{}2_all_corner.pdf'.format(figures_dir, lab), dpi=600)\n",
    "plt.close()\n",
    "\n",
    "new_flat = np.zeros((flatchain.shape[0] * flatchain.shape[1], 6))\n",
    "\n",
    "new_flat[:, 0] = list(flatchain[:, :, 3].flatten())\n",
    "new_flat[:, 1] = list(flatchain[:, :, 4].flatten())\n",
    "new_flat[:, 3] = list(np.rad2deg(np.arccos(flatchain[:, :, 7].flatten())))\n",
    "new_flat[:, 5] = list(flatchain[:, :, 8].flatten())\n",
    "new_flat[:, 2] = list(flatchain[:, :, 1].flatten())\n",
    "new_flat[:, 4] = list((1 - (flatchain[:, :, 4].flatten() / flatchain[:, :, 3].flatten()) * (\n",
    "    flatchain[:, :, 7].flatten() * tail_length / flatchain[:, :, 1].flatten())) * 100)\n",
    "\n",
    "plt1 = corner.corner(new_flat, max_n_ticks=3, labels=label)\n",
    "plt.savefig('{}{}3_all_corner.pdf'.format(figures_dir, lab), dpi=600)\n",
    "plt.close()\n",
    "\n",
    "new_flat = np.zeros((flatchain.shape[0] * flatchain.shape[1], 6))\n",
    "\n",
    "new_flat[:, 0] = list(flatchain[:, :, 3].flatten())\n",
    "new_flat[:, 1] = list(flatchain[:, :, 4].flatten())\n",
    "new_flat[:, 3] = list(np.rad2deg(np.arccos(flatchain[:, :, 10].flatten())))\n",
    "new_flat[:, 5] = list(flatchain[:, :, 11].flatten())\n",
    "new_flat[:, 2] = list(flatchain[:, :, 1].flatten())\n",
    "new_flat[:, 4] = list((1 - (flatchain[:, :, 4].flatten() / flatchain[:, :, 3].flatten()) * (\n",
    "    flatchain[:, :, 10].flatten() * tail_length / flatchain[:, :, 1].flatten())) * 100)\n",
    "\n",
    "\n",
    "plt1 = corner.corner(new_flat, max_n_ticks=3, labels=label)\n",
    "plt.savefig('{}{}4_all_corner.pdf'.format(figures_dir, lab), dpi=600)\n",
    "plt.close()\n",
    "\n",
    "\n",
    "new_flat = np.zeros((flatchain.shape[0] * flatchain.shape[1], 6))\n",
    "\n",
    "new_flat[:, 0] = list(flatchain[:, :, 3].flatten())\n",
    "new_flat[:, 1] = list(flatchain[:, :, 4].flatten())\n",
    "new_flat[:, 3] = list(np.rad2deg(np.arccos(flatchain[:, :, 13].flatten())))\n",
    "new_flat[:, 5] = list(flatchain[:, :, 14].flatten())\n",
    "new_flat[:, 2] = list(flatchain[:, :, 1].flatten())\n",
    "new_flat[:, 4] = list((1 - (flatchain[:, :, 4].flatten() / flatchain[:, :, 3].flatten()) * (\n",
    "    flatchain[:, :, 13].flatten() * tail_length / flatchain[:, :, 1].flatten())) * 100)\n",
    "                      \n",
    "\n",
    "plt1 = corner.corner(new_flat, max_n_ticks=3, labels=label)\n",
    "plt.savefig('{}{}5_all_corner.pdf'.format(figures_dir, lab), dpi=600)\n",
    "plt.close()"
   ]
  },
  {
   "cell_type": "code",
   "execution_count": null,
   "metadata": {},
   "outputs": [],
   "source": [
    "#lab = [0'scale4', 1'angle4', 2'vt', 3'vh', 4'rough4', 5'solh4', \n",
    "#       6'scale5', 7'angle5', 8'rough5', 9'solh5']"
   ]
  }
 ],
 "metadata": {
  "kernelspec": {
   "display_name": "Python [conda env:lipids_at_airdes]",
   "language": "python",
   "name": "conda-env-lipids_at_airdes-py"
  },
  "language_info": {
   "codemirror_mode": {
    "name": "ipython",
    "version": 3
   },
   "file_extension": ".py",
   "mimetype": "text/x-python",
   "name": "python",
   "nbconvert_exporter": "python",
   "pygments_lexer": "ipython3",
   "version": "3.7.0"
  },
  "latex_envs": {
   "LaTeX_envs_menu_present": true,
   "autoclose": false,
   "autocomplete": true,
   "bibliofile": "biblio.bib",
   "cite_by": "apalike",
   "current_citInitial": 1,
   "eqLabelWithNumbers": true,
   "eqNumInitial": 1,
   "hotkeys": {
    "equation": "Ctrl-E",
    "itemize": "Ctrl-I"
   },
   "labels_anchors": false,
   "latex_user_defs": false,
   "report_style_numbering": false,
   "user_envs_cfg": false
  }
 },
 "nbformat": 4,
 "nbformat_minor": 2
}
