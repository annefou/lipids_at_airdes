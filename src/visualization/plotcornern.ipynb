{
 "cells": [
  {
   "cell_type": "code",
   "execution_count": 2,
   "metadata": {},
   "outputs": [],
   "source": [
    "import matplotlib.pyplot as plt\n",
    "import matplotlib as mpl\n",
    "import seaborn as sns; sns.set('paper', palette='colorblind')\n",
    "import numpy as np\n",
    "from refnx import analysis\n",
    "import sys"
   ]
  },
  {
   "cell_type": "code",
   "execution_count": 3,
   "metadata": {},
   "outputs": [
    {
     "ename": "ValueError",
     "evalue": "could not convert string to float: '/run/user/1000/jupyter/kernel-edbc0465-7288-4d8f-a2d1-1e5c98d5e9de.json'",
     "output_type": "error",
     "traceback": [
      "\u001b[0;31m---------------------------------------------------------------------------\u001b[0m",
      "\u001b[0;31mValueError\u001b[0m                                Traceback (most recent call last)",
      "\u001b[0;32m<ipython-input-3-3f02372023e1>\u001b[0m in \u001b[0;36m<module>\u001b[0;34m()\u001b[0m\n\u001b[1;32m      1\u001b[0m \u001b[0mf\u001b[0m \u001b[0;34m=\u001b[0m \u001b[0msys\u001b[0m\u001b[0;34m.\u001b[0m\u001b[0margv\u001b[0m\u001b[0;34m[\u001b[0m\u001b[0;36m1\u001b[0m\u001b[0;34m]\u001b[0m \u001b[0;31m#'../../output/dlpc_highconc_chain.txt'\u001b[0m\u001b[0;34m\u001b[0m\u001b[0m\n\u001b[0;32m----> 2\u001b[0;31m \u001b[0mtail_length\u001b[0m \u001b[0;34m=\u001b[0m \u001b[0mfloat\u001b[0m\u001b[0;34m(\u001b[0m\u001b[0msys\u001b[0m\u001b[0;34m.\u001b[0m\u001b[0margv\u001b[0m\u001b[0;34m[\u001b[0m\u001b[0;36m2\u001b[0m\u001b[0;34m]\u001b[0m\u001b[0;34m)\u001b[0m \u001b[0;31m#1.54 + 1.265 * 12\u001b[0m\u001b[0;34m\u001b[0m\u001b[0m\n\u001b[0m\u001b[1;32m      3\u001b[0m \u001b[0mvole\u001b[0m \u001b[0;34m=\u001b[0m \u001b[0mfloat\u001b[0m\u001b[0;34m(\u001b[0m\u001b[0msys\u001b[0m\u001b[0;34m.\u001b[0m\u001b[0margv\u001b[0m\u001b[0;34m[\u001b[0m\u001b[0;36m3\u001b[0m\u001b[0;34m]\u001b[0m\u001b[0;34m)\u001b[0m \u001b[0;31m#667.)\u001b[0m\u001b[0;34m\u001b[0m\u001b[0m\n\u001b[1;32m      4\u001b[0m \u001b[0mflatchain\u001b[0m \u001b[0;34m=\u001b[0m \u001b[0manalysis\u001b[0m\u001b[0;34m.\u001b[0m\u001b[0mcurvefitter\u001b[0m\u001b[0;34m.\u001b[0m\u001b[0mload_chain\u001b[0m\u001b[0;34m(\u001b[0m\u001b[0mf\u001b[0m\u001b[0;34m)\u001b[0m\u001b[0;34m\u001b[0m\u001b[0m\n\u001b[1;32m      5\u001b[0m \u001b[0mfigures_dir\u001b[0m \u001b[0;34m=\u001b[0m \u001b[0;34m'/home/arm61/work/writing/articles/lipids_at_airdes/reports/figures/'\u001b[0m\u001b[0;34m\u001b[0m\u001b[0m\n",
      "\u001b[0;31mValueError\u001b[0m: could not convert string to float: '/run/user/1000/jupyter/kernel-edbc0465-7288-4d8f-a2d1-1e5c98d5e9de.json'"
     ]
    }
   ],
   "source": [
    "f = sys.argv[1] #'../../output/dlpc_highconc_chain.txt'\n",
    "tail_length = float(sys.argv[2]) #1.54 + 1.265 * 12\n",
    "vole = float(sys.argv[3]) #667.)\n",
    "flatchain = analysis.curvefitter.load_chain(f)\n",
    "figures_dir = sys.argv[6] + '/reports/figures/'\n",
    "output_dir = sys.argv[6] + '/output/'\n",
    "lab = sys.argv[4] #'dlpc'\n",
    "num = sys.argv[5]\n",
    "f = open(output_dir + sys.argv[4] + '/vh.txt', 'r')\n",
    "for line in f:\n",
    "    k = line\n",
    "l = k.split('$')[1].split('^')[0]\n",
    "head_vol = float(l)\n",
    "def get_value(file):\n",
    "    f = open(output_dir + lab + '/' + file + '.txt', 'r')\n",
    "    for line in f:\n",
    "        k = line\n",
    "    l = k.split('$')[1].split('^')[0]\n",
    "    return float(l)"
   ]
  },
  {
   "cell_type": "code",
   "execution_count": 6,
   "metadata": {
    "scrolled": false
   },
   "outputs": [],
   "source": [
    "# plotting pdfs\n",
    "import corner\n",
    "\n",
    "mpl.rcParams['axes.labelsize']=22\n",
    "mpl.rcParams['xtick.labelsize']=14\n",
    "mpl.rcParams['ytick.labelsize']=14\n",
    "\n",
    "label=['θ$_t$/°', r'ϕ$_t/\\times10^{-2}$', r'ϕ$_h/\\times10^{-2}$', 'σ$_t$/Å']\n",
    "\n",
    "new_flat = np.zeros((flatchain.shape[0] * flatchain.shape[1], 4))\n",
    "a = (vole * (1 - flatchain[:, :, 3]) * get_value('head5')) \n",
    "b = (get_value('vh') * tail_length * (1 - flatchain[:, :, 2]))\n",
    "angle3 = a / b\n",
    "\n",
    "new_flat[:, 0] = np.rad2deg(np.arccos(angle3.flatten()))\n",
    "new_flat[:, 1] = flatchain[:, :, 2].flatten()\n",
    "new_flat[:, 2] = flatchain[:, :, 3].flatten()\n",
    "new_flat[:, 3] = flatchain[:, :, 1].flatten()\n",
    "\n",
    "\n",
    "plt1 = corner.corner(new_flat, max_n_ticks=3, labels=label)\n",
    "plt.savefig('{}{}3_neutron_corner{}.png'.format(figures_dir, lab, num), dpi=600)\n",
    "plt.close()"
   ]
  },
  {
   "cell_type": "code",
   "execution_count": null,
   "metadata": {},
   "outputs": [],
   "source": []
  }
 ],
 "metadata": {
  "kernelspec": {
   "display_name": "Python [conda env:asfarm_2018]",
   "language": "python",
   "name": "conda-env-asfarm_2018-py"
  },
  "language_info": {
   "codemirror_mode": {
    "name": "ipython",
    "version": 3
   },
   "file_extension": ".py",
   "mimetype": "text/x-python",
   "name": "python",
   "nbconvert_exporter": "python",
   "pygments_lexer": "ipython3",
   "version": "3.6.5"
  },
  "latex_envs": {
   "LaTeX_envs_menu_present": true,
   "autoclose": false,
   "autocomplete": true,
   "bibliofile": "biblio.bib",
   "cite_by": "apalike",
   "current_citInitial": 1,
   "eqLabelWithNumbers": true,
   "eqNumInitial": 1,
   "hotkeys": {
    "equation": "Ctrl-E",
    "itemize": "Ctrl-I"
   },
   "labels_anchors": false,
   "latex_user_defs": false,
   "report_style_numbering": false,
   "user_envs_cfg": false
  }
 },
 "nbformat": 4,
 "nbformat_minor": 2
}
