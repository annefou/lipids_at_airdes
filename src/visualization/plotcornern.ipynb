{
 "cells": [
  {
   "cell_type": "code",
   "execution_count": null,
   "metadata": {},
   "outputs": [],
   "source": [
    "import matplotlib.pyplot as plt\n",
    "import matplotlib as mpl\n",
    "import seaborn as sns; sns.set('paper', palette='colorblind')\n",
    "import numpy as np\n",
    "from refnx import analysis\n",
    "import sys"
   ]
  },
  {
   "cell_type": "code",
   "execution_count": null,
   "metadata": {},
   "outputs": [],
   "source": [
    "f = sys.argv[1] #'../../output/dlpc_highconc_chain.txt'\n",
    "tail_length = 1.54 + 1.265 * int(sys.argv[2]) \n",
    "flatchain = analysis.curvefitter.load_chain(f)\n",
    "figures_dir = '../../reports/figures/'\n",
    "output_dir = '../../output/'\n",
    "lab = sys.argv[3] #'dlpc'\n",
    "num = sys.argv[4]\n",
    "def get_value(file, sp):\n",
    "    f = open(output_dir + lab + '/' + file + sp + '.txt', 'r')\n",
    "    for line in f:\n",
    "        k = line\n",
    "    l = k.split('$')[1].split('^')[0]\n",
    "    return float(l)"
   ]
  },
  {
   "cell_type": "code",
   "execution_count": null,
   "metadata": {
    "scrolled": false
   },
   "outputs": [],
   "source": [
    "# plotting pdfs\n",
    "import corner\n",
    "\n",
    "mpl.rcParams['axes.labelsize']=22\n",
    "mpl.rcParams['xtick.labelsize']=14\n",
    "mpl.rcParams['ytick.labelsize']=14\n",
    "mpl.rcParams['axes.linewidth'] = 1\n",
    "mpl.rcParams['axes.edgecolor'] = 'k'\n",
    "\n",
    "label=['θ$_t$/°', r'ϕ$_h/\\times10^{-2}$', 'σ$_{t,h,s}$/Å']\n",
    "\n",
    "print(flatchain.shape)\n",
    "\n",
    "new_flat = np.zeros((flatchain.shape[0]*flatchain.shape[1], 3))\n",
    "\n",
    "new_flat[:, 0] = np.rad2deg(np.arccos(flatchain[:, :, 1].flatten()))\n",
    "new_flat[:, 1] = (1 - ((get_value('vh', '') * flatchain[:, :, 1].flatten() * tail_length) / (\n",
    "    get_value('head', '') * get_value('vt', '')))) * 100\n",
    "new_flat[:, 2] = flatchain[:, :, 2].flatten()\n",
    "print(new_flat.shape)\n",
    "\n",
    "\n",
    "plt1 = corner.corner(new_flat, max_n_ticks=3, labels=label)\n",
    "plt.savefig('{}{}{}_neutron_corner.pdf'.format(figures_dir, lab, num), dpi=600)\n",
    "plt.close()"
   ]
  },
  {
   "cell_type": "code",
   "execution_count": null,
   "metadata": {},
   "outputs": [],
   "source": []
  }
 ],
 "metadata": {
  "kernelspec": {
   "display_name": "Python [conda env:sim_v_trad]",
   "language": "python",
   "name": "conda-env-sim_v_trad-py"
  },
  "language_info": {
   "codemirror_mode": {
    "name": "ipython",
    "version": 3
   },
   "file_extension": ".py",
   "mimetype": "text/x-python",
   "name": "python",
   "nbconvert_exporter": "python",
   "pygments_lexer": "ipython3",
   "version": "3.7.0"
  },
  "latex_envs": {
   "LaTeX_envs_menu_present": true,
   "autoclose": false,
   "autocomplete": true,
   "bibliofile": "biblio.bib",
   "cite_by": "apalike",
   "current_citInitial": 1,
   "eqLabelWithNumbers": true,
   "eqNumInitial": 1,
   "hotkeys": {
    "equation": "Ctrl-E",
    "itemize": "Ctrl-I"
   },
   "labels_anchors": false,
   "latex_user_defs": false,
   "report_style_numbering": false,
   "user_envs_cfg": false
  }
 },
 "nbformat": 4,
 "nbformat_minor": 2
}
