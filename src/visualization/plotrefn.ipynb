{
 "cells": [
  {
   "cell_type": "code",
   "execution_count": 1,
   "metadata": {},
   "outputs": [],
   "source": [
    "import matplotlib.pyplot as plt\n",
    "import matplotlib as mpl\n",
    "import seaborn as sns; sns.set('paper', palette='colorblind')\n",
    "import numpy as np\n",
    "from refnx import analysis\n",
    "import sys\n",
    "from scipy.stats.mstats import mquantiles"
   ]
  },
  {
   "cell_type": "code",
   "execution_count": null,
   "metadata": {},
   "outputs": [],
   "source": [
    "n = len(sys.argv)\n",
    "import os\n",
    "cwd = os.getcwd()\n",
    "figures_dir = cwd + '/../../reports/figures/'"
   ]
  },
  {
   "cell_type": "code",
   "execution_count": 6,
   "metadata": {},
   "outputs": [
    {
     "ename": "NameError",
     "evalue": "name 'n' is not defined",
     "output_type": "error",
     "traceback": [
      "\u001b[0;31m---------------------------------------------------------------------------\u001b[0m",
      "\u001b[0;31mNameError\u001b[0m                                 Traceback (most recent call last)",
      "\u001b[0;32m<ipython-input-6-4026ff41a8d4>\u001b[0m in \u001b[0;36m<module>\u001b[0;34m()\u001b[0m\n\u001b[1;32m     41\u001b[0m \u001b[0mgs\u001b[0m \u001b[0;34m=\u001b[0m \u001b[0mmpl\u001b[0m\u001b[0;34m.\u001b[0m\u001b[0mgridspec\u001b[0m\u001b[0;34m.\u001b[0m\u001b[0mGridSpec\u001b[0m\u001b[0;34m(\u001b[0m\u001b[0;36m1\u001b[0m\u001b[0;34m,\u001b[0m \u001b[0;36m3\u001b[0m\u001b[0;34m,\u001b[0m \u001b[0mwidth_ratios\u001b[0m\u001b[0;34m=\u001b[0m\u001b[0;34m[\u001b[0m\u001b[0;36m2\u001b[0m\u001b[0;34m,\u001b[0m \u001b[0;36m1\u001b[0m\u001b[0;34m,\u001b[0m \u001b[0;36m1\u001b[0m\u001b[0;34m]\u001b[0m\u001b[0;34m)\u001b[0m\u001b[0;34m\u001b[0m\u001b[0m\n\u001b[1;32m     42\u001b[0m \u001b[0mk\u001b[0m \u001b[0;34m=\u001b[0m \u001b[0;36m0\u001b[0m\u001b[0;34m\u001b[0m\u001b[0m\n\u001b[0;32m---> 43\u001b[0;31m \u001b[0;32mfor\u001b[0m \u001b[0mi\u001b[0m \u001b[0;32min\u001b[0m \u001b[0mrange\u001b[0m\u001b[0;34m(\u001b[0m\u001b[0;36m0\u001b[0m\u001b[0;34m,\u001b[0m \u001b[0mint\u001b[0m\u001b[0;34m(\u001b[0m\u001b[0mn\u001b[0m\u001b[0;34m)\u001b[0m\u001b[0;34m-\u001b[0m\u001b[0;36m2\u001b[0m\u001b[0;34m,\u001b[0m \u001b[0;36m2\u001b[0m\u001b[0;34m)\u001b[0m\u001b[0;34m:\u001b[0m\u001b[0;34m\u001b[0m\u001b[0m\n\u001b[0m\u001b[1;32m     44\u001b[0m     \u001b[0mdata\u001b[0m \u001b[0;34m=\u001b[0m \u001b[0mnp\u001b[0m\u001b[0;34m.\u001b[0m\u001b[0mloadtxt\u001b[0m\u001b[0;34m(\u001b[0m\u001b[0msys\u001b[0m\u001b[0;34m.\u001b[0m\u001b[0margv\u001b[0m\u001b[0;34m[\u001b[0m\u001b[0mi\u001b[0m\u001b[0;34m+\u001b[0m\u001b[0;36m1\u001b[0m\u001b[0;34m]\u001b[0m\u001b[0;34m)\u001b[0m\u001b[0;34m\u001b[0m\u001b[0m\n\u001b[1;32m     45\u001b[0m     \u001b[0mplotref\u001b[0m\u001b[0;34m(\u001b[0m\u001b[0mdata\u001b[0m\u001b[0;34m,\u001b[0m \u001b[0mgs\u001b[0m\u001b[0;34m[\u001b[0m\u001b[0;36m0\u001b[0m\u001b[0;34m,\u001b[0m \u001b[0;36m0\u001b[0m\u001b[0;34m]\u001b[0m\u001b[0;34m,\u001b[0m \u001b[0ml\u001b[0m\u001b[0;34m[\u001b[0m\u001b[0mk\u001b[0m\u001b[0;34m]\u001b[0m\u001b[0;34m)\u001b[0m\u001b[0;34m\u001b[0m\u001b[0m\n",
      "\u001b[0;31mNameError\u001b[0m: name 'n' is not defined"
     ]
    },
    {
     "data": {
      "text/plain": [
       "<Figure size 1440x432 with 0 Axes>"
      ]
     },
     "metadata": {},
     "output_type": "display_data"
    }
   ],
   "source": [
    "#plotting reflectometry\n",
    "def plotref(data, gs, offset):\n",
    "    ax = plt.subplot(gs)\n",
    "    ax.errorbar(data[0], data[1] * offset, yerr=data[2] * offset, linestyle='', marker='s', markersize=5, \n",
    "                markeredgecolor='k', markerfacecolor='k', ecolor='k')\n",
    "    ax.plot(data[0], data[3] * offset, linewidth=4)\n",
    "    for i in range(4, data.shape[0]):\n",
    "        ax.plot(data[0], data[i] * offset, color='k', linewidth=2, alpha=0.005)\n",
    "    ax.set_ylabel(r'$Rq^4$/Å$^{-4}$')\n",
    "    ax.set_yscale('log')\n",
    "    ax.set_xlabel(r'$q$/Å$^{-1}$')\n",
    "    \n",
    "def plotsld(data, gs, offset, label):\n",
    "    ax = plt.subplot(gs)\n",
    "    z = data[0]\n",
    "    true_sld = data[1]\n",
    "    ax.plot(z, true_sld + offset, linewidth=4)\n",
    "    for i in range(2, data.shape[0]):\n",
    "        sld = data[i]\n",
    "        ax.plot(z, sld + offset, linewidth=2, alpha=0.05)\n",
    "    ax.text(0.80, 0.9, '(' + label + ')', fontsize=30, transform=ax.transAxes)\n",
    "    ax.set_xlabel(r'$z$/Å')\n",
    "    ax.set_ylabel(r'SLD/$10^{-6}$Å$^{-2}$')\n",
    "    return plt\n",
    "\n",
    "def plothist(tohist, gs, label, name):\n",
    "    ax = plt.subplot(gs)\n",
    "    a = mquantiles(tohist, prob=[0.025, 0.5, 0.975])\n",
    "    ax.hist(tohist, density=True, bins=20)\n",
    "    ax.set_ylabel('PDF({}-$V_h$)'.format(name))\n",
    "    ax.set_xlabel('{}-$V_h$/Å$^3$'.format(name))\n",
    "    ax.set_xticks([a[0], a[1], a[2]])\n",
    "    ax.set_xticklabels(['{:.1f}'.format(a[0]), '{:.1f}'.format(a[1]), '{:.1f}'.format(a[2])])\n",
    "\n",
    "mpl.rcParams['axes.labelsize']=28\n",
    "mpl.rcParams['xtick.labelsize']=20\n",
    "mpl.rcParams['ytick.labelsize']=20\n",
    "\n",
    "l = [1, 10, 100, 1000, 10000]\n",
    "fig = plt.figure(figsize=(15, 6))\n",
    "gs = mpl.gridspec.GridSpec(1, 2, width_ratios=[2, 1]) \n",
    "k = 0\n",
    "for i in range(0, int(n)-4, 2):\n",
    "    data = np.loadtxt(sys.argv[i+1])\n",
    "    plotref(data, gs[0, 0], l[k])\n",
    "    k += 1\n",
    "f = 0\n",
    "for i in range(1, int(n)-3, 2):\n",
    "    data = np.loadtxt(sys.argv[i+1])\n",
    "    plotsld(data, gs[0, 1], f, sys.argv[n-2])\n",
    "    f += 5\n",
    "plt.tight_layout()\n",
    "plt.savefig('{}{}_all_data.png'.format(figures_dir, sys.argv[n-1]), dpi=600)\n",
    "plt.close()\n",
    "#plt.show()"
   ]
  },
  {
   "cell_type": "code",
   "execution_count": null,
   "metadata": {},
   "outputs": [],
   "source": []
  }
 ],
 "metadata": {
  "kernelspec": {
   "display_name": "Python [conda env:asfarm_2018]",
   "language": "python",
   "name": "conda-env-asfarm_2018-py"
  },
  "language_info": {
   "codemirror_mode": {
    "name": "ipython",
    "version": 3
   },
   "file_extension": ".py",
   "mimetype": "text/x-python",
   "name": "python",
   "nbconvert_exporter": "python",
   "pygments_lexer": "ipython3",
   "version": "3.6.5"
  },
  "latex_envs": {
   "LaTeX_envs_menu_present": true,
   "autoclose": false,
   "autocomplete": true,
   "bibliofile": "biblio.bib",
   "cite_by": "apalike",
   "current_citInitial": 1,
   "eqLabelWithNumbers": true,
   "eqNumInitial": 1,
   "hotkeys": {
    "equation": "Ctrl-E",
    "itemize": "Ctrl-I"
   },
   "labels_anchors": false,
   "latex_user_defs": false,
   "report_style_numbering": false,
   "user_envs_cfg": false
  }
 },
 "nbformat": 4,
 "nbformat_minor": 2
}
