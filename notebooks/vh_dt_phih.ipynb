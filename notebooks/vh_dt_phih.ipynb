{
 "cells": [
  {
   "cell_type": "code",
   "execution_count": 1,
   "metadata": {},
   "outputs": [
    {
     "name": "stdout",
     "output_type": "stream",
     "text": [
      "WARNING, Using slow reflectivity calculation\n",
      "WARNING, Using slow reflectivity calculation\n"
     ]
    }
   ],
   "source": [
    "# Standard libraries to import\n",
    "from __future__ import division\n",
    "import numpy as np \n",
    "import scipy\n",
    "from scipy.stats.mstats import mquantiles\n",
    "import matplotlib as mpl\n",
    "import matplotlib.pyplot as plt\n",
    "\n",
    "# The refnx library\n",
    "import refnx\n",
    "from refnx.reflect import structure, ReflectModel, SLD\n",
    "from refnx.dataset import ReflectDataset\n",
    "from refnx.analysis import Transform, CurveFitter, Objective, GlobalObjective, Parameter\n",
    "\n",
    "# The custom class to constain the monolayer model. \n",
    "import sys\n",
    "sys.path.insert(0, '../src/models')\n",
    "import mol_vol as mv\n",
    "sys.path.insert(0, '../src/tools')\n",
    "import helper"
   ]
  },
  {
   "cell_type": "code",
   "execution_count": 2,
   "metadata": {},
   "outputs": [],
   "source": [
    "mpl.rcParams['axes.labelsize']=44\n",
    "mpl.rcParams['xtick.labelsize']=32\n",
    "mpl.rcParams['ytick.labelsize']=32\n",
    "mpl.rcParams['grid.linestyle'] = ''\n",
    "mpl.rcParams['axes.grid'] = True\n",
    "mpl.rcParams['axes.facecolor'] = 'w'\n",
    "mpl.rcParams['axes.linewidth'] = 1\n",
    "mpl.rcParams['axes.edgecolor'] = 'k'\n",
    "mpl.rcParams['xtick.bottom'] = True\n",
    "mpl.rcParams['ytick.left'] = True\n",
    "mpl.rcParams['legend.fontsize'] = 32"
   ]
  },
  {
   "cell_type": "code",
   "execution_count": 3,
   "metadata": {},
   "outputs": [],
   "source": [
    "figures_dir = '../reports/figures/'"
   ]
  },
  {
   "cell_type": "code",
   "execution_count": 11,
   "metadata": {
    "scrolled": false
   },
   "outputs": [],
   "source": [
    "fig = plt.figure(figsize=(20, 22))\n",
    "gs = mpl.gridspec.GridSpec(4, 2) \n",
    "ax1 = plt.subplot(gs[0, 0])\n",
    "ax2 = plt.subplot(gs[1, 0])\n",
    "ax3 = plt.subplot(gs[2, 0])\n",
    "ax4 = plt.subplot(gs[3, 0])\n",
    "ax5 = plt.subplot(gs[:2, 1])\n",
    "ax6 = plt.subplot(gs[2:, 1])\n",
    "dlpc_vh = np.loadtxt('{}{}_vh.txt'.format(figures_dir, 'dlpc'))\n",
    "weights = np.ones_like(dlpc_vh)/float(\n",
    "    len(dlpc_vh))\n",
    "ax1.hist(dlpc_vh, bins=50, histtype='stepfilled', \n",
    "         color='k', weights=weights)\n",
    "ax1.text(0.02, 0.96, '(a)', fontsize=44, transform=ax1.transAxes, ha='left', va='top')\n",
    "ax1.set_ylabel('PDF(DLPC-$V_h$)')\n",
    "ax1.set_xlabel('DLPC-$V_h$/Å$^3$')\n",
    "a = mquantiles(dlpc_vh, prob=[0.025, 0.5, 0.975])\n",
    "ax1.set_xticks([a[0], a[1], a[2]])\n",
    "ax1.set_xlim([np.min(dlpc_vh)-0.01, \n",
    "              np.max(dlpc_vh)+0.01])\n",
    "ax1.set_xticklabels(['{:.1f}'.format(a[0]), '{:.1f}'.format(a[1]), '{:.1f}'.format(a[2])])\n",
    "dmpc_vh = np.loadtxt('{}{}_vh.txt'.format(figures_dir, 'dmpc'))\n",
    "weights = np.ones_like(dmpc_vh)/float(\n",
    "    len(dmpc_vh))\n",
    "ax2.hist(dmpc_vh, bins=50, histtype='stepfilled', \n",
    "         color='k', weights=weights)\n",
    "ax2.text(0.02, 0.96, '(b)', fontsize=44, transform=ax2.transAxes, ha='left', va='top')\n",
    "ax2.set_ylabel('PDF(DMPC-$V_h$)')\n",
    "ax2.set_xlabel('DMPC-$V_h$/Å$^3$')\n",
    "a = mquantiles(dmpc_vh, prob=[0.025, 0.5, 0.975])\n",
    "ax2.set_xticks([a[0], a[1], a[2]])\n",
    "ax2.set_xlim([np.min(dmpc_vh)-0.01, \n",
    "              np.max(dmpc_vh)+0.01])\n",
    "ax2.set_xticklabels(['{:.1f}'.format(a[0]), '{:.1f}'.format(a[1]), '{:.1f}'.format(a[2])])\n",
    "dppc_vh = np.loadtxt('{}{}_vh.txt'.format(figures_dir, 'dppc'))\n",
    "weights = np.ones_like(dppc_vh)/float(\n",
    "    len(dppc_vh))\n",
    "ax3.hist(dppc_vh, bins=50, histtype='stepfilled', \n",
    "         color='k', weights=weights)\n",
    "ax3.text(0.02, 0.96, '(c)', fontsize=44, transform=ax3.transAxes, ha='left', va='top')\n",
    "ax3.set_ylabel('PDF(DPPC-$V_h$)')\n",
    "ax3.set_xlabel('DPPC-$V_h$/Å$^3$')\n",
    "a = mquantiles(dppc_vh, prob=[0.025, 0.5, 0.975])\n",
    "ax3.set_xticks([a[0], a[1], a[2]])\n",
    "ax3.set_xlim([np.min(dppc_vh)-0.01, \n",
    "              np.max(dppc_vh)+0.01])\n",
    "ax3.set_xticklabels(['{:.1f}'.format(a[0]), '{:.1f}'.format(a[1]), '{:.1f}'.format(a[2])])\n",
    "dmpg_vh = np.loadtxt('{}{}_vh.txt'.format(figures_dir, 'dmpg'))\n",
    "weights = np.ones_like(dmpg_vh)/float(\n",
    "    len(dmpg_vh))\n",
    "ax4.hist(dmpg_vh, bins=50, histtype='stepfilled', \n",
    "         color='k', weights=weights)\n",
    "ax4.text(0.02, 0.96, '(d)', fontsize=44, transform=ax4.transAxes, ha='left', va='top')\n",
    "ax4.set_ylabel('PDF(DMPG-$V_h$)')\n",
    "ax4.set_xlabel('DMPG-$V_h$/Å$^3$')\n",
    "a = mquantiles(dmpg_vh, prob=[0.025, 0.5, 0.975])\n",
    "ax4.set_xticks([a[0], a[1], a[2]])\n",
    "ax4.set_xlim([np.min(dmpg_vh)-0.01, \n",
    "              np.max(dmpg_vh)+0.01])\n",
    "ax4.set_xticklabels(['{:.1f}'.format(a[0]), '{:.1f}'.format(a[1]), '{:.1f}'.format(a[2])])\n",
    "dlpc_t = np.loadtxt('{}{}_tailplot.txt'.format(figures_dir, 'dlpc'))\n",
    "dmpc_t = np.loadtxt('{}{}_tailplot.txt'.format(figures_dir, 'dmpc'))\n",
    "dppc_t = np.loadtxt('{}{}_tailplot.txt'.format(figures_dir, 'dppc'))\n",
    "dmpg_t = np.loadtxt('{}{}_tailplot.txt'.format(figures_dir, 'dmpg'))\n",
    "ax5.plot(dlpc_t[0], dlpc_t[1], c='k', ls='-', marker='o', ms=20, mfc='none', mew=4)\n",
    "ax5.plot(dmpc_t[0], dmpc_t[1], c='k', ls='--', marker='s', ms=20, mfc='none', mew=4)\n",
    "ax5.plot(dppc_t[0], dppc_t[1], c='k', ls='-.', marker='v', ms=20, mfc='none', mew=4)\n",
    "ax5.plot(dmpg_t[0], dmpg_t[1], c='k', ls=':', marker='x', ms=20, mew=4)\n",
    "ax5.text(0.98, 0.96, '(e)', fontsize=44, transform=ax5.transAxes, ha='right', va='top')\n",
    "ax5.set_xlabel(r'Surface Pressure/mNm$^{-1}$')\n",
    "ax5.set_ylabel(r'$d_t$/Å')\n",
    "ax5.set_ylim([5, 20])\n",
    "ax5.set_xticks(range(15, 45, 5))\n",
    "dlpc_s = np.loadtxt('{}{}_solhplot.txt'.format(figures_dir, 'dlpc'))\n",
    "dmpc_s = np.loadtxt('{}{}_solhplot.txt'.format(figures_dir, 'dmpc'))\n",
    "dppc_s = np.loadtxt('{}{}_solhplot.txt'.format(figures_dir, 'dppc'))\n",
    "dmpg_s = np.loadtxt('{}{}_solhplot.txt'.format(figures_dir, 'dmpg'))\n",
    "ax6.plot(dlpc_s[0], dlpc_s[1], c='k', ls='-', marker='o', ms=20, mfc='none', mew=4)\n",
    "ax6.plot(dmpc_s[0], dmpc_s[1], c='k', ls='--', marker='s', ms=20, mfc='none', mew=4)\n",
    "ax6.plot(dppc_s[0], dppc_s[1], c='k', ls='-.', marker='v', ms=20, mfc='none', mew=4)\n",
    "ax6.plot(dmpg_s[0], dmpg_s[1], c='k', ls=':', marker='x', ms=20, mew=4)\n",
    "ax6.text(0.98, 0.96, '(f)', fontsize=44, transform=ax6.transAxes, ha='right', va='top')\n",
    "ax6.set_xlabel(r'Surface Pressure/mNm$^{-1}$')\n",
    "ax6.set_ylabel(r'$\\phi_h$/$\\times 10^{-2}$')\n",
    "ax6.set_ylim([35, 85])\n",
    "ax6.set_xticks(range(15, 45, 5))\n",
    "plt.tight_layout()\n",
    "plt.savefig('{}vh_dt_phih.pdf'.format(figures_dir))\n",
    "plt.close()"
   ]
  },
  {
   "cell_type": "code",
   "execution_count": null,
   "metadata": {},
   "outputs": [],
   "source": []
  }
 ],
 "metadata": {
  "kernelspec": {
   "display_name": "Python 3",
   "language": "python",
   "name": "python3"
  },
  "language_info": {
   "codemirror_mode": {
    "name": "ipython",
    "version": 3
   },
   "file_extension": ".py",
   "mimetype": "text/x-python",
   "name": "python",
   "nbconvert_exporter": "python",
   "pygments_lexer": "ipython3",
   "version": "3.7.2"
  }
 },
 "nbformat": 4,
 "nbformat_minor": 2
}
