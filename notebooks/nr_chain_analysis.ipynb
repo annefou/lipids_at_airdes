{
 "cells": [
  {
   "cell_type": "markdown",
   "metadata": {},
   "source": [
    "# NR reflectometry analysis\n",
    "\n",
    "This is a custom Python analysis notebook for the analysis of the chain output by the `lipid_nr` notebook. \n",
    "\n",
    "It is first necessary to import the necessary modules for the analysis."
   ]
  },
  {
   "cell_type": "code",
   "execution_count": null,
   "metadata": {},
   "outputs": [],
   "source": [
    "# Standard libraries to import\n",
    "from __future__ import division\n",
    "import numpy as np \n",
    "import scipy\n",
    "from scipy.stats.mstats import mquantiles\n",
    "import matplotlib as mpl\n",
    "import matplotlib.pyplot as plt\n",
    "\n",
    "# The refnx library\n",
    "import refnx\n",
    "from refnx.reflect import structure, ReflectModel, SLD\n",
    "from refnx.dataset import ReflectDataset\n",
    "from refnx.analysis import Transform, CurveFitter, Objective, GlobalObjective, Parameter\n",
    "\n",
    "# The custom class to constain the monolayer model. \n",
    "import sys\n",
    "sys.path.insert(0, '../src/models')\n",
    "import mol_vol as mv\n",
    "sys.path.insert(0, '../src/tools')\n",
    "import helper"
   ]
  },
  {
   "cell_type": "markdown",
   "metadata": {},
   "source": [
    "These are parameters to make the plots pretty."
   ]
  },
  {
   "cell_type": "code",
   "execution_count": null,
   "metadata": {},
   "outputs": [],
   "source": [
    "mpl.rcParams['axes.labelsize']=44\n",
    "mpl.rcParams['xtick.labelsize']=32\n",
    "mpl.rcParams['ytick.labelsize']=32\n",
    "mpl.rcParams['grid.linestyle'] = ''\n",
    "mpl.rcParams['axes.grid'] = True\n",
    "mpl.rcParams['axes.facecolor'] = 'w'\n",
    "mpl.rcParams['axes.linewidth'] = 1\n",
    "mpl.rcParams['axes.edgecolor'] = 'k'\n",
    "mpl.rcParams['xtick.bottom'] = True\n",
    "mpl.rcParams['ytick.left'] = True\n",
    "mpl.rcParams['legend.fontsize'] = 32"
   ]
  },
  {
   "cell_type": "markdown",
   "metadata": {},
   "source": [
    "When running the `Makefile` in the top directory of this ESI, a this notebook is converted to a Python script and running for four different lipids, each at four surface pressures. The necessary variables are assigned here. "
   ]
  },
  {
   "cell_type": "code",
   "execution_count": null,
   "metadata": {},
   "outputs": [],
   "source": [
    "# The type of lipid being investigated\n",
    "lipid = sys.argv[1]\n",
    "length = int(sys.argv[2])\n",
    "sp = sys.argv[3]\n",
    "label = sys.argv[4]"
   ]
  },
  {
   "cell_type": "markdown",
   "metadata": {},
   "source": [
    "Here we assign the directories that contain the data, as well as where the figures and analysis outputs should be stored. If you directory structure does not match that in the GitHub repository these should be adapted. "
   ]
  },
  {
   "cell_type": "code",
   "execution_count": null,
   "metadata": {},
   "outputs": [],
   "source": [
    "# Relative directory locations\n",
    "data_dir = '../data/processed/{}_'.format(lipid)\n",
    "figures_dir = '../reports/figures/'\n",
    "analysis_dir = '../output/'"
   ]
  },
  {
   "cell_type": "markdown",
   "metadata": {},
   "source": [
    "In order for the analysis to be exactly reproducible the same package versions must be used. The conda packaging manager, and pip, can be used to ensure this is the case. The versions of refnx and scipy used original are:\n",
    "\n",
    "```\n",
    "refnx.version.full_version = 0.0.17\n",
    "scipy.version.version = 1.1.0\n",
    "```"
   ]
  },
  {
   "cell_type": "code",
   "execution_count": null,
   "metadata": {},
   "outputs": [],
   "source": [
    "refnx.version.full_version, scipy.version.version"
   ]
  },
  {
   "cell_type": "markdown",
   "metadata": {},
   "source": [
    "## Setup of the processing of the MCMC chain\n",
    "\n",
    "For details see the `lipid_xrr` notebook."
   ]
  },
  {
   "cell_type": "code",
   "execution_count": null,
   "metadata": {},
   "outputs": [],
   "source": [
    "# Reading datasets into refnx format\n",
    "dataset1 = ReflectDataset('{}nr_h_sp_{}.dat'.format(data_dir, sp))\n",
    "dataset2 = ReflectDataset('{}nr_hd_sp_{}.dat'.format(data_dir, sp))\n",
    "\n",
    "datasets = [dataset1, dataset2]\n",
    "\n",
    "head = {'C': 10, 'H': 18, 'O': 8, 'N': 1, 'P': 1}\n",
    "tail = {'C': length * 2, 'D': length * 4 + 2}\n",
    "\n",
    "head_sl = mv.get_scattering_length(head, neutron=True)\n",
    "tail_sl = mv.get_scattering_length(tail, neutron=True)\n",
    "\n",
    "solvent_sld = [0.43, 3.15]\n",
    "super_sld = [0, 0]\n",
    "thick_heads = 13.1117\n",
    "tail_length = 1.54 + 1.265 * length\n",
    "vols = [200.497, 891.]\n",
    "\n",
    "lipid_1 = mv.VolMono(head_sl, thick_heads, tail_sl, tail_length, vols, \n",
    "                      reverse_monolayer=True, name='{}_1'.format(lipid))\n",
    "lipid_2 = mv.VolMono(head_sl, thick_heads, tail_sl, tail_length, vols, \n",
    "                      reverse_monolayer=True, name='{}_2'.format(lipid))\n",
    "\n",
    "# build the structures\n",
    "air = SLD(0, '')\n",
    "des_1 = SLD(solvent_sld[0], '')\n",
    "des_2 = SLD(solvent_sld[1], '')\n",
    "\n",
    "structure_lipid_1 = air(0, 0) | lipid_1 | des_1(0, 0)\n",
    "structure_lipid_2 = air(0, 0) | lipid_2 | des_2(0, 0)\n",
    "\n",
    "def get_value(file):\n",
    "    f = open(analysis_dir + lipid + '/' + file + '.txt', 'r')\n",
    "    for line in f:\n",
    "        k = line\n",
    "    if '^' in k:\n",
    "        l = k.split('$')[1].split('^')[0]\n",
    "    else:\n",
    "        l = k.split('$')[1].split('\\\\pm')[0]\n",
    "    return float(l)\n",
    "\n",
    "lipid_1.head_mol_vol.setp(get_value('vh'), vary=False)\n",
    "lipid_1.tail_mol_vol.setp(get_value('vt'), vary=False)\n",
    "lipid_1.thick_tails.setp(get_value('tail{}'.format(sp)), vary=True, bounds=(5, tail_length))\n",
    "lipid_1.rough_head_tail.constraint = structure_lipid_1[-1].rough\n",
    "lipid_1.rough_preceding_mono.constraint = structure_lipid_1[-1].rough\n",
    "lipid_1.phih.constraint = 1 - (lipid_1.head_mol_vol * lipid_1.thick_tails / \n",
    "                               (lipid_1.tail_mol_vol * lipid_1.thick_heads))\n",
    "lipid_1.thick_heads.setp(get_value('head'), vary=False)\n",
    "structure_lipid_1[-1].rough.setp(get_value('rough{}'.format(sp)), vary=True, bounds=(2.5, 6))\n",
    "\n",
    "lipid_2.head_mol_vol.constraint = lipid_1.head_mol_vol\n",
    "lipid_2.tail_mol_vol.constraint = lipid_1.tail_mol_vol\n",
    "lipid_2.thick_tails.constraint = lipid_1.thick_tails\n",
    "lipid_2.rough_head_tail.constraint = structure_lipid_1[-1].rough\n",
    "lipid_2.rough_preceding_mono.constraint = structure_lipid_1[-1].rough\n",
    "lipid_2.phih.constraint = lipid_1.phih\n",
    "lipid_2.thick_heads.constraint = lipid_1.thick_heads\n",
    "structure_lipid_2[-1].rough.constraint = structure_lipid_1[-1].rough\n",
    "\n",
    "model_lipid1 = ReflectModel(structure_lipid_1)\n",
    "model_lipid1.scale.setp(vary=True, bounds=(0.005, 10))\n",
    "model_lipid1.bkg.setp(dataset1.y[-2], vary=False)\n",
    "\n",
    "model_lipid2 = ReflectModel(structure_lipid_2)\n",
    "model_lipid2.scale.setp(vary=True, bounds=(0.005, 10))\n",
    "model_lipid2.bkg.setp(dataset2.y[-2], vary=False)\n",
    "\n",
    "models = [model_lipid1, model_lipid2]\n",
    "structures = [structure_lipid_1, structure_lipid_2]\n",
    "\n",
    "# building the global objective\n",
    "objective_n1 = Objective(model_lipid1, dataset1, transform=Transform('YX4'))\n",
    "objective_n2 = Objective(model_lipid2, dataset2, transform=Transform('YX4'))\n",
    "\n",
    "global_objective = GlobalObjective([objective_n1, objective_n2])"
   ]
  },
  {
   "cell_type": "markdown",
   "metadata": {},
   "source": [
    "The chain is read in by refnx, and processed to assigned it to the global objective. "
   ]
  },
  {
   "cell_type": "code",
   "execution_count": null,
   "metadata": {
    "scrolled": true
   },
   "outputs": [],
   "source": [
    "chain = refnx.analysis.load_chain('{}/{}/{}_chain_neutron.txt'.format(analysis_dir, lipid, sp))\n",
    "\n",
    "processed_chain = refnx.analysis.process_chain(global_objective, chain)"
   ]
  },
  {
   "cell_type": "markdown",
   "metadata": {},
   "source": [
    "The global objective is printed to check it is accurate."
   ]
  },
  {
   "cell_type": "code",
   "execution_count": null,
   "metadata": {
    "scrolled": false
   },
   "outputs": [],
   "source": [
    "print(global_objective)"
   ]
  },
  {
   "cell_type": "markdown",
   "metadata": {},
   "source": [
    "The reflectometry and SLD profile are then plotted. "
   ]
  },
  {
   "cell_type": "code",
   "execution_count": null,
   "metadata": {},
   "outputs": [],
   "source": [
    "fig = plt.figure(figsize=(20, 7.5))\n",
    "gs = mpl.gridspec.GridSpec(1, 3)\n",
    "lines = ['--', '-']\n",
    "contrast = ['hDES', 'hdDES']\n",
    "\n",
    "for i, dataset in enumerate(datasets):\n",
    "    choose = global_objective.pgen(ngen=100)\n",
    "    ax1 = plt.subplot(gs[0, 0:2])\n",
    "    ax2 = plt.subplot(gs[0, 2])\n",
    "    ax1.errorbar(dataset.x, dataset.y*(dataset.x)**4 * 10**(i-1), \n",
    "                 yerr=dataset.y_err*(dataset.x)**4 * 10**(i-1), \n",
    "                 linestyle='', marker='s', markersize=7, markeredgecolor='k', \n",
    "                 markerfacecolor='k', ecolor='k')\n",
    "    for pvec in choose:\n",
    "        global_objective.setp(pvec)\n",
    "        ax1.plot(dataset.x, models[i](dataset.x, x_err=dataset.x_err)*(dataset.x)**4 * 10**(i-1), \n",
    "                 linewidth=4, color='k', ls=lines[i], alpha=0.1)\n",
    "        zs, sld = structures[i].sld_profile()\n",
    "        ax2.plot(zs, sld + i*5, color='k', ls=lines[i], linewidth=2, alpha=0.1)\n",
    "    ax1.plot(dataset.x, models[i](dataset.x, x_err=dataset.x_err)*(dataset.x)**4 * 10**(i-1), \n",
    "                 linewidth=4, color='k', ls=lines[i], label = contrast[i])\n",
    "    ax1.set_ylabel(r'$Rq^4$/Å$^{-4}$')\n",
    "    ax1.set_yscale('log')\n",
    "    ax1.set_xlabel(r'$q$/Å$^{-1}$')\n",
    "    ax2.set_xlabel(r'$z$/Å')\n",
    "    ax2.set_ylabel(r'SLD/$10^{-6}$Å$^{-2}$')\n",
    "ax1.legend(bbox_to_anchor=(0., 1.02, 1.57, .102), loc=3,\n",
    "                ncol=2, mode=\"expand\", borderaxespad=0., frameon=False)\n",
    "ax2.text(0.80, 0.87, '(' + label + ')', fontsize=44, transform=ax2.transAxes)\n",
    "plt.tight_layout()\n",
    "plt.savefig('{}{}_{}n_ref_sld.pdf'.format(figures_dir, lipid, sp))\n",
    "plt.close()"
   ]
  },
  {
   "cell_type": "code",
   "execution_count": null,
   "metadata": {},
   "outputs": [],
   "source": [
    "lab = ['scale{}'.format(sp), 'tail{}'.format(sp), 'rough{}'.format(sp), 'scalea{}'.format(sp)]\n",
    "\n",
    "alpha = 0.05\n",
    "\n",
    "for i in range(0, len(processed_chain)):\n",
    "    len_to = int(processed_chain[i].chain.size/5000)\n",
    "    total_pearsons = open('{}{}/{}_neutron.txt'.format(analysis_dir, lipid, lab[i]), 'w')\n",
    "    stat, p = scipy.stats.shapiro(processed_chain[i].chain[::len_to])\n",
    "    if p > alpha:\n",
    "        print('{} - normal'.format(lab[i]))\n",
    "        a = mquantiles(processed_chain[i].chain.flatten(), prob=[0.025, 0.5])\n",
    "        k = [a[1], a[1] - a[0]]\n",
    "        q = '{:.2f}'.format(k[0])\n",
    "        e = '{:.2f}'.format(k[1])\n",
    "        total_pearsons.write(helper.latex_sym(q, e))\n",
    "        total_pearsons.close()\n",
    "    else:\n",
    "        print('{} - not normal'.format(lab[i]))\n",
    "        a = mquantiles(processed_chain[i].chain.flatten(), prob=[0.025, 0.5, 0.975])\n",
    "        k = [a[1], a[1] - a[0], a[2] - a[1]]\n",
    "        q = '{:.2f}'.format(k[0])\n",
    "        e = '{:.2f}'.format(k[1])        \n",
    "        w = '{:.2f}'.format(k[2])\n",
    "        total_pearsons.write(helper.latex_asym(q, e, w))\n",
    "        total_pearsons.close()\n",
    "    \n",
    "lab2 = ['solh{}'.format(sp)]\n",
    "kl = 1 - ((lipid_1.head_mol_vol.value * processed_chain[1].chain.flatten()) / (lipid_1.tail_mol_vol.value * lipid_1.thick_heads.value))\n",
    "kl = kl * 100\n",
    "for i in range(0, len(lab2)):\n",
    "    len_to = int(kl.size/5000)\n",
    "    total_pearsons = open('{}{}/{}_neutron.txt'.format(analysis_dir, lipid, lab2[i]), 'w')\n",
    "    stat, p = scipy.stats.shapiro(kl[::len_to])\n",
    "    if p > alpha:\n",
    "        print('{} - normal'.format(lab2))\n",
    "        a = mquantiles(kl.flatten(), prob=[0.025, 0.5])\n",
    "        k = [a[1], a[1] - a[0]]\n",
    "        q = '{:.2f}'.format(k[0])\n",
    "        e = '{:.2f}'.format(k[1])\n",
    "        total_pearsons.write(helper.latex_sym(q, e))\n",
    "        total_pearsons.close()\n",
    "    else:\n",
    "        print('{} - not normal'.format(lab2))\n",
    "        a = mquantiles(kl.flatten(), prob=[0.025, 0.5, 0.975])\n",
    "        k = [a[1], a[1] - a[0], a[2] - a[1]]\n",
    "        q = '{:.2f}'.format(k[0])\n",
    "        e = '{:.2f}'.format(k[1])        \n",
    "        w = '{:.2f}'.format(k[2])\n",
    "        total_pearsons.write(helper.latex_asym(q, e, w))\n",
    "        total_pearsons.close()"
   ]
  },
  {
   "cell_type": "markdown",
   "metadata": {},
   "source": [
    "The corner plots for each of the surface pressures is produced, these are presented in the ESI."
   ]
  },
  {
   "cell_type": "code",
   "execution_count": null,
   "metadata": {},
   "outputs": [],
   "source": [
    "# plotting pdfs\n",
    "import corner\n",
    "\n",
    "mpl.rcParams['axes.labelsize']=22\n",
    "mpl.rcParams['xtick.labelsize']=14\n",
    "mpl.rcParams['ytick.labelsize']=14\n",
    "mpl.rcParams['axes.linewidth'] = 1\n",
    "mpl.rcParams['axes.edgecolor'] = 'k'\n",
    "\n",
    "\n",
    "label=['$d_t$/Å', r'ϕ$_h/\\times10^{-2}$', 'σ$_{t,h,s}$/Å']\n",
    "\n",
    "new_flat = np.zeros((processed_chain[0].chain.size, 3))\n",
    "\n",
    "new_flat[:, 0] = processed_chain[1].chain.flatten()\n",
    "new_flat[:, 1] = (1 - ((get_value('vh') * processed_chain[1].chain.flatten()) / (\n",
    "    get_value('head') * get_value('vt')))) * 100\n",
    "new_flat[:, 2] = processed_chain[2].chain.flatten()\n",
    "\n",
    "plt1 = corner.corner(new_flat, max_n_ticks=3, labels=label)\n",
    "plt.savefig('{}{}_{}n_all_corner.pdf'.format(figures_dir, lipid, sp))\n",
    "plt.close()"
   ]
  },
  {
   "cell_type": "markdown",
   "metadata": {},
   "source": [
    "## Bibliography\n",
    "\n",
    "1. Andrew Nelson, Stuart Prescott, Isaac Gresham, & Andrew R. McCluskey. (2018, August 3). refnx/refnx: v0.0.17 (Version v0.0.17). Zenodo. http://doi.org/10.5281/zenodo.1345464"
   ]
  },
  {
   "cell_type": "code",
   "execution_count": null,
   "metadata": {},
   "outputs": [],
   "source": []
  }
 ],
 "metadata": {
  "author": "mes",
  "kernelspec": {
   "display_name": "Python 3",
   "language": "python",
   "name": "python3"
  },
  "language_info": {
   "codemirror_mode": {
    "name": "ipython",
    "version": 3
   },
   "file_extension": ".py",
   "mimetype": "text/x-python",
   "name": "python",
   "nbconvert_exporter": "python",
   "pygments_lexer": "ipython3",
   "version": "3.7.2"
  },
  "latex_envs": {
   "LaTeX_envs_menu_present": true,
   "autoclose": false,
   "autocomplete": true,
   "bibliofile": "biblio.bib",
   "cite_by": "apalike",
   "current_citInitial": 1,
   "eqLabelWithNumbers": true,
   "eqNumInitial": 1,
   "hotkeys": {
    "equation": "Ctrl-E",
    "itemize": "Ctrl-I"
   },
   "labels_anchors": false,
   "latex_user_defs": false,
   "report_style_numbering": false,
   "user_envs_cfg": false
  }
 },
 "nbformat": 4,
 "nbformat_minor": 2
}
