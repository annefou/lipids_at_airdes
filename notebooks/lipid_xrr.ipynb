{
 "cells": [
  {
   "cell_type": "markdown",
   "metadata": {},
   "source": [
    "# X-ray reflectometry analysis\n",
    "\n",
    "This is a custom Python analysis notebook for analysing XRR data using the class `VolMono`, as defined in `src/models/mol_vol.py`, and the refnx [1] package. \n",
    "\n",
    "It is first necessary to import the necessary modules for the analysis."
   ]
  },
  {
   "cell_type": "code",
   "execution_count": null,
   "metadata": {},
   "outputs": [],
   "source": [
    "# Standard libraries to import\n",
    "from __future__ import division\n",
    "import numpy as np \n",
    "import scipy\n",
    "from scipy.stats.mstats import mquantiles\n",
    "import matplotlib as mpl\n",
    "import matplotlib.pyplot as plt\n",
    "\n",
    "# The refnx library\n",
    "import refnx\n",
    "from refnx.reflect import structure, ReflectModel, SLD\n",
    "from refnx.dataset import ReflectDataset\n",
    "from refnx.analysis import Transform, CurveFitter, Objective, GlobalObjective, Parameter\n",
    "\n",
    "# The custom class to constain the monolayer model. \n",
    "import sys\n",
    "sys.path.insert(0, '../src/models')\n",
    "import mol_vol as mv\n",
    "sys.path.insert(0, '../src/tools')\n",
    "import helper"
   ]
  },
  {
   "cell_type": "markdown",
   "metadata": {},
   "source": [
    "When running the `Makefile` in the top directory of this ESI, a this notebook is converted to a Python script and running for four different lipids, each at four surface pressures. The necessary variables are assigned here. "
   ]
  },
  {
   "cell_type": "code",
   "execution_count": null,
   "metadata": {},
   "outputs": [],
   "source": [
    "# The type of lipid being investigated\n",
    "lipid = sys.argv[1]\n",
    "length = int(sys.argv[2])\n",
    "sp1 = sys.argv[3]\n",
    "sp2 = sys.argv[4]\n",
    "sp3 = sys.argv[5]\n",
    "sp4 = sys.argv[6]\n",
    "label = sys.argv[7]"
   ]
  },
  {
   "cell_type": "markdown",
   "metadata": {},
   "source": [
    "Here we assign the directories that contain the data, as well as where the figures and analysis outputs should be stored. If you directory structure does not match that in the GitHub repository these should be adapted. "
   ]
  },
  {
   "cell_type": "code",
   "execution_count": null,
   "metadata": {},
   "outputs": [],
   "source": [
    "# Relative directory locations\n",
    "data_dir = '../data/processed/{}/'.format(lipid)\n",
    "figures_dir = '../reports/figures/'\n",
    "analysis_dir = '../output/'"
   ]
  },
  {
   "cell_type": "markdown",
   "metadata": {},
   "source": [
    "In order for the analysis to be exactly reproducible the same package versions must be used. The conda packaging manager, and pip, can be used to ensure this is the case. The versions of refnx and scipy used original are:\n",
    "\n",
    "```\n",
    "refnx.version.full_version = 0.0.17\n",
    "scipy.version.version = 1.1.0\n",
    "```"
   ]
  },
  {
   "cell_type": "code",
   "execution_count": null,
   "metadata": {},
   "outputs": [],
   "source": [
    "refnx.version.full_version, scipy.version.version"
   ]
  },
  {
   "cell_type": "markdown",
   "metadata": {},
   "source": [
    "## Setup of the analysis\n",
    "\n",
    "The experimental datafiles are then read in and redefined such that all data after $q = 0.6 Å^{-1}$ is ignored as this is considered background. "
   ]
  },
  {
   "cell_type": "code",
   "execution_count": null,
   "metadata": {},
   "outputs": [],
   "source": [
    "# Reading datasets into refnx format\n",
    "dataset1 = helper.data_cutoff(ReflectDataset('{}xrr_sp_{}.dat'.format(data_dir, sp1)), 0.6)\n",
    "dataset2 = helper.data_cutoff(ReflectDataset('{}xrr_sp_{}.dat'.format(data_dir, sp2)), 0.6)\n",
    "dataset3 = helper.data_cutoff(ReflectDataset('{}xrr_sp_{}.dat'.format(data_dir, sp3)), 0.6)\n",
    "dataset4 = helper.data_cutoff(ReflectDataset('{}xrr_sp_{}.dat'.format(data_dir, sp4)), 0.6)\n",
    "\n",
    "datasets = [dataset1, dataset2, dataset3, dataset4]"
   ]
  },
  {
   "cell_type": "markdown",
   "metadata": {},
   "source": [
    "The scattering lengths for the head and tail components are defined."
   ]
  },
  {
   "cell_type": "code",
   "execution_count": null,
   "metadata": {},
   "outputs": [],
   "source": [
    "if lipid == 'dmpg':\n",
    "    head = {'C': 8, 'H': 12, 'O': 10, 'Na': 1, 'P': 1}\n",
    "else:\n",
    "    head = {'C': 10, 'H': 18, 'O': 8, 'N': 1, 'P': 1}\n",
    "tail = {'C': length * 2, 'H': length * 4 + 2}\n",
    "\n",
    "head_sl = mv.get_scattering_length(head)\n",
    "tail_sl = mv.get_scattering_length(tail)"
   ]
  },
  {
   "cell_type": "markdown",
   "metadata": {},
   "source": [
    "Initial 'guesses' for a series of parameters are defined."
   ]
  },
  {
   "cell_type": "code",
   "execution_count": null,
   "metadata": {},
   "outputs": [],
   "source": [
    "thick_heads = 11.057\n",
    "chain_tilt = 0.792674\n",
    "if lipid == 'dlpc':\n",
    "    vols = [330., 667.]\n",
    "if lipid == 'dmpg':\n",
    "    vols = [330., 779.]\n",
    "if lipid == 'dmpc':\n",
    "    vols = [330., 779.]\n",
    "if lipid == 'dppc':\n",
    "    vols = [330., 891.]"
   ]
  },
  {
   "cell_type": "markdown",
   "metadata": {},
   "source": [
    "The length of the carbon tail ($t_l$) is defined based on the Tanford equation.\n",
    "\n",
    "$$ t_l = 1.54 + 1.265(n-1) $$\n",
    "\n",
    "where $n$ is the length of the carbon chain (e.g. 16 for DPPC)."
   ]
  },
  {
   "cell_type": "code",
   "execution_count": null,
   "metadata": {},
   "outputs": [],
   "source": [
    "tail_length = 1.54 + 1.265 * length"
   ]
  },
  {
   "cell_type": "markdown",
   "metadata": {},
   "source": [
    "The `VolMono` class objects are defined. "
   ]
  },
  {
   "cell_type": "code",
   "execution_count": null,
   "metadata": {},
   "outputs": [],
   "source": [
    "lipid1 = mv.VolMono(head_sl, thick_heads, tail_sl, tail_length, chain_tilt, vols, \n",
    "                    reverse_monolayer=True, name='{}1'.format(lipid))\n",
    "lipid2 = mv.VolMono(head_sl, thick_heads, tail_sl, tail_length, chain_tilt, vols, \n",
    "                    reverse_monolayer=True, name='{}2'.format(lipid))\n",
    "lipid3 = mv.VolMono(head_sl, thick_heads, tail_sl, tail_length, chain_tilt, vols, \n",
    "                    reverse_monolayer=True, name='{}3'.format(lipid))\n",
    "lipid4 = mv.VolMono(head_sl, thick_heads, tail_sl, tail_length, chain_tilt, vols, \n",
    "                    reverse_monolayer=True, name='{}4'.format(lipid))"
   ]
  },
  {
   "cell_type": "markdown",
   "metadata": {},
   "source": [
    "A series of structures for each surface pressure is defined. "
   ]
  },
  {
   "cell_type": "code",
   "execution_count": null,
   "metadata": {},
   "outputs": [],
   "source": [
    "air = SLD(0, 'air')\n",
    "des = SLD(10.8, 'des')\n",
    "\n",
    "structure_lipid1 = air(0, 0) | lipid1 | des(0, 3.3)\n",
    "structure_lipid2 = air(0, 0) | lipid2 | des(0, 3.3)\n",
    "structure_lipid3 = air(0, 0) | lipid3 | des(0, 3.3)\n",
    "structure_lipid4 = air(0, 0) | lipid4 | des(0, 3.3)"
   ]
  },
  {
   "cell_type": "markdown",
   "metadata": {},
   "source": [
    "The variables, and bounds for each of the four surface pressures are setup."
   ]
  },
  {
   "cell_type": "code",
   "execution_count": null,
   "metadata": {
    "scrolled": true
   },
   "outputs": [],
   "source": [
    "lipid1.head_mol_vol.setp(vary=True, bounds=(vols[0]*0.8, vols[0]*1.2))\n",
    "lipid1.tail_mol_vol.setp(vary=True, bounds=(vols[1]*0.8, vols[1]*1.2))\n",
    "lipid1.tail_length.setp(vary=False)\n",
    "lipid1.cos_rad_chain_tilt.setp(vary=True, bounds=(0.01, 0.99))\n",
    "lipid1.rough_head_tail.constraint = structure_lipid1[-1].rough\n",
    "lipid1.rough_preceding_mono.constraint = structure_lipid1[-1].rough\n",
    "lipid1.phih.constraint = 1 - (lipid1.head_mol_vol /  lipid1.tail_mol_vol) * (\n",
    "    lipid1.cos_rad_chain_tilt * lipid1.tail_length / lipid1.thick_heads)\n",
    "lipid1.thick_heads.setp(vary=True, bounds=(6, 20))\n",
    "structure_lipid1[-1].rough.setp(vary=True, bounds=(2.5, 6))"
   ]
  },
  {
   "cell_type": "code",
   "execution_count": null,
   "metadata": {},
   "outputs": [],
   "source": [
    "lipid2.cos_rad_chain_tilt.setp(vary=True, bounds=(0.01, 0.99))\n",
    "lipid2.rough_head_tail.constraint = structure_lipid2[-1].rough\n",
    "lipid2.rough_preceding_mono.constraint = structure_lipid2[-1].rough\n",
    "lipid2.thick_heads.setp(vary=True, bounds=(6, 20))\n",
    "lipid2.phih.constraint = 1 - (lipid2.head_mol_vol / lipid2.tail_mol_vol) * (\n",
    "    lipid2.cos_rad_chain_tilt * lipid2.tail_length / lipid2.thick_heads)\n",
    "structure_lipid2[-1].rough.setp(vary=True, bounds=(2.5, 6))"
   ]
  },
  {
   "cell_type": "code",
   "execution_count": null,
   "metadata": {},
   "outputs": [],
   "source": [
    "lipid3.cos_rad_chain_tilt.setp(0.57, vary=True, bounds=(0.01, 0.99))\n",
    "lipid3.rough_head_tail.constraint = structure_lipid3[-1].rough\n",
    "lipid3.rough_preceding_mono.constraint = structure_lipid3[-1].rough\n",
    "lipid3.thick_heads.setp(vary=True, bounds=(6, 20))\n",
    "lipid3.phih.constraint = 1 - (lipid3.head_mol_vol / lipid3.tail_mol_vol) * (\n",
    "    lipid3.cos_rad_chain_tilt * lipid3.tail_length / lipid3.thick_heads)\n",
    "structure_lipid3[-1].rough.setp(vary=True, bounds=(2.5, 6))"
   ]
  },
  {
   "cell_type": "code",
   "execution_count": null,
   "metadata": {},
   "outputs": [],
   "source": [
    "lipid4.cos_rad_chain_tilt.setp(0.57, vary=True, bounds=(0.01, 0.99))\n",
    "lipid4.rough_head_tail.constraint = structure_lipid4[-1].rough\n",
    "lipid4.rough_preceding_mono.constraint = structure_lipid4[-1].rough\n",
    "lipid4.thick_heads.setp(vary=True, bounds=(6, 20))\n",
    "lipid4.phih.constraint = 1 - (lipid4.head_mol_vol / lipid4.tail_mol_vol) * (\n",
    "    lipid4.cos_rad_chain_tilt * lipid4.tail_length / lipid4.thick_heads)\n",
    "structure_lipid4[-1].rough.setp(vary=True, bounds=(2.5, 6))"
   ]
  },
  {
   "cell_type": "markdown",
   "metadata": {},
   "source": [
    "The three lipids are constrained such that the tail and head volumes and head thickness are kept constant."
   ]
  },
  {
   "cell_type": "code",
   "execution_count": null,
   "metadata": {},
   "outputs": [],
   "source": [
    "lipids = [lipid1, lipid2, lipid3, lipid4]\n",
    "structures = [structure_lipid1, structure_lipid2, structure_lipid3, structure_lipid4]\n",
    "lipids = mv.set_constraints(lipids)"
   ]
  },
  {
   "cell_type": "markdown",
   "metadata": {},
   "source": [
    "Each model is then associated with a dataset"
   ]
  },
  {
   "cell_type": "code",
   "execution_count": null,
   "metadata": {},
   "outputs": [],
   "source": [
    "model_lipid1 = ReflectModel(structure_lipid1)\n",
    "model_lipid1.scale.setp(vary=True, bounds=(0.005, 10))\n",
    "model_lipid1.bkg.setp(dataset1.y[-1], vary=False)\n",
    "\n",
    "model_lipid2 = ReflectModel(structure_lipid2)\n",
    "model_lipid2.scale.setp(vary=True, bounds=(0.005, 10))\n",
    "model_lipid2.bkg.setp(dataset2.y[-1], vary=False)\n",
    "\n",
    "model_lipid3 = ReflectModel(structure_lipid3)\n",
    "model_lipid3.scale.setp(vary=True, bounds=(0.005, 10))\n",
    "model_lipid3.bkg.setp(dataset3.y[-1], vary=False)\n",
    "\n",
    "model_lipid4 = ReflectModel(structure_lipid4)\n",
    "model_lipid4.scale.setp(vary=True, bounds=(0.005, 10))\n",
    "model_lipid4.bkg.setp(dataset4.y[-1], vary=False)\n",
    "\n",
    "models = [model_lipid1, model_lipid2, model_lipid3, model_lipid4]"
   ]
  },
  {
   "cell_type": "markdown",
   "metadata": {},
   "source": [
    "The global objective fitting object is defined and the fitting and MCMC performed. "
   ]
  },
  {
   "cell_type": "code",
   "execution_count": null,
   "metadata": {},
   "outputs": [],
   "source": [
    "objective1 = Objective(model_lipid1, dataset1, transform=Transform('YX4'))\n",
    "objective2 = Objective(model_lipid2, dataset2, transform=Transform('YX4'))\n",
    "objective3 = Objective(model_lipid3, dataset3, transform=Transform('YX4'))\n",
    "objective4 = Objective(model_lipid4, dataset4, transform=Transform('YX4'))\n",
    "\n",
    "global_objective = GlobalObjective([objective1, objective2, objective3, objective4])"
   ]
  },
  {
   "cell_type": "markdown",
   "metadata": {},
   "source": [
    "## Fitting \n",
    "\n",
    "The differential evolution algorithm is used to find optimal parameters, before the MCMC algorithm probes the parameter space for 1000 steps."
   ]
  },
  {
   "cell_type": "code",
   "execution_count": null,
   "metadata": {},
   "outputs": [],
   "source": [
    "fitter = CurveFitter(global_objective)\n",
    "res = fitter.fit('differential_evolution', seed=1)\n",
    "\n",
    "fitter.sample(200, random_state=1)\n",
    "fitter.sampler.reset()\n",
    "res = fitter.sample(1000, nthin=1, random_state=1, f='{}/{}/chain.txt'.format(analysis_dir, lipid))\n",
    "flatchain = fitter.sampler.flatchain"
   ]
  },
  {
   "cell_type": "markdown",
   "metadata": {},
   "source": [
    "The `global_objective` is printed containing information about the models."
   ]
  },
  {
   "cell_type": "code",
   "execution_count": null,
   "metadata": {
    "scrolled": false
   },
   "outputs": [],
   "source": [
    "print(global_objective)"
   ]
  },
  {
   "cell_type": "markdown",
   "metadata": {},
   "source": [
    "## Bibliography\n",
    "\n",
    "1. Andrew Nelson, Stuart Prescott, Isaac Gresham, & Andrew R. McCluskey. (2018, August 3). refnx/refnx: v0.0.17 (Version v0.0.17). Zenodo. http://doi.org/10.5281/zenodo.1345464"
   ]
  },
  {
   "cell_type": "code",
   "execution_count": null,
   "metadata": {},
   "outputs": [],
   "source": []
  }
 ],
 "metadata": {
  "author": "mes",
  "kernelspec": {
   "display_name": "Python [conda env:lipids_at_airdes]",
   "language": "python",
   "name": "conda-env-lipids_at_airdes-py"
  },
  "language_info": {
   "codemirror_mode": {
    "name": "ipython",
    "version": 3
   },
   "file_extension": ".py",
   "mimetype": "text/x-python",
   "name": "python",
   "nbconvert_exporter": "python",
   "pygments_lexer": "ipython3",
   "version": "3.7.0"
  },
  "latex_envs": {
   "LaTeX_envs_menu_present": true,
   "autoclose": false,
   "autocomplete": true,
   "bibliofile": "biblio.bib",
   "cite_by": "apalike",
   "current_citInitial": 1,
   "eqLabelWithNumbers": true,
   "eqNumInitial": 1,
   "hotkeys": {
    "equation": "Ctrl-E",
    "itemize": "Ctrl-I"
   },
   "labels_anchors": false,
   "latex_user_defs": false,
   "report_style_numbering": false,
   "user_envs_cfg": false
  }
 },
 "nbformat": 4,
 "nbformat_minor": 2
}
