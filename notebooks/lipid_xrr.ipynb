{
 "cells": [
  {
   "cell_type": "markdown",
   "metadata": {},
   "source": [
    "Import the modules used within the analysis."
   ]
  },
  {
   "cell_type": "code",
   "execution_count": 2,
   "metadata": {},
   "outputs": [
    {
     "ename": "ValueError",
     "evalue": "invalid literal for int() with base 10: '/run/user/1000/jupyter/kernel-e0fb5d76-13ff-4725-9196-c36162e77a58.json'",
     "output_type": "error",
     "traceback": [
      "\u001b[0;31m---------------------------------------------------------------------------\u001b[0m",
      "\u001b[0;31mValueError\u001b[0m                                Traceback (most recent call last)",
      "\u001b[0;32m<ipython-input-2-ad7a30b82d71>\u001b[0m in \u001b[0;36m<module>\u001b[0;34m()\u001b[0m\n\u001b[1;32m     20\u001b[0m \u001b[0;31m# The type of lipid being investigated\u001b[0m\u001b[0;34m\u001b[0m\u001b[0;34m\u001b[0m\u001b[0m\n\u001b[1;32m     21\u001b[0m \u001b[0mlipid\u001b[0m \u001b[0;34m=\u001b[0m \u001b[0msys\u001b[0m\u001b[0;34m.\u001b[0m\u001b[0margv\u001b[0m\u001b[0;34m[\u001b[0m\u001b[0;36m1\u001b[0m\u001b[0;34m]\u001b[0m\u001b[0;34m\u001b[0m\u001b[0m\n\u001b[0;32m---> 22\u001b[0;31m \u001b[0mlength\u001b[0m \u001b[0;34m=\u001b[0m \u001b[0mint\u001b[0m\u001b[0;34m(\u001b[0m\u001b[0msys\u001b[0m\u001b[0;34m.\u001b[0m\u001b[0margv\u001b[0m\u001b[0;34m[\u001b[0m\u001b[0;36m2\u001b[0m\u001b[0;34m]\u001b[0m\u001b[0;34m)\u001b[0m\u001b[0;34m\u001b[0m\u001b[0m\n\u001b[0m\u001b[1;32m     23\u001b[0m \u001b[0msp1\u001b[0m \u001b[0;34m=\u001b[0m \u001b[0msys\u001b[0m\u001b[0;34m.\u001b[0m\u001b[0margv\u001b[0m\u001b[0;34m[\u001b[0m\u001b[0;36m3\u001b[0m\u001b[0;34m]\u001b[0m\u001b[0;34m\u001b[0m\u001b[0m\n\u001b[1;32m     24\u001b[0m \u001b[0msp2\u001b[0m \u001b[0;34m=\u001b[0m \u001b[0msys\u001b[0m\u001b[0;34m.\u001b[0m\u001b[0margv\u001b[0m\u001b[0;34m[\u001b[0m\u001b[0;36m4\u001b[0m\u001b[0;34m]\u001b[0m\u001b[0;34m\u001b[0m\u001b[0m\n",
      "\u001b[0;31mValueError\u001b[0m: invalid literal for int() with base 10: '/run/user/1000/jupyter/kernel-e0fb5d76-13ff-4725-9196-c36162e77a58.json'"
     ]
    }
   ],
   "source": [
    "# Standard libraries to import\n",
    "from __future__ import division\n",
    "import numpy as np \n",
    "import scipy\n",
    "from scipy.stats.mstats import mquantiles\n",
    "\n",
    "# The refnx library\n",
    "import refnx\n",
    "from refnx.reflect import structure, ReflectModel, SLD\n",
    "from refnx.dataset import ReflectDataset\n",
    "from refnx.analysis import Transform, CurveFitter, Objective, GlobalObjective, Parameter\n",
    "\n",
    "# The custom class to constain the monolayer model. \n",
    "import sys\n",
    "sys.path.insert(0, '../src/models')\n",
    "import mol_vol as mv\n",
    "sys.path.insert(0, '../src/tools')\n",
    "import helper\n",
    "\n",
    "# The type of lipid being investigated\n",
    "lipid = sys.argv[1]\n",
    "length = int(sys.argv[2])\n",
    "sp1 = sys.argv[3]\n",
    "sp2 = sys.argv[4]\n",
    "sp3 = sys.argv[5]\n",
    "sp4 = sys.argv[6]\n",
    "\n",
    "# Relative directory locations\n",
    "data_dir = '../data/processed/{}/'.format(lipid)\n",
    "figures_dir = '../reports/figures/'\n",
    "analysis_dir = '../output/'"
   ]
  },
  {
   "cell_type": "markdown",
   "metadata": {},
   "source": [
    "In order for the analysis to be exactly reproducible the same package versions must be used. The conda packaging manager, and pip, can be used to ensure this is the case. The versions of refnx and scipy used original are:\n",
    "\n",
    "```\n",
    "refnx.version.full_version = 0.0.17\n",
    "scipy.version.version = 1.1.0\n",
    "```"
   ]
  },
  {
   "cell_type": "code",
   "execution_count": null,
   "metadata": {},
   "outputs": [],
   "source": [
    "refnx.version.full_version, scipy.version.version"
   ]
  },
  {
   "cell_type": "markdown",
   "metadata": {},
   "source": [
    "The experimental datafiles are then read in and redefined such that all data after q = 0.6 Å<sup>-1</sup> is ignored as this is considered background. "
   ]
  },
  {
   "cell_type": "code",
   "execution_count": null,
   "metadata": {},
   "outputs": [],
   "source": [
    "# Reading datasets into refnx format\n",
    "dataset3 = helper.data_cutoff(ReflectDataset('{}xrr_sp_{}.dat'.format(data_dir, sp1)), 0.6)\n",
    "dataset4 = helper.data_cutoff(ReflectDataset('{}xrr_sp_{}.dat'.format(data_dir, sp2)), 0.6)\n",
    "dataset5 = helper.data_cutoff(ReflectDataset('{}xrr_sp_{}.dat'.format(data_dir, sp3)), 0.6)\n",
    "dataset6 = helper.data_cutoff(ReflectDataset('{}xrr_sp_{}.dat'.format(data_dir, sp4)), 0.6)"
   ]
  },
  {
   "cell_type": "markdown",
   "metadata": {},
   "source": [
    "Defining the scattering lengths for the lipid head and tails"
   ]
  },
  {
   "cell_type": "code",
   "execution_count": null,
   "metadata": {},
   "outputs": [],
   "source": [
    "if lipid == 'dmpg':\n",
    "    head = {'C': 8, 'H': 12, 'O': 10, 'Na': 1, 'P': 1}\n",
    "else:\n",
    "    head = {'C': 10, 'H': 18, 'O': 8, 'N': 1, 'P': 1}\n",
    "tail = {'C': length * 2, 'H': length * 4 + 2}\n",
    "\n",
    "head_sl = mv.get_scattering_length(head)\n",
    "tail_sl = mv.get_scattering_length(tail)"
   ]
  },
  {
   "cell_type": "markdown",
   "metadata": {},
   "source": [
    "Defining initial values for the system variables"
   ]
  },
  {
   "cell_type": "code",
   "execution_count": null,
   "metadata": {},
   "outputs": [],
   "source": [
    "thick_heads = 11.057\n",
    "chain_tilt = 0.792674\n",
    "if lipid == 'dlpc':\n",
    "    vols = [330., 667.]\n",
    "if lipid == 'dmpg':\n",
    "    vols = [330., 779.]\n",
    "if lipid == 'dmpc':\n",
    "    vols = [330., 779.]\n",
    "if lipid == 'dppc':\n",
    "    vols = [330., 891.]"
   ]
  },
  {
   "cell_type": "markdown",
   "metadata": {},
   "source": [
    "Defining the length of the carbon tail ($t_l$) based on the Tanford equation.\n",
    "\n",
    "$$ t_l = 1.54 + 1.265(n-1) $$\n",
    "\n",
    "where $n$ is the length of the carbon chain (e.g. 16 for DPPC)."
   ]
  },
  {
   "cell_type": "code",
   "execution_count": null,
   "metadata": {},
   "outputs": [],
   "source": [
    "tail_length = 1.54 + 1.265 * length"
   ]
  },
  {
   "cell_type": "markdown",
   "metadata": {},
   "source": [
    "Initialise the lipid objects"
   ]
  },
  {
   "cell_type": "code",
   "execution_count": null,
   "metadata": {},
   "outputs": [],
   "source": [
    "lipid3 = mv.VolMono(head_sl, thick_heads, tail_sl, tail_length, chain_tilt, vols, \n",
    "                   reverse_monolayer=True, name='{}1'.format(lipid))\n",
    "lipid4 = mv.VolMono(head_sl, thick_heads, tail_sl, tail_length, chain_tilt, vols, \n",
    "                   reverse_monolayer=True, name='{}2'.format(lipid))\n",
    "lipid5 = mv.VolMono(head_sl, thick_heads, tail_sl, tail_length, chain_tilt, vols, \n",
    "                   reverse_monolayer=True, name='{}3'.format(lipid))\n",
    "lipid6 = mv.VolMono(head_sl, thick_heads, tail_sl, tail_length, chain_tilt, vols, \n",
    "                   reverse_monolayer=True, name='{}4'.format(lipid))"
   ]
  },
  {
   "cell_type": "markdown",
   "metadata": {},
   "source": [
    "Building a structure of each of the lipid systems"
   ]
  },
  {
   "cell_type": "code",
   "execution_count": null,
   "metadata": {},
   "outputs": [],
   "source": [
    "air = SLD(0, 'air')\n",
    "des = SLD(10.8, 'des')\n",
    "\n",
    "structure_lipid3 = air(0, 0) | lipid3 | des(0, 3.3)\n",
    "structure_lipid4 = air(0, 0) | lipid4 | des(0, 3.3)\n",
    "structure_lipid5 = air(0, 0) | lipid5 | des(0, 3.3)\n",
    "structure_lipid6 = air(0, 0) | lipid6 | des(0, 3.3)"
   ]
  },
  {
   "cell_type": "markdown",
   "metadata": {},
   "source": [
    "The variables, and bounds are then defined."
   ]
  },
  {
   "cell_type": "code",
   "execution_count": null,
   "metadata": {
    "scrolled": true
   },
   "outputs": [],
   "source": [
    "lipid3.head_mol_vol.setp(vary=True, bounds=(vols[0]*0.8, vols[0]*1.2))\n",
    "lipid3.tail_mol_vol.setp(vary=True, bounds=(vols[1]*0.8, vols[1]*1.2))\n",
    "lipid3.tail_length.setp(vary=False)\n",
    "lipid3.cos_rad_chain_tilt.setp(vary=True, bounds=(0.01, 0.99))\n",
    "lipid3.rough_head_tail.constraint = structure_lipid3[-1].rough\n",
    "lipid3.rough_preceding_mono.constraint = structure_lipid3[-1].rough\n",
    "lipid3.phih.constraint = 1 - (lipid3.head_mol_vol / \n",
    "                              lipid3.tail_mol_vol) * (lipid3.cos_rad_chain_tilt * \n",
    "                                                      lipid3.tail_length / lipid3.thick_heads)\n",
    "lipid3.thick_heads.setp(vary=True, bounds=(6, 15))\n",
    "structure_lipid3[-1].rough.setp(vary=True, bounds=(2.5, 6))"
   ]
  },
  {
   "cell_type": "code",
   "execution_count": null,
   "metadata": {},
   "outputs": [],
   "source": [
    "lipid4.cos_rad_chain_tilt.setp(vary=True, bounds=(0.01, 0.99))\n",
    "lipid4.rough_head_tail.constraint = structure_lipid4[-1].rough\n",
    "lipid4.rough_preceding_mono.constraint = structure_lipid4[-1].rough\n",
    "lipid4.phih.constraint = 1 - (lipid4.head_mol_vol / lipid4.tail_mol_vol) * (lipid4.cos_rad_chain_tilt * lipid4.tail_length / lipid4.thick_heads)\n",
    "structure_lipid4[-1].rough.setp(vary=True, bounds=(2.5, 6))"
   ]
  },
  {
   "cell_type": "code",
   "execution_count": null,
   "metadata": {},
   "outputs": [],
   "source": [
    "lipid5.cos_rad_chain_tilt.setp(0.57, vary=True, bounds=(0.01, 0.99))\n",
    "lipid5.rough_head_tail.constraint = structure_lipid5[-1].rough\n",
    "lipid5.rough_preceding_mono.constraint = structure_lipid5[-1].rough\n",
    "lipid5.phih.constraint = 1 - (lipid5.head_mol_vol / lipid5.tail_mol_vol) * (lipid5.cos_rad_chain_tilt * lipid5.tail_length / lipid5.thick_heads)\n",
    "structure_lipid5[-1].rough.setp(vary=True, bounds=(2.5, 6))"
   ]
  },
  {
   "cell_type": "code",
   "execution_count": null,
   "metadata": {},
   "outputs": [],
   "source": [
    "lipid6.cos_rad_chain_tilt.setp(0.57, vary=True, bounds=(0.01, 0.99))\n",
    "lipid6.rough_head_tail.constraint = structure_lipid6[-1].rough\n",
    "lipid6.rough_preceding_mono.constraint = structure_lipid6[-1].rough\n",
    "lipid6.phih.constraint = 1 - (lipid6.head_mol_vol / lipid6.tail_mol_vol) * (lipid6.cos_rad_chain_tilt * lipid6.tail_length / lipid6.thick_heads)\n",
    "structure_lipid6[-1].rough.setp(vary=True, bounds=(2.5, 6))"
   ]
  },
  {
   "cell_type": "markdown",
   "metadata": {},
   "source": [
    "The three lipids are constrained such that the tail and head volumes and head thickness is kept constant."
   ]
  },
  {
   "cell_type": "code",
   "execution_count": null,
   "metadata": {},
   "outputs": [],
   "source": [
    "lipids = [lipid3, lipid4, lipid5, lipid6]\n",
    "\n",
    "lipids = mv.set_constraints(lipids)"
   ]
  },
  {
   "cell_type": "markdown",
   "metadata": {},
   "source": [
    "Each model is then associated with a dataset"
   ]
  },
  {
   "cell_type": "code",
   "execution_count": null,
   "metadata": {},
   "outputs": [],
   "source": [
    "model_lipid3 = ReflectModel(structure_lipid3)\n",
    "model_lipid3.scale.setp(vary=True, bounds=(0.005, 10))\n",
    "model_lipid3.bkg.setp(dataset3.y[-1], vary=False)\n",
    "\n",
    "model_lipid4 = ReflectModel(structure_lipid4)\n",
    "model_lipid4.scale.setp(vary=True, bounds=(0.005, 10))\n",
    "model_lipid4.bkg.setp(dataset4.y[-1], vary=False)\n",
    "\n",
    "model_lipid5 = ReflectModel(structure_lipid5)\n",
    "model_lipid5.scale.setp(vary=True, bounds=(0.005, 10))\n",
    "model_lipid5.bkg.setp(dataset5.y[-1], vary=False)\n",
    "\n",
    "model_lipid6 = ReflectModel(structure_lipid6)\n",
    "model_lipid6.scale.setp(vary=True, bounds=(0.005, 10))\n",
    "model_lipid6.bkg.setp(dataset6.y[-1], vary=False)"
   ]
  },
  {
   "cell_type": "markdown",
   "metadata": {},
   "source": [
    "The global objective fitting object is defined and the fitting and MCMC performed. "
   ]
  },
  {
   "cell_type": "code",
   "execution_count": null,
   "metadata": {},
   "outputs": [],
   "source": [
    "objective3 = Objective(model_lipid3, dataset3, transform=Transform('YX4'))\n",
    "objective4 = Objective(model_lipid4, dataset4, transform=Transform('YX4'))\n",
    "objective5 = Objective(model_lipid5, dataset5, transform=Transform('YX4'))\n",
    "objective6 = Objective(model_lipid6, dataset6, transform=Transform('YX4'))\n",
    "\n",
    "global_objective = GlobalObjective([objective3, objective4, objective5, objective6])"
   ]
  },
  {
   "cell_type": "code",
   "execution_count": null,
   "metadata": {},
   "outputs": [],
   "source": [
    "fitter = CurveFitter(global_objective)\n",
    "res = fitter.fit('differential_evolution', seed=1)\n",
    "\n",
    "fitter.sample(200, random_state=1)\n",
    "fitter.sampler.reset()\n",
    "res = fitter.sample(1000, nthin=1, random_state=1, f='{}{}_chain.txt'.format(analysis_dir, lipid))\n",
    "flatchain = fitter.sampler.flatchain"
   ]
  },
  {
   "cell_type": "code",
   "execution_count": null,
   "metadata": {
    "scrolled": false
   },
   "outputs": [],
   "source": [
    "print(global_objective)"
   ]
  },
  {
   "cell_type": "markdown",
   "metadata": {},
   "source": [
    "The reflectometry and scattering length density profiles are printed to a file."
   ]
  },
  {
   "cell_type": "code",
   "execution_count": null,
   "metadata": {},
   "outputs": [],
   "source": [
    "def printref(n, dataset, model, objective, analysis_dir):\n",
    "    file_open = open('{}{}{}_ref.txt'.format(analysis_dir, lipid, n), 'w')\n",
    "    saved_params = np.array(objective.parameters)\n",
    "    for i in range(0, len(dataset.x)):\n",
    "        file_open.write('{} '.format(dataset.x[i]))\n",
    "    file_open.write('\\n')\n",
    "    for i in range(0, len(dataset.x)):\n",
    "        file_open.write('{} '.format(dataset.y[i]*(dataset.x[i])**4))\n",
    "    file_open.write('\\n')\n",
    "    for i in range(0, len(dataset.x)):\n",
    "        file_open.write('{} '.format(dataset.y_err[i]*(dataset.x[i])**4))\n",
    "    file_open.write('\\n')\n",
    "    for i in range(0, len(dataset.x)):\n",
    "        file_open.write('{} '.format((model(dataset.x, x_err=dataset.x_err)[i])*(dataset.x[i])**4))\n",
    "    file_open.write('\\n')\n",
    "    choose = objective.pgen(ngen=100)\n",
    "    for pvec in choose:\n",
    "        objective.setp(pvec)\n",
    "        calc = model(dataset.x, x_err=dataset.x_err) * np.power(dataset.x, 4)\n",
    "        for i in range(0, len(dataset.x)):\n",
    "            file_open.write('{} '.format(calc[i]))\n",
    "        file_open.write('\\n')\n",
    "    file_open.close()\n",
    "    \n",
    "def printsld(n, structure, objective):\n",
    "    file_open = open('{}{}{}_sld.txt'.format(analysis_dir, lipid, n), 'w')\n",
    "    z, true_sld = structure.sld_profile()\n",
    "    for i in range(0, len(z)):\n",
    "        file_open.write('{} '.format(z[i]))\n",
    "    file_open.write('\\n')\n",
    "    for i in range(0, len(z)):\n",
    "        file_open.write('{} '.format(true_sld[i]))\n",
    "    file_open.write('\\n')\n",
    "    choose = objective.pgen(ngen=100)\n",
    "    for pvec in choose:\n",
    "        objective.setp(pvec)\n",
    "        zs, sld = structure.sld_profile()\n",
    "        for i in range(0, len(z)):\n",
    "            file_open.write('{} '.format(sld[i]))   \n",
    "        file_open.write('\\n')\n",
    "    file_open.close()\n",
    "    \n",
    "    \n",
    "printref(sp1, dataset3, model_lipid3, global_objective, analysis_dir)\n",
    "printref(sp2, dataset4, model_lipid4, global_objective, analysis_dir)\n",
    "printref(sp3, dataset5, model_lipid5, global_objective, analysis_dir)\n",
    "printref(sp4, dataset6, model_lipid6, global_objective, analysis_dir)\n",
    "printsld(sp1, structure_lipid3, global_objective)\n",
    "printsld(sp2, structure_lipid4, global_objective)\n",
    "printsld(sp3, structure_lipid5, global_objective)\n",
    "printsld(sp4, structure_lipid6, global_objective)"
   ]
  },
  {
   "cell_type": "markdown",
   "metadata": {},
   "source": [
    "The tail length and head solvation are determined and the variables are printed to files to allow of inclusion in the paper. "
   ]
  },
  {
   "cell_type": "code",
   "execution_count": null,
   "metadata": {
    "scrolled": false
   },
   "outputs": [],
   "source": [
    "tail3 = flatchain[:, 2] * lipid3.tail_length.value\n",
    "tail4 = flatchain[:, 7] * lipid4.tail_length.value\n",
    "tail5 = flatchain[:, 10] * lipid5.tail_length.value\n",
    "tail6 = flatchain[:, 13] * lipid6.tail_length.value\n",
    "\n",
    "solh3 = 1 - (flatchain[:, 4] / flatchain[:, 3]) * (tail3 / flatchain[:, 1])\n",
    "solh4 = 1 - (flatchain[:, 4] / flatchain[:, 3]) * (tail4 / flatchain[:, 1])\n",
    "solh5 = 1 - (flatchain[:, 4] / flatchain[:, 3]) * (tail5 / flatchain[:, 1])\n",
    "solh6 = 1 - (flatchain[:, 4] / flatchain[:, 3]) * (tail6 / flatchain[:, 1])"
   ]
  },
  {
   "cell_type": "code",
   "execution_count": null,
   "metadata": {},
   "outputs": [],
   "source": [
    "lab = ['scale{}'.format(sp1), 'head{}', 'angle{}'.format(sp1), 'vt', 'vh', 'rough{}'.format(sp1), \n",
    "       'scale{}'.format(sp2), 'angle{}'.format(sp2), 'rough{}'.format(sp2), \n",
    "       'scale{}'.format(sp3), 'angle{}'.format(sp3), 'rough{}'.format(sp3), \n",
    "       'scale{}'.format(sp4), 'angle{}'.format(sp4), 'rough{}'.format(sp4)]\n",
    "for i in range(0, flatchain.shape[1]):\n",
    "    total_pearsons = open('{}{}/{}.txt'.format(analysis_dir, lipid, lab[i]), 'w')\n",
    "    a = mquantiles(flatchain[:, i], prob=[0.025, 0.5, 0.975])\n",
    "    if 'angle' in lab[i]:\n",
    "        c = np.rad2deg(np.arccos(a))\n",
    "        k = [c[1], c[0] - c[1], c[1] - c[2]]\n",
    "        q = '{:.2f}'.format(k[0])\n",
    "        w = '{:.2f}'.format(k[1])\n",
    "        e = '{:.2f}'.format(k[2])\n",
    "        total_pearsons.write('$' + str(q) + '^{+' + str(w) + '}_{-' + str(e) + '}$')\n",
    "    elif 'sol' in lab[i]:\n",
    "        k = [a[1]*100, (a[1] - a[0])*100, (a[2] - a[1])*100]\n",
    "        q = '{:.2f}'.format(k[0])\n",
    "        e = '{:.2f}'.format(k[1])\n",
    "        w = '{:.2f}'.format(k[2])\n",
    "        total_pearsons.write('$' + str(q) + '^{+' + str(w) + '}_{-' + str(e) + '}$')\n",
    "    else:\n",
    "        k = [a[1], a[1] - a[0], a[2] - a[1]]\n",
    "        q = '{:.2f}'.format(k[0])\n",
    "        e = '{:.2f}'.format(k[1])\n",
    "        w = '{:.2f}'.format(k[2])\n",
    "        total_pearsons.write('$' + str(q) + '^{+' + str(w) + '}_{-' + str(e) + '}$')\n",
    "    total_pearsons.close()\n",
    "            \n",
    "lab2 = ['tail{}'.format(sp1), 'tail{}'.format(sp2), 'tail{}'.format(sp3), 'tail{}'.format(sp4)]\n",
    "kl = [tail3, tail4, tail5, tail6]\n",
    "for i in range(0, len(lab2)):\n",
    "    total_pearsons = open('{}{}/{}.txt'.format(analysis_dir, lipid, lab2[i]), 'w')\n",
    "    a = mquantiles(kl[i], prob=[0.025, 0.5, 0.975])\n",
    "    k = [a[1], a[1] - a[0], a[2] - a[1]]\n",
    "    q = '{:.2f}'.format(k[0])\n",
    "    e = '{:.2f}'.format(k[1])\n",
    "    w = '{:.2f}'.format(k[2])\n",
    "    total_pearsons.write('$' + str(q) + '^{+' + str(w) + '}_{-' + str(e) + '}$')\n",
    "    total_pearsons.close()\n",
    "    \n",
    "lab2 = ['solh{}'.format(sp1), 'solh{}'.format(sp2), 'solh{}'.format(sp3), 'solh{}'.format(sp4)]\n",
    "kl = [solh3, solh4, solh5, solh6]\n",
    "for i in range(0, len(lab2)):\n",
    "    total_pearsons = open('{}{}/{}.txt'.format(analysis_dir, lipid, lab2[i]), 'w')\n",
    "    a = mquantiles(kl[i], prob=[0.025, 0.5, 0.975])\n",
    "    k = [a[1]*100, (a[1] - a[0])*100, (a[2] - a[1])*100]\n",
    "    q = '{:.2f}'.format(k[0])\n",
    "    e = '{:.2f}'.format(k[1])\n",
    "    w = '{:.2f}'.format(k[2])\n",
    "    total_pearsons.write('$' + str(q) + '^{+' + str(w) + '}_{-' + str(e) + '}$')\n",
    "    total_pearsons.close()"
   ]
  },
  {
   "cell_type": "code",
   "execution_count": null,
   "metadata": {},
   "outputs": [],
   "source": []
  }
 ],
 "metadata": {
  "author": "mes",
  "kernelspec": {
   "display_name": "Python [conda env:lipids_at_airdes]",
   "language": "python",
   "name": "conda-env-lipids_at_airdes-py"
  },
  "language_info": {
   "codemirror_mode": {
    "name": "ipython",
    "version": 3
   },
   "file_extension": ".py",
   "mimetype": "text/x-python",
   "name": "python",
   "nbconvert_exporter": "python",
   "pygments_lexer": "ipython3",
   "version": "3.7.0"
  },
  "latex_envs": {
   "LaTeX_envs_menu_present": true,
   "autoclose": false,
   "autocomplete": true,
   "bibliofile": "biblio.bib",
   "cite_by": "apalike",
   "current_citInitial": 1,
   "eqLabelWithNumbers": true,
   "eqNumInitial": 1,
   "hotkeys": {
    "equation": "Ctrl-E",
    "itemize": "Ctrl-I"
   },
   "labels_anchors": false,
   "latex_user_defs": false,
   "report_style_numbering": false,
   "user_envs_cfg": false
  }
 },
 "nbformat": 4,
 "nbformat_minor": 2
}
