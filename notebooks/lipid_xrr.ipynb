{
 "cells": [
  {
   "cell_type": "markdown",
   "metadata": {},
   "source": [
    "# X-ray reflectometry analysis\n",
    "\n",
    "This is a custom Python analysis notebook for analysing XRR data using the class `VolMono`, as defined in `src/models/mol_vol.py`, and the refnx [1] package. \n",
    "\n",
    "It is first necessary to import the necessary modules for the analysis."
   ]
  },
  {
   "cell_type": "code",
   "execution_count": null,
   "metadata": {},
   "outputs": [],
   "source": [
    "# Standard libraries to import\n",
    "from __future__ import division\n",
    "import numpy as np \n",
    "import scipy\n",
    "from scipy.stats.mstats import mquantiles\n",
    "import matplotlib as mpl\n",
    "import matplotlib.pyplot as plt\n",
    "\n",
    "# The refnx library\n",
    "import refnx\n",
    "from refnx.reflect import structure, ReflectModel, SLD\n",
    "from refnx.dataset import ReflectDataset\n",
    "from refnx.analysis import Transform, CurveFitter, Objective, GlobalObjective, Parameter\n",
    "\n",
    "# The custom class to constain the monolayer model. \n",
    "import sys\n",
    "sys.path.insert(0, '../src/models')\n",
    "import mol_vol as mv\n",
    "sys.path.insert(0, '../src/tools')\n",
    "import helper"
   ]
  },
  {
   "cell_type": "markdown",
   "metadata": {},
   "source": [
    "These are parameters to make the plots pretty."
   ]
  },
  {
   "cell_type": "code",
   "execution_count": null,
   "metadata": {},
   "outputs": [],
   "source": [
    "mpl.rcParams['axes.labelsize']=44\n",
    "mpl.rcParams['xtick.labelsize']=32\n",
    "mpl.rcParams['ytick.labelsize']=32\n",
    "mpl.rcParams['grid.linestyle'] = ''\n",
    "mpl.rcParams['axes.grid'] = True\n",
    "mpl.rcParams['axes.facecolor'] = 'w'\n",
    "mpl.rcParams['axes.linewidth'] = 1\n",
    "mpl.rcParams['axes.edgecolor'] = 'k'\n",
    "mpl.rcParams['xtick.bottom'] = True\n",
    "mpl.rcParams['ytick.left'] = True"
   ]
  },
  {
   "cell_type": "markdown",
   "metadata": {},
   "source": [
    "When running the `Makefile` in the top directory of this ESI, a this notebook is converted to a Python script and running for four different lipids, each at four surface pressures. The necessary variables are assigned here. "
   ]
  },
  {
   "cell_type": "code",
   "execution_count": null,
   "metadata": {},
   "outputs": [],
   "source": [
    "# The type of lipid being investigated\n",
    "lipid = sys.argv[1]\n",
    "length = int(sys.argv[2])\n",
    "sp1 = sys.argv[3]\n",
    "sp2 = sys.argv[4]\n",
    "sp3 = sys.argv[5]\n",
    "sp4 = sys.argv[6]\n",
    "label = sys.argv[7]"
   ]
  },
  {
   "cell_type": "markdown",
   "metadata": {},
   "source": [
    "Here we assign the directories that contain the data, as well as where the figures and analysis outputs should be stored. If you directory structure does not match that in the GitHub repository these should be adapted. "
   ]
  },
  {
   "cell_type": "code",
   "execution_count": null,
   "metadata": {},
   "outputs": [],
   "source": [
    "# Relative directory locations\n",
    "data_dir = '../data/processed/{}/'.format(lipid)\n",
    "figures_dir = '../reports/figures/'\n",
    "analysis_dir = '../output/'"
   ]
  },
  {
   "cell_type": "markdown",
   "metadata": {},
   "source": [
    "In order for the analysis to be exactly reproducible the same package versions must be used. The conda packaging manager, and pip, can be used to ensure this is the case. The versions of refnx and scipy used original are:\n",
    "\n",
    "```\n",
    "refnx.version.full_version = 0.0.17\n",
    "scipy.version.version = 1.1.0\n",
    "```"
   ]
  },
  {
   "cell_type": "code",
   "execution_count": null,
   "metadata": {},
   "outputs": [],
   "source": [
    "refnx.version.full_version, scipy.version.version"
   ]
  },
  {
   "cell_type": "markdown",
   "metadata": {},
   "source": [
    "## Setup of the analysis\n",
    "\n",
    "The experimental datafiles are then read in and redefined such that all data after $q = 0.6 Å^{-1}$ is ignored as this is considered background. "
   ]
  },
  {
   "cell_type": "code",
   "execution_count": null,
   "metadata": {},
   "outputs": [],
   "source": [
    "# Reading datasets into refnx format\n",
    "dataset1 = helper.data_cutoff(ReflectDataset('{}xrr_sp_{}.dat'.format(data_dir, sp1)), 0.6)\n",
    "dataset2 = helper.data_cutoff(ReflectDataset('{}xrr_sp_{}.dat'.format(data_dir, sp2)), 0.6)\n",
    "dataset3 = helper.data_cutoff(ReflectDataset('{}xrr_sp_{}.dat'.format(data_dir, sp3)), 0.6)\n",
    "dataset4 = helper.data_cutoff(ReflectDataset('{}xrr_sp_{}.dat'.format(data_dir, sp4)), 0.6)\n",
    "\n",
    "datasets = [dataset1, dataset2, dataset3, dataset4]"
   ]
  },
  {
   "cell_type": "markdown",
   "metadata": {},
   "source": [
    "The scattering lengths for the head and tail components are defined."
   ]
  },
  {
   "cell_type": "code",
   "execution_count": null,
   "metadata": {},
   "outputs": [],
   "source": [
    "if lipid == 'dmpg':\n",
    "    head = {'C': 8, 'H': 12, 'O': 10, 'Na': 1, 'P': 1}\n",
    "else:\n",
    "    head = {'C': 10, 'H': 18, 'O': 8, 'N': 1, 'P': 1}\n",
    "tail = {'C': length * 2, 'H': length * 4 + 2}\n",
    "\n",
    "head_sl = mv.get_scattering_length(head)\n",
    "tail_sl = mv.get_scattering_length(tail)"
   ]
  },
  {
   "cell_type": "markdown",
   "metadata": {},
   "source": [
    "Initial 'guesses' for a series of parameters are defined."
   ]
  },
  {
   "cell_type": "code",
   "execution_count": null,
   "metadata": {},
   "outputs": [],
   "source": [
    "thick_heads = 11.057\n",
    "chain_tilt = 0.792674\n",
    "if lipid == 'dlpc':\n",
    "    vols = [330., 667.]\n",
    "if lipid == 'dmpg':\n",
    "    vols = [330., 779.]\n",
    "if lipid == 'dmpc':\n",
    "    vols = [330., 779.]\n",
    "if lipid == 'dppc':\n",
    "    vols = [330., 891.]"
   ]
  },
  {
   "cell_type": "markdown",
   "metadata": {},
   "source": [
    "The length of the carbon tail ($t_l$) is defined based on the Tanford equation.\n",
    "\n",
    "$$ t_l = 1.54 + 1.265(n-1) $$\n",
    "\n",
    "where $n$ is the length of the carbon chain (e.g. 16 for DPPC)."
   ]
  },
  {
   "cell_type": "code",
   "execution_count": null,
   "metadata": {},
   "outputs": [],
   "source": [
    "tail_length = 1.54 + 1.265 * length"
   ]
  },
  {
   "cell_type": "markdown",
   "metadata": {},
   "source": [
    "The `VolMono` class objects are defined. "
   ]
  },
  {
   "cell_type": "code",
   "execution_count": null,
   "metadata": {},
   "outputs": [],
   "source": [
    "lipid1 = mv.VolMono(head_sl, thick_heads, tail_sl, tail_length, chain_tilt, vols, \n",
    "                    reverse_monolayer=True, name='{}1'.format(lipid))\n",
    "lipid2 = mv.VolMono(head_sl, thick_heads, tail_sl, tail_length, chain_tilt, vols, \n",
    "                    reverse_monolayer=True, name='{}2'.format(lipid))\n",
    "lipid3 = mv.VolMono(head_sl, thick_heads, tail_sl, tail_length, chain_tilt, vols, \n",
    "                    reverse_monolayer=True, name='{}3'.format(lipid))\n",
    "lipid4 = mv.VolMono(head_sl, thick_heads, tail_sl, tail_length, chain_tilt, vols, \n",
    "                    reverse_monolayer=True, name='{}4'.format(lipid))"
   ]
  },
  {
   "cell_type": "markdown",
   "metadata": {},
   "source": [
    "A series of structures for each surface pressure is defined. "
   ]
  },
  {
   "cell_type": "code",
   "execution_count": null,
   "metadata": {},
   "outputs": [],
   "source": [
    "air = SLD(0, 'air')\n",
    "des = SLD(10.8, 'des')\n",
    "\n",
    "structure_lipid1 = air(0, 0) | lipid1 | des(0, 3.3)\n",
    "structure_lipid2 = air(0, 0) | lipid2 | des(0, 3.3)\n",
    "structure_lipid3 = air(0, 0) | lipid3 | des(0, 3.3)\n",
    "structure_lipid4 = air(0, 0) | lipid4 | des(0, 3.3)"
   ]
  },
  {
   "cell_type": "markdown",
   "metadata": {},
   "source": [
    "The variables, and bounds for each of the four surface pressures are setup"
   ]
  },
  {
   "cell_type": "code",
   "execution_count": null,
   "metadata": {
    "scrolled": true
   },
   "outputs": [],
   "source": [
    "lipid1.head_mol_vol.setp(vary=True, bounds=(vols[0]*0.8, vols[0]*1.2))\n",
    "lipid1.tail_mol_vol.setp(vary=True, bounds=(vols[1]*0.8, vols[1]*1.2))\n",
    "lipid1.tail_length.setp(vary=False)\n",
    "lipid1.cos_rad_chain_tilt.setp(vary=True, bounds=(0.01, 0.99))\n",
    "lipid1.rough_head_tail.constraint = structure_lipid1[-1].rough\n",
    "lipid1.rough_preceding_mono.constraint = structure_lipid1[-1].rough\n",
    "lipid1.phih.constraint = 1 - (lipid1.head_mol_vol /  lipid1.tail_mol_vol) * (\n",
    "    lipid1.cos_rad_chain_tilt * lipid1.tail_length / lipid1.thick_heads)\n",
    "lipid1.thick_heads.setp(vary=True, bounds=(6, 20))\n",
    "structure_lipid1[-1].rough.setp(vary=True, bounds=(2.5, 6))"
   ]
  },
  {
   "cell_type": "code",
   "execution_count": null,
   "metadata": {},
   "outputs": [],
   "source": [
    "lipid2.cos_rad_chain_tilt.setp(vary=True, bounds=(0.01, 0.99))\n",
    "lipid2.rough_head_tail.constraint = structure_lipid2[-1].rough\n",
    "lipid2.rough_preceding_mono.constraint = structure_lipid2[-1].rough\n",
    "lipid2.thick_heads.setp(vary=True, bounds=(6, 20))\n",
    "lipid2.phih.constraint = 1 - (lipid2.head_mol_vol / lipid2.tail_mol_vol) * (\n",
    "    lipid2.cos_rad_chain_tilt * lipid2.tail_length / lipid2.thick_heads)\n",
    "structure_lipid2[-1].rough.setp(vary=True, bounds=(2.5, 6))"
   ]
  },
  {
   "cell_type": "code",
   "execution_count": null,
   "metadata": {},
   "outputs": [],
   "source": [
    "lipid3.cos_rad_chain_tilt.setp(0.57, vary=True, bounds=(0.01, 0.99))\n",
    "lipid3.rough_head_tail.constraint = structure_lipid3[-1].rough\n",
    "lipid3.rough_preceding_mono.constraint = structure_lipid3[-1].rough\n",
    "lipid3.thick_heads.setp(vary=True, bounds=(6, 20))\n",
    "lipid3.phih.constraint = 1 - (lipid3.head_mol_vol / lipid3.tail_mol_vol) * (\n",
    "    lipid3.cos_rad_chain_tilt * lipid3.tail_length / lipid3.thick_heads)\n",
    "structure_lipid3[-1].rough.setp(vary=True, bounds=(2.5, 6))"
   ]
  },
  {
   "cell_type": "code",
   "execution_count": null,
   "metadata": {},
   "outputs": [],
   "source": [
    "lipid4.cos_rad_chain_tilt.setp(0.57, vary=True, bounds=(0.01, 0.99))\n",
    "lipid4.rough_head_tail.constraint = structure_lipid4[-1].rough\n",
    "lipid4.rough_preceding_mono.constraint = structure_lipid4[-1].rough\n",
    "lipid4.thick_heads.setp(vary=True, bounds=(6, 20))\n",
    "lipid4.phih.constraint = 1 - (lipid4.head_mol_vol / lipid4.tail_mol_vol) * (\n",
    "    lipid4.cos_rad_chain_tilt * lipid4.tail_length / lipid4.thick_heads)\n",
    "structure_lipid4[-1].rough.setp(vary=True, bounds=(2.5, 6))"
   ]
  },
  {
   "cell_type": "markdown",
   "metadata": {},
   "source": [
    "The three lipids are constrained such that the tail and head volumes and head thickness are kept constant."
   ]
  },
  {
   "cell_type": "code",
   "execution_count": null,
   "metadata": {},
   "outputs": [],
   "source": [
    "lipids = [lipid1, lipid2, lipid3, lipid4]\n",
    "structures = [structure_lipid1, structure_lipid2, structure_lipid3, structure_lipid4]\n",
    "lipids = mv.set_constraints(lipids)"
   ]
  },
  {
   "cell_type": "markdown",
   "metadata": {},
   "source": [
    "Each model is then associated with a dataset"
   ]
  },
  {
   "cell_type": "code",
   "execution_count": null,
   "metadata": {},
   "outputs": [],
   "source": [
    "model_lipid1 = ReflectModel(structure_lipid1)\n",
    "model_lipid1.scale.setp(vary=True, bounds=(0.005, 10))\n",
    "model_lipid1.bkg.setp(dataset1.y[-1], vary=False)\n",
    "\n",
    "model_lipid2 = ReflectModel(structure_lipid2)\n",
    "model_lipid2.scale.setp(vary=True, bounds=(0.005, 10))\n",
    "model_lipid2.bkg.setp(dataset2.y[-1], vary=False)\n",
    "\n",
    "model_lipid3 = ReflectModel(structure_lipid3)\n",
    "model_lipid3.scale.setp(vary=True, bounds=(0.005, 10))\n",
    "model_lipid3.bkg.setp(dataset3.y[-1], vary=False)\n",
    "\n",
    "model_lipid4 = ReflectModel(structure_lipid4)\n",
    "model_lipid4.scale.setp(vary=True, bounds=(0.005, 10))\n",
    "model_lipid4.bkg.setp(dataset4.y[-1], vary=False)\n",
    "\n",
    "models = [model_lipid1, model_lipid2, model_lipid3, model_lipid4]"
   ]
  },
  {
   "cell_type": "markdown",
   "metadata": {},
   "source": [
    "The global objective fitting object is defined and the fitting and MCMC performed. "
   ]
  },
  {
   "cell_type": "code",
   "execution_count": null,
   "metadata": {},
   "outputs": [],
   "source": [
    "objective1 = Objective(model_lipid1, dataset1, transform=Transform('YX4'))\n",
    "objective2 = Objective(model_lipid2, dataset2, transform=Transform('YX4'))\n",
    "objective3 = Objective(model_lipid3, dataset3, transform=Transform('YX4'))\n",
    "objective4 = Objective(model_lipid4, dataset4, transform=Transform('YX4'))\n",
    "\n",
    "global_objective = GlobalObjective([objective1, objective2, objective3, objective4])"
   ]
  },
  {
   "cell_type": "markdown",
   "metadata": {},
   "source": [
    "## Analysis \n",
    "\n",
    "The differential evolution algorithm is used to find optimal parameters, before the MCMC algorithm probes the parameter space for 1000 steps."
   ]
  },
  {
   "cell_type": "code",
   "execution_count": null,
   "metadata": {},
   "outputs": [],
   "source": [
    "fitter = CurveFitter(global_objective)\n",
    "res = fitter.fit('differential_evolution', seed=1)\n",
    "\n",
    "fitter.sample(200, random_state=1)\n",
    "fitter.sampler.reset()\n",
    "res = fitter.sample(1000, nthin=1, random_state=1, f='{}/{}/chain.txt'.format(analysis_dir, lipid))\n",
    "flatchain = fitter.sampler.flatchain"
   ]
  },
  {
   "cell_type": "markdown",
   "metadata": {},
   "source": [
    "The `global_objective` is printed containing information about the models."
   ]
  },
  {
   "cell_type": "code",
   "execution_count": null,
   "metadata": {
    "scrolled": false
   },
   "outputs": [],
   "source": [
    "print(global_objective)"
   ]
  },
  {
   "cell_type": "markdown",
   "metadata": {},
   "source": [
    "Using the probability distribution functions, the PDFs for the tail layer thickness and the solvent content of the headgroup are defined. "
   ]
  },
  {
   "cell_type": "code",
   "execution_count": null,
   "metadata": {},
   "outputs": [],
   "source": [
    "tail1 = flatchain[:, 2] * lipid1.tail_length.value\n",
    "tail2 = flatchain[:, 7] * lipid2.tail_length.value\n",
    "tail3 = flatchain[:, 10] * lipid3.tail_length.value\n",
    "tail4 = flatchain[:, 13] * lipid4.tail_length.value\n",
    "\n",
    "solh1 = 1 - (flatchain[:, 4] / flatchain[:, 3]) * (tail1 / flatchain[:, 1])\n",
    "solh2 = 1 - (flatchain[:, 4] / flatchain[:, 3]) * (tail2 / flatchain[:, 1])\n",
    "solh3 = 1 - (flatchain[:, 4] / flatchain[:, 3]) * (tail3 / flatchain[:, 1])\n",
    "solh4 = 1 - (flatchain[:, 4] / flatchain[:, 3]) * (tail4 / flatchain[:, 1])"
   ]
  },
  {
   "cell_type": "markdown",
   "metadata": {},
   "source": [
    "The reflectometry and SLD profile are then plotted. "
   ]
  },
  {
   "cell_type": "code",
   "execution_count": null,
   "metadata": {},
   "outputs": [],
   "source": [
    "fig = plt.figure(figsize=(20, 7.5))\n",
    "gs = mpl.gridspec.GridSpec(1, 3)\n",
    "colorblind = [\"#0173B2\", \"#DE8F05\", \"#029E73\", \"#D55E00\"]\n",
    "\n",
    "for i, dataset in enumerate(datasets):\n",
    "    choose = global_objective.pgen(ngen=100)\n",
    "    ax1 = plt.subplot(gs[0, 0:2])\n",
    "    ax2 = plt.subplot(gs[0, 2])\n",
    "    ax1.errorbar(dataset.x, dataset.y*(dataset.x)**4 * 10**(i-1), \n",
    "                 yerr=dataset.y_err*(dataset.x)**4 * 10**(i-1), \n",
    "                 linestyle='', marker='s', markersize=7, markeredgecolor='k', \n",
    "                 markerfacecolor='k', ecolor='k')\n",
    "    for pvec in choose:\n",
    "        global_objective.setp(pvec)\n",
    "        ax1.plot(dataset.x, models[i](dataset.x, x_err=dataset.x_err)*(dataset.x)**4 * 10**(i-1), \n",
    "                 linewidth=4, color=colorblind[i], alpha=0.1)\n",
    "        zs, sld = structures[i].sld_profile()\n",
    "        ax2.plot(zs, sld + i*5, color=colorblind[i], linewidth=2, alpha=0.1)\n",
    "    ax1.set_ylabel(r'$Rq^4$/Å$^{-4}$')\n",
    "    ax1.set_yscale('log')\n",
    "    ax1.set_xlabel(r'$q$/Å$^{-1}$')\n",
    "    ax2.set_xlabel(r'$z$/Å')\n",
    "    ax2.set_ylabel(r'SLD/$10^{-6}$Å$^{-2}$')\n",
    "ax2.text(0.80, 0.05, '(' + label + ')', fontsize=44, transform=ax2.transAxes)\n",
    "plt.tight_layout()\n",
    "plt.savefig('{}{}_ref_sld.pdf'.format(figures_dir, lipid))\n",
    "plt.close()"
   ]
  },
  {
   "cell_type": "markdown",
   "metadata": {},
   "source": [
    "The PDFs for the head volumes of the lipid and the variation of the tail thickness and solvent content with surface pressure are plotted. "
   ]
  },
  {
   "cell_type": "code",
   "execution_count": null,
   "metadata": {},
   "outputs": [],
   "source": [
    "fig = plt.figure(figsize=(20, 5.5))\n",
    "gs = mpl.gridspec.GridSpec(1, 2) \n",
    "ax1 = plt.subplot(gs[0, 0])\n",
    "a = mquantiles(flatchain[:, 4], prob=[0.025, 0.5, 0.975])\n",
    "weights = np.ones_like(flatchain[:, 4])/float(len(flatchain[:, 4]))\n",
    "ax1.hist(flatchain[:, 4], bins=50, histtype='stepfilled', weights=weights)\n",
    "ax1.set_ylabel('PDF({}-$V_h$)'.format(lipid.upper()))\n",
    "ax1.set_xlabel('{}-$V_h$/Å$^3$'.format(lipid.upper()))\n",
    "ax1.set_xticks([a[0], a[1], a[2]])\n",
    "ax1.set_xlim([np.min(flatchain[:, 4])-0.01, np.max(flatchain[:, 4])+0.01])\n",
    "ax1.set_xticklabels(['{:.1f}'.format(a[0]), '{:.1f}'.format(a[1]), '{:.1f}'.format(a[2])])\n",
    "ax2 = plt.subplot(gs[0, 1])\n",
    "ax3 = ax2.twinx()\n",
    "ax2.plot([sp1, sp2, sp3, sp4], \n",
    "         [np.average(tail1), np.average(tail2), np.average(tail3), np.average(tail4)], \n",
    "          c=\"#0173B2\", marker='s', ls='', ms=15)\n",
    "ax3.plot([sp1, sp2, sp3, sp4], \n",
    "         np.array([np.average(solh1), np.average(solh2), np.average(solh3), np.average(solh4)]) * 100, \n",
    "         c=\"#DE8F05\", marker='o', ls='', ms=15)\n",
    "ax2.set_xlabel(r'Surface Pressure/mNm$^{-1}$')\n",
    "ax2.set_ylabel(r'$d_t$/Å')\n",
    "ax3.set_ylabel(r'$\\phi_h$/$\\times 10^2$')\n",
    "\n",
    "ax2.yaxis.label.set_color(\"#0173B2\")\n",
    "ax3.yaxis.label.set_color(\"#DE8F05\")\n",
    "ax2.text(0.88, 0.07, '(' + label + ')', fontsize=44, transform=ax2.transAxes)\n",
    "ax2.tick_params(axis='y', colors=\"#0173B2\")\n",
    "ax3.tick_params(axis='y', colors=\"#DE8F05\")\n",
    "plt.tight_layout()\n",
    "plt.savefig('{}{}_vh_dt_phi.pdf'.format(figures_dir, lipid))\n",
    "plt.close()"
   ]
  },
  {
   "cell_type": "markdown",
   "metadata": {},
   "source": [
    "Each of the variables is output to a text file, so that they may be easily imported into the final document if necessary. "
   ]
  },
  {
   "cell_type": "code",
   "execution_count": null,
   "metadata": {},
   "outputs": [],
   "source": [
    "lab = ['scale{}'.format(sp1), 'head{}'.format(sp1), 'angle{}'.format(sp1), 'vt', 'vh', 'rough{}'.format(sp1), \n",
    "       'scale{}'.format(sp2), 'angle{}'.format(sp2), 'rough{}'.format(sp2), \n",
    "       'scale{}'.format(sp3), 'angle{}'.format(sp3), 'rough{}'.format(sp3), \n",
    "       'scale{}'.format(sp4), 'angle{}'.format(sp4), 'rough{}'.format(sp4)]\n",
    "for i in range(0, flatchain.shape[1]):\n",
    "    f_out = open('{}{}/{}.txt'.format(analysis_dir, lipid, lab[i]), 'w')\n",
    "    a = mquantiles(flatchain[:, i], prob=[0.025, 0.5, 0.975])\n",
    "    if 'angle' in lab[i]:\n",
    "        c = np.rad2deg(np.arccos(a))\n",
    "        k = [c[1], c[0] - c[1], c[1] - c[2]]\n",
    "        q = '{:.2f}'.format(k[0])\n",
    "        w = '{:.2f}'.format(k[1])\n",
    "        e = '{:.2f}'.format(k[2])\n",
    "        f_out.write(helper.latex_asym(q, e, w))\n",
    "    elif 'sol' in lab[i]:\n",
    "        k = [a[1]*100, (a[1] - a[0])*100, (a[2] - a[1])*100]\n",
    "        q = '{:.2f}'.format(k[0])\n",
    "        e = '{:.2f}'.format(k[1])\n",
    "        w = '{:.2f}'.format(k[2])\n",
    "        f_out.write(helper.latex_asym(q, e, w))\n",
    "    else:\n",
    "        k = [a[1], a[1] - a[0], a[2] - a[1]]\n",
    "        q = '{:.2f}'.format(k[0])\n",
    "        e = '{:.2f}'.format(k[1])\n",
    "        w = '{:.2f}'.format(k[2])\n",
    "        f_out.write(helper.latex_asym(q, e, w))\n",
    "    f_out.close()\n",
    "            \n",
    "lab = ['tail{}'.format(sp1), 'tail{}'.format(sp2), 'tail{}'.format(sp3), 'tail{}'.format(sp4)]\n",
    "kl = [tail1, tail2, tail3, tail4]\n",
    "for i in range(0, len(lab)):\n",
    "    f_out = open('{}{}/{}.txt'.format(analysis_dir, lipid, lab[i]), 'w')\n",
    "    a = mquantiles(kl[i], prob=[0.025, 0.5, 0.975])\n",
    "    k = [a[1], a[1] - a[0], a[2] - a[1]]\n",
    "    q = '{:.2f}'.format(k[0])\n",
    "    e = '{:.2f}'.format(k[1])\n",
    "    w = '{:.2f}'.format(k[2])\n",
    "    f_out.write(helper.latex_asym(q, e, w))\n",
    "    f_out.close()\n",
    "    \n",
    "lab = ['solh{}'.format(sp1), 'solh{}'.format(sp2), 'solh{}'.format(sp3), 'solh{}'.format(sp4)]\n",
    "kl = [solh1, solh2, solh3, solh4]\n",
    "for i in range(0, len(lab)):\n",
    "    f_out = open('{}{}/{}.txt'.format(analysis_dir, lipid, lab[i]), 'w')\n",
    "    a = mquantiles(kl[i], prob=[0.025, 0.5, 0.975])\n",
    "    k = [a[1]*100, (a[1] - a[0])*100, (a[2] - a[1])*100]\n",
    "    q = '{:.2f}'.format(k[0])\n",
    "    e = '{:.2f}'.format(k[1])\n",
    "    w = '{:.2f}'.format(k[2])\n",
    "    f_out.write(helper.latex_asym(q, e, w))\n",
    "    f_out.close()"
   ]
  },
  {
   "cell_type": "markdown",
   "metadata": {},
   "source": [
    "The corner plots for each of the surface pressures is produced, these are presented in the ESI."
   ]
  },
  {
   "cell_type": "code",
   "execution_count": null,
   "metadata": {},
   "outputs": [],
   "source": [
    "# plotting pdfs\n",
    "import corner\n",
    "\n",
    "mpl.rcParams['axes.labelsize']=22\n",
    "mpl.rcParams['xtick.labelsize']=14\n",
    "mpl.rcParams['ytick.labelsize']=14\n",
    "mpl.rcParams['axes.linewidth'] = 1\n",
    "mpl.rcParams['axes.edgecolor'] = 'k'\n",
    "\n",
    "\n",
    "label=['$V_t$/Å$^3$', '$V_h$/Å$^3$', '$d_h$/Å', 'θ$_t$/°', r'ϕ$_h/\\times10^{-2}$', 'σ$_{t,h,s}$/Å']\n",
    "\n",
    "new_flat = np.zeros((flatchain.shape[0], 6))\n",
    "\n",
    "new_flat[:, 0] = list(flatchain[:, 3].flatten())\n",
    "new_flat[:, 1] = list(flatchain[:, 4].flatten())\n",
    "new_flat[:, 3] = list(np.rad2deg(np.arccos(flatchain[:, 2].flatten())))\n",
    "new_flat[:, 5] = list(flatchain[:, 5].flatten())\n",
    "new_flat[:, 2] = list(flatchain[:, 1].flatten())\n",
    "new_flat[:, 4] = list(solh1 * 100)\n",
    "\n",
    "plt1 = corner.corner(new_flat, max_n_ticks=3, labels=label)\n",
    "plt.savefig('{}{}1_all_corner.pdf'.format(figures_dir, lipid))\n",
    "plt.close()\n",
    "\n",
    "new_flat = np.zeros((flatchain.shape[0], 6))\n",
    "\n",
    "new_flat[:, 0] = list(flatchain[:, 3].flatten())\n",
    "new_flat[:, 1] = list(flatchain[:, 4].flatten())\n",
    "new_flat[:, 3] = list(np.rad2deg(np.arccos(flatchain[:, 7].flatten())))\n",
    "new_flat[:, 5] = list(flatchain[:, 8].flatten())\n",
    "new_flat[:, 2] = list(flatchain[:, 1].flatten())\n",
    "new_flat[:, 4] = list(solh2 * 100)\n",
    "\n",
    "plt1 = corner.corner(new_flat, max_n_ticks=3, labels=label)\n",
    "plt.savefig('{}{}2_all_corner.pdf'.format(figures_dir, lipid))\n",
    "plt.close()\n",
    "\n",
    "new_flat = np.zeros((flatchain.shape[0], 6))\n",
    "\n",
    "new_flat[:, 0] = list(flatchain[:, 3].flatten())\n",
    "new_flat[:, 1] = list(flatchain[:, 4].flatten())\n",
    "new_flat[:, 3] = list(np.rad2deg(np.arccos(flatchain[:, 10].flatten())))\n",
    "new_flat[:, 5] = list(flatchain[:, 11].flatten())\n",
    "new_flat[:, 2] = list(flatchain[:, 1].flatten())\n",
    "new_flat[:, 4] = list(solh3 * 100)\n",
    "\n",
    "\n",
    "plt1 = corner.corner(new_flat, max_n_ticks=3, labels=label)\n",
    "plt.savefig('{}{}3_all_corner.pdf'.format(figures_dir, lipid))\n",
    "plt.close()\n",
    "\n",
    "\n",
    "new_flat = np.zeros((flatchain.shape[0], 6))\n",
    "\n",
    "new_flat[:, 0] = list(flatchain[:, 3].flatten())\n",
    "new_flat[:, 1] = list(flatchain[:, 4].flatten())\n",
    "new_flat[:, 3] = list(np.rad2deg(np.arccos(flatchain[:, 13].flatten())))\n",
    "new_flat[:, 5] = list(flatchain[:, 14].flatten())\n",
    "new_flat[:, 2] = list(flatchain[:, 1].flatten())\n",
    "new_flat[:, 4] = list(solh4 * 100)\n",
    "                      \n",
    "\n",
    "plt1 = corner.corner(new_flat, max_n_ticks=3, labels=label)\n",
    "plt.savefig('{}{}4_all_corner.pdf'.format(figures_dir, lipid))\n",
    "plt.close()"
   ]
  },
  {
   "cell_type": "markdown",
   "metadata": {},
   "source": [
    "## Bibliography\n",
    "\n",
    "1. Andrew Nelson, Stuart Prescott, Isaac Gresham, & Andrew R. McCluskey. (2018, August 3). refnx/refnx: v0.0.17 (Version v0.0.17). Zenodo. http://doi.org/10.5281/zenodo.1345464"
   ]
  },
  {
   "cell_type": "code",
   "execution_count": null,
   "metadata": {},
   "outputs": [],
   "source": []
  }
 ],
 "metadata": {
  "author": "mes",
  "kernelspec": {
   "display_name": "Python [conda env:lipids_at_airdes]",
   "language": "python",
   "name": "conda-env-lipids_at_airdes-py"
  },
  "language_info": {
   "codemirror_mode": {
    "name": "ipython",
    "version": 3
   },
   "file_extension": ".py",
   "mimetype": "text/x-python",
   "name": "python",
   "nbconvert_exporter": "python",
   "pygments_lexer": "ipython3",
   "version": "3.7.0"
  },
  "latex_envs": {
   "LaTeX_envs_menu_present": true,
   "autoclose": false,
   "autocomplete": true,
   "bibliofile": "biblio.bib",
   "cite_by": "apalike",
   "current_citInitial": 1,
   "eqLabelWithNumbers": true,
   "eqNumInitial": 1,
   "hotkeys": {
    "equation": "Ctrl-E",
    "itemize": "Ctrl-I"
   },
   "labels_anchors": false,
   "latex_user_defs": false,
   "report_style_numbering": false,
   "user_envs_cfg": false
  }
 },
 "nbformat": 4,
 "nbformat_minor": 2
}
