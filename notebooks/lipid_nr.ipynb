{
 "cells": [
  {
   "cell_type": "markdown",
   "metadata": {},
   "source": [
    "# Neutron reflectometry analysis\n",
    "\n",
    "This is a custom Python analysis notebook for analysing XRR data using the class `VolMono`, as defined in `src/models/mol_vol.py`, and the refnx [1] package. \n",
    "\n",
    "It is first necessary to import the necessary modules for the analysis."
   ]
  },
  {
   "cell_type": "code",
   "execution_count": null,
   "metadata": {},
   "outputs": [],
   "source": [
    "# Standard libraries to import\n",
    "from __future__ import division\n",
    "import numpy as np \n",
    "import scipy\n",
    "from scipy.stats.mstats import mquantiles\n",
    "\n",
    "# The refnx library, and associated classes\n",
    "import refnx\n",
    "from refnx.reflect import structure, ReflectModel, SLD#\n",
    "from refnx.dataset import ReflectDataset\n",
    "from refnx.analysis import Transform, CurveFitter, Objective, GlobalObjective, Parameter\n",
    "\n",
    "# The custom class to constain the monolayer model. \n",
    "import sys\n",
    "sys.path.insert(0, '../src/models')\n",
    "import mol_vol as mv\n",
    "sys.path.insert(0, '../src/tools')\n",
    "import helper"
   ]
  },
  {
   "cell_type": "markdown",
   "metadata": {},
   "source": [
    "When running the `Makefile` in the top directory of this ESI, a this notebook is converted to a Python script and running for four different lipids, each at four surface pressures. The necessary variables are assigned here. "
   ]
  },
  {
   "cell_type": "code",
   "execution_count": null,
   "metadata": {},
   "outputs": [],
   "source": [
    "lipid = sys.argv[1]\n",
    "length = int(sys.argv[2])\n",
    "sp = sys.argv[3]"
   ]
  },
  {
   "cell_type": "markdown",
   "metadata": {},
   "source": [
    "Here we assign the directories that contain the data, as well as where the figures and analysis outputs should be stored. If you directory structure does not match that in the GitHub repository these should be adapted. "
   ]
  },
  {
   "cell_type": "code",
   "execution_count": null,
   "metadata": {},
   "outputs": [],
   "source": [
    "data_dir = '../data/processed/{}_'.format(lipid)\n",
    "figures_dir = '../reports/figures/'\n",
    "analysis_dir = '../output/'"
   ]
  },
  {
   "cell_type": "markdown",
   "metadata": {},
   "source": [
    "In order for the analysis to be exactly reproducible the same package versions must be used. The conda packaging manager, and pip, can be used to ensure this is the case. The versions of refnx and scipy used original are:\n",
    "\n",
    "```\n",
    "refnx.version.full_version = 0.0.17\n",
    "scipy.version.version = 1.1.0\n",
    "```"
   ]
  },
  {
   "cell_type": "code",
   "execution_count": null,
   "metadata": {},
   "outputs": [],
   "source": [
    "refnx.version.full_version, scipy.version.version"
   ]
  },
  {
   "cell_type": "markdown",
   "metadata": {},
   "source": [
    "## Setup of the analysis\n",
    "\n",
    "The experimental datafiles are then read in."
   ]
  },
  {
   "cell_type": "code",
   "execution_count": null,
   "metadata": {},
   "outputs": [],
   "source": [
    "# Reading datasets into refnx format\n",
    "dataset_1 = ReflectDataset('{}nr_h_sp_{}.dat'.format(data_dir, sp))\n",
    "dataset_2 = ReflectDataset('{}nr_hd_sp_{}.dat'.format(data_dir, sp))"
   ]
  },
  {
   "cell_type": "markdown",
   "metadata": {},
   "source": [
    "The scattering lengths for the head and tail components are defined."
   ]
  },
  {
   "cell_type": "code",
   "execution_count": null,
   "metadata": {},
   "outputs": [],
   "source": [
    "head = {'C': 10, 'H': 18, 'O': 8, 'N': 1, 'P': 1}\n",
    "tail = {'C': length * 2, 'D': length * 4 + 2}\n",
    "\n",
    "head_sl = mv.get_scattering_length(head, neutron=True)\n",
    "tail_sl = mv.get_scattering_length(tail, neutron=True)"
   ]
  },
  {
   "cell_type": "markdown",
   "metadata": {},
   "source": [
    "Initial 'guesses' for a series of parameters are defined."
   ]
  },
  {
   "cell_type": "code",
   "execution_count": null,
   "metadata": {},
   "outputs": [],
   "source": [
    "solvent_sld = [0.43, 3.15]\n",
    "super_sld = [0, 0]\n",
    "thick_heads = 13.1117\n",
    "tail_length = 1.54 + 1.265 * length\n",
    "chain_tilt = 0.792674\n",
    "vols = [200.497, 891.]"
   ]
  },
  {
   "cell_type": "markdown",
   "metadata": {},
   "source": [
    "The `VolMono` class objects are defined. "
   ]
  },
  {
   "cell_type": "code",
   "execution_count": null,
   "metadata": {},
   "outputs": [],
   "source": [
    "lipid_1 = mv.VolMono(head_sl, thick_heads, tail_sl, tail_length, chain_tilt, vols, \n",
    "                      reverse_monolayer=True, name='{}_1'.format(lipid))\n",
    "lipid_2 = mv.VolMono(head_sl, thick_heads, tail_sl, tail_length, chain_tilt, vols, \n",
    "                      reverse_monolayer=True, name='{}_2'.format(lipid))"
   ]
  },
  {
   "cell_type": "markdown",
   "metadata": {},
   "source": [
    "A series of structures for each surface pressure is defined. "
   ]
  },
  {
   "cell_type": "code",
   "execution_count": null,
   "metadata": {},
   "outputs": [],
   "source": [
    "# build the structures\n",
    "air = SLD(0, '')\n",
    "des_1 = SLD(solvent_sld[0], '')\n",
    "des_2 = SLD(solvent_sld[1], '')\n",
    "\n",
    "structure_lipid_1 = air(0, 0) | lipid_1 | des_1(0, 0)\n",
    "structure_lipid_2 = air(0, 0) | lipid_2 | des_2(0, 0)"
   ]
  },
  {
   "cell_type": "markdown",
   "metadata": {},
   "source": [
    "A function is defined to allow floats to be obtained from previously defined output text files. "
   ]
  },
  {
   "cell_type": "code",
   "execution_count": null,
   "metadata": {},
   "outputs": [],
   "source": [
    "def get_value(file):\n",
    "    f = open(analysis_dir + lipid + '/' + file + '.txt', 'r')\n",
    "    for line in f:\n",
    "        k = line\n",
    "    l = k.split('$')[1].split('^')[0]\n",
    "    return float(l)"
   ]
  },
  {
   "cell_type": "markdown",
   "metadata": {},
   "source": [
    "The variables, and bounds for both surface pressures are setup."
   ]
  },
  {
   "cell_type": "code",
   "execution_count": null,
   "metadata": {
    "scrolled": true
   },
   "outputs": [],
   "source": [
    "lipid_1.head_mol_vol.setp(get_value('vh'), vary=False)\n",
    "lipid_1.tail_mol_vol.setp(get_value('vt'), vary=False)\n",
    "lipid_1.tail_length.setp(vary=False)\n",
    "lipid_1.rough_head_tail.constraint = structure_lipid_1[-1].rough\n",
    "lipid_1.rough_preceding_mono.constraint = structure_lipid_1[-1].rough\n",
    "lipid_1.phih.constraint = 1 - (lipid_1.head_mol_vol * lipid_1.tail_length * lipid_1.cos_rad_chain_tilt / \n",
    "                               (lipid_1.tail_mol_vol * lipid_1.thick_heads))\n",
    "lipid_1.thick_heads.setp(get_value('head'), vary=False)\n",
    "lipid_1.cos_rad_chain_tilt.setp(np.cos(np.deg2rad(get_value('angle{}'.format(sp)))), vary=True, bounds=(0.001, 0.909))\n",
    "structure_lipid_1[-1].rough.setp(get_value('rough{}'.format(sp)), vary=True, bounds=(2.5, 6))\n",
    "\n",
    "lipid_2.head_mol_vol.constraint = lipid_1.head_mol_vol\n",
    "lipid_2.tail_mol_vol.constraint = lipid_1.tail_mol_vol\n",
    "lipid_2.tail_length.constraint = lipid_1.tail_length\n",
    "lipid_2.rough_head_tail.constraint = structure_lipid_1[-1].rough\n",
    "lipid_2.rough_preceding_mono.constraint = structure_lipid_1[-1].rough\n",
    "lipid_2.phih.constraint = lipid_1.phih\n",
    "lipid_2.thick_heads.constraint = lipid_1.thick_heads\n",
    "lipid_2.cos_rad_chain_tilt.constraint = lipid_1.cos_rad_chain_tilt\n",
    "structure_lipid_2[-1].rough.constraint = structure_lipid_1[-1].rough"
   ]
  },
  {
   "cell_type": "markdown",
   "metadata": {},
   "source": [
    "Each model is then associated with a dataset"
   ]
  },
  {
   "cell_type": "code",
   "execution_count": null,
   "metadata": {},
   "outputs": [],
   "source": [
    "model_lipid_1 = ReflectModel(structure_lipid_1)\n",
    "model_lipid_1.scale.setp(vary=True, bounds=(0.005, 10))\n",
    "model_lipid_1.bkg.setp(dataset_1.y[-2], vary=False)\n",
    "\n",
    "model_lipid_2 = ReflectModel(structure_lipid_2)\n",
    "model_lipid_2.scale.setp(vary=True, bounds=(0.005, 10))\n",
    "model_lipid_2.bkg.setp(dataset_2.y[-2], vary=False)"
   ]
  },
  {
   "cell_type": "markdown",
   "metadata": {},
   "source": [
    "The global objective fitting object is defined and the fitting and MCMC performed. "
   ]
  },
  {
   "cell_type": "code",
   "execution_count": null,
   "metadata": {},
   "outputs": [],
   "source": [
    "# building the global objective\n",
    "objective_n1 = Objective(model_lipid_1, dataset_1, transform=Transform('YX4'))\n",
    "objective_n2 = Objective(model_lipid_2, dataset_2, transform=Transform('YX4'))\n",
    "\n",
    "global_objective = GlobalObjective([objective_n1, objective_n2])"
   ]
  },
  {
   "cell_type": "markdown",
   "metadata": {},
   "source": [
    "## Fitting \n",
    "\n",
    "The differential evolution algorithm is used to find optimal parameters, before the MCMC algorithm probes the parameter space for 1000 steps."
   ]
  },
  {
   "cell_type": "code",
   "execution_count": null,
   "metadata": {},
   "outputs": [],
   "source": [
    "# A differential evolution algorithm is used to obtain an best fit\n",
    "fitter = CurveFitter(global_objective)\n",
    "# A seed is used to ensure reproduciblity\n",
    "res = fitter.fit('differential_evolution', seed=1)\n",
    "# The first 200*200 samples are binned\n",
    "fitter.sample(200, random_state=1)\n",
    "fitter.sampler.reset()\n",
    "# The collection is across 5000*200 samples\n",
    "# The random_state seed is to allow for reproducibility\n",
    "res = fitter.sample(1000, nthin=1, random_state=1, f='{}{}/{}_chain_neutron.txt'.format(analysis_dir, lipid, sp))\n",
    "flatchain = fitter.sampler.flatchain"
   ]
  },
  {
   "cell_type": "markdown",
   "metadata": {},
   "source": [
    "The `global_objective` is printed containing information about the models."
   ]
  },
  {
   "cell_type": "code",
   "execution_count": null,
   "metadata": {
    "scrolled": false
   },
   "outputs": [],
   "source": [
    "#print total objective\n",
    "print(global_objective)"
   ]
  },
  {
   "cell_type": "markdown",
   "metadata": {},
   "source": [
    "## Bibliography\n",
    "\n",
    "1. Andrew Nelson, Stuart Prescott, Isaac Gresham, & Andrew R. McCluskey. (2018, August 3). refnx/refnx: v0.0.17 (Version v0.0.17). Zenodo. http://doi.org/10.5281/zenodo.1345464"
   ]
  },
  {
   "cell_type": "code",
   "execution_count": null,
   "metadata": {},
   "outputs": [],
   "source": []
  }
 ],
 "metadata": {
  "kernelspec": {
   "display_name": "Python [conda env:lipids_at_airdes]",
   "language": "python",
   "name": "conda-env-lipids_at_airdes-py"
  },
  "language_info": {
   "codemirror_mode": {
    "name": "ipython",
    "version": 3
   },
   "file_extension": ".py",
   "mimetype": "text/x-python",
   "name": "python",
   "nbconvert_exporter": "python",
   "pygments_lexer": "ipython3",
   "version": "3.7.0"
  },
  "latex_envs": {
   "LaTeX_envs_menu_present": true,
   "autoclose": false,
   "autocomplete": true,
   "bibliofile": "biblio.bib",
   "cite_by": "apalike",
   "current_citInitial": 1,
   "eqLabelWithNumbers": true,
   "eqNumInitial": 1,
   "hotkeys": {
    "equation": "Ctrl-E",
    "itemize": "Ctrl-I"
   },
   "labels_anchors": false,
   "latex_user_defs": false,
   "report_style_numbering": false,
   "user_envs_cfg": false
  }
 },
 "nbformat": 4,
 "nbformat_minor": 2
}
