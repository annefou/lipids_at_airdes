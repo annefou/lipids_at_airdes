{
 "cells": [
  {
   "cell_type": "code",
   "execution_count": null,
   "metadata": {},
   "outputs": [],
   "source": [
    "# Standard libraries to import\n",
    "from __future__ import division\n",
    "import numpy as np \n",
    "import scipy\n",
    "from scipy.stats.mstats import mquantiles\n",
    "\n",
    "# The refnx library, and associated classes\n",
    "import refnx\n",
    "from refnx.reflect import structure, ReflectModel, SLD#\n",
    "from refnx.dataset import ReflectDataset\n",
    "from refnx.analysis import Transform, CurveFitter, Objective, GlobalObjective, Parameter\n",
    "\n",
    "# The custom class to constain the monolayer model. \n",
    "import sys\n",
    "sys.path.insert(0, '../src/models')\n",
    "import mol_vol as mv\n",
    "sys.path.insert(0, '../src/tools')\n",
    "import helper\n",
    "\n",
    "lipid = sys.argv[1]\n",
    "length = int(sys.argv[2])\n",
    "sp = sys.argv[3]\n",
    "\n",
    "data_dir = '../data/processed/{}/'.format(lipid)\n",
    "figures_dir = '../reports/figures/'\n",
    "analysis_dir = '../output/'"
   ]
  },
  {
   "cell_type": "code",
   "execution_count": null,
   "metadata": {},
   "outputs": [],
   "source": [
    "refnx.version.full_version, scipy.version.version"
   ]
  },
  {
   "cell_type": "code",
   "execution_count": null,
   "metadata": {},
   "outputs": [],
   "source": [
    "# Reading datasets into refnx format\n",
    "dataset_1 = ReflectDataset('{}nr_h_sp_{}.dat'.format(data_dir, sp))\n",
    "dataset_2 = ReflectDataset('{}nr_hd_sp_{}.dat'.format(data_dir, sp))"
   ]
  },
  {
   "cell_type": "code",
   "execution_count": null,
   "metadata": {},
   "outputs": [],
   "source": [
    "head = {'C': 10, 'H': 18, 'O': 8, 'N': 1, 'P': 1}\n",
    "tail = {'C': length * 2, 'D': length * 4 + 2}\n",
    "\n",
    "head_sl = mv.get_scattering_length(head, neutron=True)\n",
    "tail_sl = mv.get_scattering_length(tail, neutron=True)\n",
    "\n",
    "solvent_sld = [0.43, 3.15]\n",
    "super_sld = [0, 0]\n",
    "thick_heads = 13.1117\n",
    "tail_length = 1.54 + 1.265 * length\n",
    "chain_tilt = 0.792674\n",
    "vols = [200.497, 891.]"
   ]
  },
  {
   "cell_type": "code",
   "execution_count": null,
   "metadata": {},
   "outputs": [],
   "source": [
    "lipid_1 = mv.VolMono(head_sl, thick_heads, tail_sl, tail_length, chain_tilt, vols, \n",
    "                      reverse_monolayer=True, name='{}_1'.format(lipid))\n",
    "lipid_2 = mv.VolMono(head_sl, thick_heads, tail_sl, tail_length, chain_tilt, vols, \n",
    "                      reverse_monolayer=True, name='{}_2'.format(lipid))"
   ]
  },
  {
   "cell_type": "code",
   "execution_count": null,
   "metadata": {},
   "outputs": [],
   "source": [
    "# build the structures\n",
    "air = SLD(0, '')\n",
    "des_1 = SLD(solvent_sld[0], '')\n",
    "des_2 = SLD(solvent_sld[1], '')\n",
    "\n",
    "structure_lipid_1 = air(0, 0) | lipid_1 | des_1(0, 0)\n",
    "structure_lipid_2 = air(0, 0) | lipid_2 | des_2(0, 0)"
   ]
  },
  {
   "cell_type": "code",
   "execution_count": null,
   "metadata": {},
   "outputs": [],
   "source": [
    "def get_value(file):\n",
    "    f = open(analysis_dir + lipid + '/' + file + '.txt', 'r')\n",
    "    for line in f:\n",
    "        k = line\n",
    "    l = k.split('$')[1].split('^')[0]\n",
    "    return float(l)"
   ]
  },
  {
   "cell_type": "code",
   "execution_count": null,
   "metadata": {
    "scrolled": true
   },
   "outputs": [],
   "source": [
    "lipid_1.head_mol_vol.setp(get_value('vh'), vary=False)\n",
    "lipid_1.tail_mol_vol.setp(get_value('vt'), vary=False)\n",
    "lipid_1.tail_length.setp(vary=False)\n",
    "lipid_1.rough_head_tail.constraint = structure_lipid_1[-1].rough\n",
    "lipid_1.rough_preceding_mono.constraint = structure_lipid_1[-1].rough\n",
    "lipid_1.phih.constraint = 1 - (lipid_1.head_mol_vol * lipid_1.tail_length * lipid_1.cos_rad_chain_tilt / \n",
    "                               (lipid_1.tail_mol_vol * lipid_1.thick_heads))\n",
    "lipid_1.thick_heads.setp(get_value('head'), vary=False)\n",
    "lipid_1.cos_rad_chain_tilt.setp(np.cos(np.deg2rad(get_value('angle{}'.format(sp)))), vary=True, bounds=(0.001, 0.909))\n",
    "structure_lipid_1[-1].rough.setp(get_value('rough{}'.format(sp)), vary=True, bounds=(2.5, 6))\n",
    "\n",
    "lipid_2.head_mol_vol.constraint = lipid_1.head_mol_vol\n",
    "lipid_2.tail_mol_vol.constraint = lipid_1.tail_mol_vol\n",
    "lipid_2.tail_length.constraint = lipid_1.tail_length\n",
    "lipid_2.rough_head_tail.constraint = structure_lipid_1[-1].rough\n",
    "lipid_2.rough_preceding_mono.constraint = structure_lipid_1[-1].rough\n",
    "lipid_2.phih.constraint = lipid_1.phih\n",
    "lipid_2.thick_heads.constraint = lipid_1.thick_heads\n",
    "lipid_2.cos_rad_chain_tilt.constraint = lipid_1.cos_rad_chain_tilt\n",
    "structure_lipid_2[-1].rough.constraint = structure_lipid_1[-1].rough"
   ]
  },
  {
   "cell_type": "code",
   "execution_count": null,
   "metadata": {},
   "outputs": [],
   "source": [
    "model_lipid_1 = ReflectModel(structure_lipid_1)\n",
    "model_lipid_1.scale.setp(vary=True, bounds=(0.005, 10))\n",
    "model_lipid_1.bkg.setp(dataset_1.y[-2], vary=False)\n",
    "\n",
    "model_lipid_2 = ReflectModel(structure_lipid_2)\n",
    "model_lipid_2.scale.setp(vary=True, bounds=(0.005, 10))\n",
    "model_lipid_2.bkg.setp(dataset_2.y[-2], vary=False)"
   ]
  },
  {
   "cell_type": "code",
   "execution_count": null,
   "metadata": {},
   "outputs": [],
   "source": [
    "# building the global objective\n",
    "objective_n1 = Objective(model_lipid_1, dataset_1, transform=Transform('YX4'))\n",
    "objective_n2 = Objective(model_lipid_2, dataset_2, transform=Transform('YX4'))\n",
    "\n",
    "global_objective = GlobalObjective([objective_n1, objective_n2])"
   ]
  },
  {
   "cell_type": "code",
   "execution_count": null,
   "metadata": {},
   "outputs": [],
   "source": [
    "# A differential evolution algorithm is used to obtain an best fit\n",
    "fitter = CurveFitter(global_objective)\n",
    "# A seed is used to ensure reproduciblity\n",
    "res = fitter.fit('differential_evolution', seed=1)\n",
    "# The first 200*200 samples are binned\n",
    "fitter.sample(200, random_state=1)\n",
    "fitter.sampler.reset()\n",
    "# The collection is across 5000*200 samples\n",
    "# The random_state seed is to allow for reproducibility\n",
    "res = fitter.sample(1000, nthin=1, random_state=1, f='{}/{}/{}_chain_neutron.txt'.format(analysis_dir, lipid, sp))\n",
    "flatchain = fitter.sampler.flatchain"
   ]
  },
  {
   "cell_type": "code",
   "execution_count": null,
   "metadata": {
    "scrolled": false
   },
   "outputs": [],
   "source": [
    "#print total objective\n",
    "print(global_objective)"
   ]
  },
  {
   "cell_type": "code",
   "execution_count": null,
   "metadata": {
    "scrolled": false
   },
   "outputs": [],
   "source": [
    "def printref(n, dataset, model, objective, analysis_dir, choose):\n",
    "    file_open = open('{}{}{}_ref_neutron.txt'.format(analysis_dir, lipid, n), 'w')\n",
    "    saved_params = np.array(objective.parameters)\n",
    "    for i in range(0, len(dataset.x)):\n",
    "        file_open.write('{} '.format(dataset.x[i]))\n",
    "    file_open.write('\\n')\n",
    "    for i in range(0, len(dataset.x)):\n",
    "        file_open.write('{} '.format(dataset.y[i]*(dataset.x[i])**4))\n",
    "    file_open.write('\\n')\n",
    "    for i in range(0, len(dataset.x)):\n",
    "        file_open.write('{} '.format(dataset.y_err[i]*(dataset.x[i])**4))\n",
    "    file_open.write('\\n')\n",
    "    for i in range(0, len(dataset.x)):\n",
    "        file_open.write('{} '.format((model(dataset.x, x_err=dataset.x_err)[i])*(dataset.x[i])**4))\n",
    "    file_open.write('\\n')\n",
    "    for pvec in choose:\n",
    "        objective.setp(pvec)\n",
    "        calc = model(dataset.x, x_err=dataset.x_err) * np.power(dataset.x, 4)\n",
    "        for i in range(0, len(dataset.x)):\n",
    "            file_open.write('{} '.format(calc[i]))\n",
    "        file_open.write('\\n')\n",
    "    file_open.close()\n",
    "    \n",
    "def printsld(n, structure, objective, choose):\n",
    "    file_open = open('{}{}{}_sld_neutron.txt'.format(analysis_dir, lipid, n), 'w')\n",
    "    z, true_sld = structure.sld_profile()\n",
    "    for i in range(0, len(z)):\n",
    "        file_open.write('{} '.format(z[i]))\n",
    "    file_open.write('\\n')\n",
    "    for i in range(0, len(z)):\n",
    "        file_open.write('{} '.format(true_sld[i]))\n",
    "    file_open.write('\\n')\n",
    "    for pvec in choose:\n",
    "        objective.setp(pvec)\n",
    "        zs, sld = structure.sld_profile()\n",
    "        for i in range(0, len(z)):\n",
    "            file_open.write('{} '.format(sld[i]))   \n",
    "        file_open.write('\\n')\n",
    "    file_open.close()\n",
    "    \n",
    "choose = global_objective.pgen(ngen=100)\n",
    "printref(\"{}_1\".format(sp), dataset_1, model_lipid_1, global_objective, analysis_dir, choose)\n",
    "printsld(\"{}_1\".format(sp), structure_lipid_1, global_objective, choose)\n",
    "printref(\"{}_2\".format(sp), dataset_2, model_lipid_2, global_objective, analysis_dir, choose)\n",
    "printsld(\"{}_2\".format(sp), structure_lipid_2, global_objective, choose)"
   ]
  },
  {
   "cell_type": "code",
   "execution_count": null,
   "metadata": {},
   "outputs": [],
   "source": [
    "lab = ['scale{}'.format(sp), 'angle{}'.format(sp), 'rough{}'.format(sp), 'scalea{}'.format(sp)]\n",
    "\n",
    "for i in range(0, flatchain.shape[1]):\n",
    "    total_pearsons = open('{}{}/{}_neutron.txt'.format(analysis_dir, lipid, lab[i]), 'w')\n",
    "    a = mquantiles(flatchain[:, i], prob=[0.025, 0.5, 0.975])\n",
    "    if 'angle' in lab[i]:\n",
    "        c = np.rad2deg(np.arccos(a))\n",
    "        k = [c[1], c[0] - c[1], c[1] - c[2]]\n",
    "        q = '{:.2f}'.format(k[0])\n",
    "        w = '{:.2f}'.format(k[1])\n",
    "        e = '{:.2f}'.format(k[2])\n",
    "        total_pearsons.write('$' + str(q) + '^{+' + str(w) + '}_{-' + str(e) + '}$')\n",
    "    elif 'sol' in lab[i]:\n",
    "        k = [a[1]*100, (a[1] - a[0])*100, (a[2] - a[1])*100]\n",
    "        q = '{:.2f}'.format(k[0])\n",
    "        e = '{:.2f}'.format(k[1])\n",
    "        w = '{:.2f}'.format(k[2])\n",
    "        total_pearsons.write('$' + str(q) + '^{+' + str(w) + '}_{-' + str(e) + '}$')\n",
    "    else:\n",
    "        k = [a[1], a[1] - a[0], a[2] - a[1]]\n",
    "        q = '{:.2f}'.format(k[0])\n",
    "        e = '{:.2f}'.format(k[1])\n",
    "        w = '{:.2f}'.format(k[2])\n",
    "        total_pearsons.write('$' + str(q) + '^{+' + str(w) + '}_{-' + str(e) + '}$')\n",
    "    total_pearsons.close()\n",
    "    \n",
    "lab2 = ['solh{}'.format(sp)]\n",
    "kl = 1 - ((lipid_1.head_mol_vol.value * flatchain[:, 1] * \n",
    "           lipid_1.tail_length.value) / (lipid_1.tail_mol_vol.value * lipid_1.thick_heads.value))\n",
    "kl = kl * 100\n",
    "for i in range(0, len(lab2)):\n",
    "    total_pearsons = open('{}{}/{}_neutron.txt'.format(analysis_dir, lipid, lab2[i]), 'w')\n",
    "    a = mquantiles(kl, prob=[0.025, 0.5, 0.975])\n",
    "    c = a\n",
    "    k = [a[1], a[1] - a[0], a[2] - a[1]]\n",
    "    q = '{:.2f}'.format(k[0])\n",
    "    w = '{:.2f}'.format(k[1])\n",
    "    e = '{:.2f}'.format(k[2])\n",
    "    total_pearsons.write('$' + str(q) + '^{+' + str(w) + '}_{-' + str(e) + '}$')\n",
    "    total_pearsons.close()\n",
    "    \n",
    "lab2 = ['tail{}'.format(sp)]\n",
    "kl = flatchain[:, 1] * lipid_1.tail_length.value\n",
    "for i in range(0, len(lab2)):\n",
    "    total_pearsons = open('{}{}/{}_neutron.txt'.format(analysis_dir, lipid, lab2[i]), 'w')\n",
    "    a = mquantiles(kl, prob=[0.025, 0.5, 0.975])\n",
    "    k = [a[1], a[1] - a[0], a[2] - a[1]]\n",
    "    q = '{:.2f}'.format(k[0])\n",
    "    e = '{:.2f}'.format(k[1])\n",
    "    w = '{:.2f}'.format(k[2])\n",
    "    total_pearsons.write('$' + str(q) + '^{+' + str(w) + '}_{-' + str(e) + '}$')\n",
    "    total_pearsons.close()"
   ]
  },
  {
   "cell_type": "code",
   "execution_count": null,
   "metadata": {},
   "outputs": [],
   "source": []
  }
 ],
 "metadata": {
  "kernelspec": {
   "display_name": "Python [conda env:lipids_at_airdes]",
   "language": "python",
   "name": "conda-env-lipids_at_airdes-py"
  },
  "language_info": {
   "codemirror_mode": {
    "name": "ipython",
    "version": 3
   },
   "file_extension": ".py",
   "mimetype": "text/x-python",
   "name": "python",
   "nbconvert_exporter": "python",
   "pygments_lexer": "ipython3",
   "version": "3.7.0"
  },
  "latex_envs": {
   "LaTeX_envs_menu_present": true,
   "autoclose": false,
   "autocomplete": true,
   "bibliofile": "biblio.bib",
   "cite_by": "apalike",
   "current_citInitial": 1,
   "eqLabelWithNumbers": true,
   "eqNumInitial": 1,
   "hotkeys": {
    "equation": "Ctrl-E",
    "itemize": "Ctrl-I"
   },
   "labels_anchors": false,
   "latex_user_defs": false,
   "report_style_numbering": false,
   "user_envs_cfg": false
  }
 },
 "nbformat": 4,
 "nbformat_minor": 2
}
