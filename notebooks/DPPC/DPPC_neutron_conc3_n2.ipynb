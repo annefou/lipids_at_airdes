{
 "cells": [
  {
   "cell_type": "code",
   "execution_count": 1,
   "metadata": {},
   "outputs": [],
   "source": [
    "# Standard libraries to import\n",
    "from __future__ import division\n",
    "import numpy as np \n",
    "import matplotlib.pyplot as plt\n",
    "#from matplotlib import rcParams, rc\n",
    "import seaborn as sns; sns.set('paper', palette='colorblind')\n",
    "import matplotlib as mpl\n",
    "from matplotlib import gridspec\n",
    "from scipy.stats import pearsonr\n",
    "from scipy.stats.mstats import mquantiles\n",
    "\n",
    "# The refnx library, and associated classes\n",
    "import refnx\n",
    "from refnx.reflect import structure, ReflectModel, SLD\n",
    "from refnx.dataset import ReflectDataset\n",
    "from refnx.analysis import Transform, CurveFitter, Objective, GlobalObjective, Parameter\n",
    "\n",
    "# The custom class to constain the monolayer model. \n",
    "import sys\n",
    "sys.path.insert(0, '/home/arm61/work/writing/articles/lipids_at_airdes/src/models')\n",
    "import mol_vol as mv\n",
    "\n",
    "data_dir = sys.argv[1] + '/data/processed/DPPC/'\n",
    "figures_dir = sys.argv[1] + '/reports/figures/'\n",
    "analysis_dir = sys.argv[1] + '/output/'"
   ]
  },
  {
   "cell_type": "code",
   "execution_count": 2,
   "metadata": {},
   "outputs": [],
   "source": [
    "# Reading datasets into refnx format\n",
    "dataset3_n2 = ReflectDataset('{}DPPC_Neutron_conc3_dDPPC_hdDES.mft'.format(data_dir))"
   ]
  },
  {
   "cell_type": "code",
   "execution_count": 3,
   "metadata": {},
   "outputs": [],
   "source": [
    "# Scattering length of the lipid head group \n",
    "# (found from summing the electrons in the head group \n",
    "# and multiplying by the classical radius of an electron)\n",
    "head_sl = [602.7e-6, 602.7e-6]\n",
    "# Scattering length of the lipid tail group\",\n",
    "tail_sl = [6129.2e-6, 6129.2e-6]\n",
    "# Solvent SLD from ref [3]\n",
    "solvent_sld = [0.43, 3.15]\n",
    "# SLD of air\",\n",
    "super_sld = [0, 0]\n",
    "# Some initial values for the head and tail thicknesses & APM\n",
    "thick_heads = [13.1117, 11.0571]\n",
    "tail_length = 1.54 + 1.265 * 15\n",
    "chain_tilt = [0.792674, 0.79015]\n",
    "vols = [200.497, 891.]\n",
    "head_tail_rough = 3.3\n",
    "tail_air_rough = 5.1"
   ]
  },
  {
   "cell_type": "code",
   "execution_count": 4,
   "metadata": {},
   "outputs": [],
   "source": [
    "# set up the chemical context system\n",
    "dppc3_n2 = mv.VolMono(head_sl[1], thick_heads[1], tail_sl[1], tail_length, chain_tilt[1], vols, \n",
    "                  head_tail_rough, tail_air_rough, reverse_monolayer=True, name='dppc3_n2')"
   ]
  },
  {
   "cell_type": "code",
   "execution_count": 5,
   "metadata": {},
   "outputs": [],
   "source": [
    "# build the structures\n",
    "air = SLD(0, '')\n",
    "des_n2 = SLD(solvent_sld[1], '')\n",
    "\n",
    "structure_dppc3_n2 = air(0, 0) | dppc3_n2 | des_n2(0, 0)"
   ]
  },
  {
   "cell_type": "code",
   "execution_count": 6,
   "metadata": {},
   "outputs": [],
   "source": [
    "def get_value(file):\n",
    "    f = open(analysis_dir + 'dppc/' + file + '.txt', 'r')\n",
    "    for line in f:\n",
    "        k = line\n",
    "    l = k.split('$')[1].split('^')[0]\n",
    "    return float(l)"
   ]
  },
  {
   "cell_type": "code",
   "execution_count": 7,
   "metadata": {
    "scrolled": true
   },
   "outputs": [],
   "source": [
    "dppc3_n2.head_mol_vol.setp(get_value('vh'), vary=False, bounds=(72., 472.))\n",
    "dppc3_n2.tail_mol_vol.setp(get_value('vt'), vary=False)\n",
    "dppc3_n2.tail_length.setp(vary=False)\n",
    "dppc3_n2.rough_head_tail.constraint = dppc3_n2.solventrough\n",
    "dppc3_n2.rough_preceding_mono.constraint = dppc3_n2.solventrough\n",
    "dppc3_n2.solventrough.setp(get_value('rough4'), vary=True, bounds=(2.5, 8.))\n",
    "dppc3_n2.phih.setp(get_value('solh5')/100, vary=True, bounds=(0.2, 0.9))\n",
    "dppc3_n2.solventsld.setp(vary=False)\n",
    "dppc3_n2.solventsldi.setp(vary=False)\n",
    "dppc3_n2.supersld.setp(vary=False)\n",
    "dppc3_n2.supersldi.setp(vary=False)\n",
    "dppc3_n2.thick_heads.setp(get_value('head4'), vary=False)\n",
    "dppc3_n2.phit.constraint = 1 - ((dppc3_n2.thick_heads * dppc3_n2.tail_mol_vol * (1 - dppc3_n2.phih)) / (dppc3_n2.head_mol_vol * dppc3_n2.cos_rad_chain_tilt * dppc3_n2.tail_length))\n",
    "dppc3_n2.cos_rad_chain_tilt.setp(np.cos(np.deg2rad(get_value('angle5'))), vary=True, bounds=(0.5, 0.99))\n",
    "structure_dppc3_n2[-1].rough.setp(vary=False)\n",
    "dppc3_n2.solventsld.setp(solvent_sld[1], vary=False)"
   ]
  },
  {
   "cell_type": "code",
   "execution_count": 8,
   "metadata": {},
   "outputs": [],
   "source": [
    "# Creating a ReflectModel class object, add setting an initial scale \n",
    "model_dppc3_n2 = ReflectModel(structure_dppc3_n2)\n",
    "model_dppc3_n2.scale.setp(0.9364, vary=True, bounds=(0.005, 10))\n",
    "# The background for held constant to a value determined from a previous fitting\n",
    "model_dppc3_n2.bkg.setp(dataset3_n2.y[-2], vary=False)"
   ]
  },
  {
   "cell_type": "code",
   "execution_count": 9,
   "metadata": {},
   "outputs": [],
   "source": [
    "# building the global objective\n",
    "objective_n2 = Objective(model_dppc3_n2, dataset3_n2, transform=Transform('YX4'))"
   ]
  },
  {
   "cell_type": "code",
   "execution_count": 10,
   "metadata": {},
   "outputs": [
    {
     "name": "stderr",
     "output_type": "stream",
     "text": [
      "100%|██████████| 200/200 [00:27<00:00,  7.42it/s]\n",
      "100%|██████████| 1000/1000 [02:33<00:00,  5.19it/s]\n"
     ]
    }
   ],
   "source": [
    "# A differential evolution algorithm is used to obtain an best fit\n",
    "fitter = CurveFitter(objective_n2)\n",
    "# A seed is used to ensure reproduciblity\n",
    "res = fitter.fit('differential_evolution', seed=1)\n",
    "# The first 200*200 samples are binned\n",
    "fitter.sample(200, random_state=1)\n",
    "fitter.sampler.reset()\n",
    "# The collection is across 5000*200 samples\n",
    "# The random_state seed is to allow for reproducibility\n",
    "res = fitter.sample(1000, nthin=1, random_state=2, f='{}dppc_highconc_chain_neutron_n2.txt'.format(analysis_dir))\n",
    "flatchain = fitter.sampler.flatchain"
   ]
  },
  {
   "cell_type": "code",
   "execution_count": 11,
   "metadata": {
    "scrolled": false
   },
   "outputs": [
    {
     "name": "stdout",
     "output_type": "stream",
     "text": [
      "________________________________________________________________________________\n",
      "Objective - 140598550505400\n",
      "Dataset = DPPC_Neutron_conc3_dDPPC_hdDES\n",
      "datapoints = 72\n",
      "chi2 = 3109.8260499743874\n",
      "Weighted = True\n",
      "Transform = <refnx.analysis.objective.Transform object at 0x7fdfa6a8a198>\n",
      "________________________________________________________________________________\n",
      "Parameters:       ''       \n",
      "________________________________________________________________________________\n",
      "Parameters: 'instrument parameters'\n",
      "<Parameter:    'scale'    value=   0.876949     +/- 0.00228, bounds=[0.005, 10]>\n",
      "<Parameter:     'bkg'     value=  5.15419e-06   (fixed)  , bounds=[-inf, inf]>\n",
      "<Parameter:'dq - resolution'value=       5        (fixed)  , bounds=[-inf, inf]>\n",
      "________________________________________________________________________________\n",
      "Parameters: 'Structure - ' \n",
      "________________________________________________________________________________\n",
      "Parameters:       ''       \n",
      "<Parameter:  ' - thick'   value=       0        (fixed)  , bounds=[-inf, inf]>\n",
      "<Parameter:   ' - sld'    value=       0        (fixed)  , bounds=[-inf, inf]>\n",
      "<Parameter:   ' - isld'   value=       0        (fixed)  , bounds=[-inf, inf]>\n",
      "<Parameter:  ' - rough'   value=       0        (fixed)  , bounds=[-inf, inf]>\n",
      "<Parameter:' - volfrac solvent'value=       0        (fixed)  , bounds=[-inf, inf]>\n",
      "________________________________________________________________________________\n",
      "Parameters:   'dppc3_n2'   \n",
      "<Parameter:'dppc3_n2 - b_heads_real'value=   0.0006027    (fixed)  , bounds=[-inf, inf]>\n",
      "<Parameter:'dppc3_n2 - b_heads_imag'value=       0        (fixed)  , bounds=[-inf, inf]>\n",
      "<Parameter:'dppc3_n2 - b_tails_real'value=   0.0061292    (fixed)  , bounds=[-inf, inf]>\n",
      "<Parameter:'dppc3_n2 - b_tails_imag'value=       0        (fixed)  , bounds=[-inf, inf]>\n",
      "<Parameter:'dppc3_n2 - thick_heads'value=     11.59      (fixed)  , bounds=[-inf, inf]>\n",
      "<Parameter:'dppc3_n2 - tail_length'value=    20.515      (fixed)  , bounds=[-inf, inf]>\n",
      "<Parameter:'dppc3_n2 - chain_tilt'value=    0.88327     +/- 0.023, bounds=[0.1, 0.9], constraint=<Parameter:     None      value=    0.88327     (fixed)  , bounds=None>>\n",
      "<Parameter:'dppc3_n2 - tail_molecular_volume'value=      891       (fixed)  , bounds=[-inf, inf]>\n",
      "<Parameter:'dppc3_n2 - head_molecular_volume'value=    291.71      (fixed)  , bounds=[72.0, 472.0]>\n",
      "<Parameter:'dppc3_n2 - rough_head_tail'value=      3.3       (fixed)  , bounds=[0.1, 20]>\n",
      "<Parameter:'dppc3_n2 - rough_preceding_mono'value=   0.540318     +/- 0.405, bounds=[0.1, 12]>\n",
      "<Parameter:'dppc3_n2 - solvent rough'value=      3.3       (fixed)  , bounds=[-inf, inf]>\n",
      "<Parameter:'dppc3_n2 - phit'value=   0.135498     +/- 0.0123, bounds=[0, 0.6]>\n",
      "<Parameter:'dppc3_n2 - phih'value=   0.557492     +/- 0.00552, bounds=[0, 0.9999]>\n",
      "________________________________________________________________________________\n",
      "Parameters:       ''       \n",
      "<Parameter:  ' - thick'   value=       0        (fixed)  , bounds=[-inf, inf]>\n",
      "<Parameter:   ' - sld'    value=     3.15       (fixed)  , bounds=[-inf, inf]>\n",
      "<Parameter:   ' - isld'   value=       0        (fixed)  , bounds=[-inf, inf]>\n",
      "<Parameter:  ' - rough'   value=       0        (fixed)  , bounds=[-inf, inf]>\n",
      "<Parameter:' - volfrac solvent'value=       0        (fixed)  , bounds=[-inf, inf]>\n"
     ]
    }
   ],
   "source": [
    "#print total objective\n",
    "print(objective_n2)"
   ]
  },
  {
   "cell_type": "code",
   "execution_count": 12,
   "metadata": {},
   "outputs": [],
   "source": [
    "angle3 = flatchain[:, 1]#(dppc3_n2.head_mol_vol.value * dppc3_n2.tail_length.value * flatchain[:, 1] * \n",
    "        #(1 - flatchain[:, 3])) / (dppc3_n2.tail_mol_vol.value * (1 - flatchain[:, 4]))"
   ]
  },
  {
   "cell_type": "code",
   "execution_count": 13,
   "metadata": {
    "scrolled": false
   },
   "outputs": [],
   "source": [
    "lab = ['scale3', 'angle3', 'rought3', 'solh3']\n",
    "\n",
    "def printref(n, dataset, model, objective, analysis_dir, choose):\n",
    "    file_open = open('{}dppc{}_ref_neutron.txt'.format(analysis_dir, n), 'w')\n",
    "    saved_params = np.array(objective.parameters)\n",
    "    for i in range(0, len(dataset.x)):\n",
    "        file_open.write('{} '.format(dataset.x[i]))\n",
    "    file_open.write('\\n')\n",
    "    for i in range(0, len(dataset.x)):\n",
    "        file_open.write('{} '.format(dataset.y[i]*(dataset.x[i])**4))\n",
    "    file_open.write('\\n')\n",
    "    for i in range(0, len(dataset.x)):\n",
    "        file_open.write('{} '.format(dataset.y_err[i]*(dataset.x[i])**4))\n",
    "    file_open.write('\\n')\n",
    "    for i in range(0, len(dataset.x)):\n",
    "        file_open.write('{} '.format((model(dataset.x, x_err=dataset.x_err)[i])*(dataset.x[i])**4))\n",
    "    file_open.write('\\n')\n",
    "    for pvec in choose:\n",
    "        objective.setp(pvec)\n",
    "        calc = model(dataset.x, x_err=dataset.x_err) * np.power(dataset.x, 4)\n",
    "        for i in range(0, len(dataset.x)):\n",
    "            file_open.write('{} '.format(calc[i]))\n",
    "        file_open.write('\\n')\n",
    "    file_open.close()\n",
    "    \n",
    "def printsld(n, structure, objective, choose):\n",
    "    file_open = open('{}dppc{}_sld_neutron.txt'.format(analysis_dir, n), 'w')\n",
    "    z, true_sld = structure.sld_profile()\n",
    "    for i in range(0, len(z)):\n",
    "        file_open.write('{} '.format(z[i]))\n",
    "    file_open.write('\\n')\n",
    "    for i in range(0, len(z)):\n",
    "        file_open.write('{} '.format(true_sld[i]))\n",
    "    file_open.write('\\n')\n",
    "    for pvec in choose:\n",
    "        objective.setp(pvec)\n",
    "        zs, sld = structure.sld_profile()\n",
    "        for i in range(0, len(z)):\n",
    "            file_open.write('{} '.format(sld[i]))   \n",
    "        file_open.write('\\n')\n",
    "    file_open.close()\n",
    "    \n",
    "choose = objective_n2.pgen(ngen=100)\n",
    "printref(\"3_n2\", dataset3_n2, model_dppc3_n2, objective_n2, analysis_dir, choose)\n",
    "printsld(\"3_n2\", structure_dppc3_n2, objective_n2, choose)"
   ]
  },
  {
   "cell_type": "code",
   "execution_count": 14,
   "metadata": {},
   "outputs": [],
   "source": [
    "lab = ['scale3', 'angle3', 'rought3', 'solh3']\n",
    "\n",
    "for i in range(0, flatchain.shape[1]):\n",
    "    total_pearsons = open('{}dppc/{}_neutron_n2.txt'.format(analysis_dir, lab[i]), 'w')\n",
    "    a = mquantiles(flatchain[:, i], prob=[0.025, 0.5, 0.975])\n",
    "    if 'angle' in lab[i]:\n",
    "        c = np.rad2deg(np.arccos(a))\n",
    "        k = [c[1], c[0] - c[1], c[1] - c[2]]\n",
    "        q = '{:.2f}'.format(k[0])\n",
    "        w = '{:.2f}'.format(k[1])\n",
    "        e = '{:.2f}'.format(k[2])\n",
    "        total_pearsons.write('$' + str(q) + '^{+' + str(w) + '}_{-' + str(e) + '}$')\n",
    "    elif 'sol' in lab[i]:\n",
    "        k = [a[1]*100, (a[1] - a[0])*100, (a[2] - a[1])*100]\n",
    "        q = '{:.2f}'.format(k[0])\n",
    "        e = '{:.2f}'.format(k[1])\n",
    "        w = '{:.2f}'.format(k[2])\n",
    "        total_pearsons.write('$' + str(q) + '^{+' + str(w) + '}_{-' + str(e) + '}$')\n",
    "    else:\n",
    "        k = [a[1], a[1] - a[0], a[2] - a[1]]\n",
    "        q = '{:.2f}'.format(k[0])\n",
    "        e = '{:.2f}'.format(k[1])\n",
    "        w = '{:.2f}'.format(k[2])\n",
    "        total_pearsons.write('$' + str(q) + '^{+' + str(w) + '}_{-' + str(e) + '}$')\n",
    "    total_pearsons.close()\n",
    "    \n",
    "lab2 = ['solt3']\n",
    "kl = 1 - ((dppc3_n2.thick_heads.value * dppc3_n2.tail_mol_vol.value * (1 - flatchain[:, 3])) / (dppc3_n2.head_mol_vol.value * flatchain[:, 1] * dppc3_n2.tail_length.value))\n",
    "kl = kl * 100\n",
    "for i in range(0, len(lab2)):\n",
    "    total_pearsons = open('{}dppc/{}_neutron_n2.txt'.format(analysis_dir, lab2[i]), 'w')\n",
    "    a = mquantiles(kl, prob=[0.025, 0.5, 0.975])\n",
    "    c = a\n",
    "    k = [a[1], a[1] - a[0], a[2] - a[1]]\n",
    "    q = '{:.2f}'.format(k[0])\n",
    "    w = '{:.2f}'.format(k[1])\n",
    "    e = '{:.2f}'.format(k[2])\n",
    "    total_pearsons.write('$' + str(q) + '^{+' + str(w) + '}_{-' + str(e) + '}$')\n",
    "    total_pearsons.close()\n",
    "    \n",
    "lab2 = ['tail3']\n",
    "kl = flatchain[:, 1] * dppc3_n2.tail_length.value\n",
    "for i in range(0, len(lab2)):\n",
    "    total_pearsons = open('{}dppc/{}_neutron_n2.txt'.format(analysis_dir, lab2[i]), 'w')\n",
    "    a = mquantiles(kl, prob=[0.025, 0.5, 0.975])\n",
    "    k = [a[1], a[1] - a[0], a[2] - a[1]]\n",
    "    q = '{:.2f}'.format(k[0])\n",
    "    e = '{:.2f}'.format(k[1])\n",
    "    w = '{:.2f}'.format(k[2])\n",
    "    total_pearsons.write('$' + str(q) + '^{+' + str(w) + '}_{-' + str(e) + '}$')\n",
    "    total_pearsons.close()"
   ]
  },
  {
   "cell_type": "code",
   "execution_count": null,
   "metadata": {},
   "outputs": [],
   "source": []
  }
 ],
 "metadata": {
  "kernelspec": {
   "display_name": "Python [conda env:asfarm_2018]",
   "language": "python",
   "name": "conda-env-asfarm_2018-py"
  },
  "language_info": {
   "codemirror_mode": {
    "name": "ipython",
    "version": 3
   },
   "file_extension": ".py",
   "mimetype": "text/x-python",
   "name": "python",
   "nbconvert_exporter": "python",
   "pygments_lexer": "ipython3",
   "version": "3.6.5"
  },
  "latex_envs": {
   "LaTeX_envs_menu_present": true,
   "autoclose": false,
   "autocomplete": true,
   "bibliofile": "biblio.bib",
   "cite_by": "apalike",
   "current_citInitial": 1,
   "eqLabelWithNumbers": true,
   "eqNumInitial": 1,
   "hotkeys": {
    "equation": "Ctrl-E",
    "itemize": "Ctrl-I"
   },
   "labels_anchors": false,
   "latex_user_defs": false,
   "report_style_numbering": false,
   "user_envs_cfg": false
  }
 },
 "nbformat": 4,
 "nbformat_minor": 2
}
