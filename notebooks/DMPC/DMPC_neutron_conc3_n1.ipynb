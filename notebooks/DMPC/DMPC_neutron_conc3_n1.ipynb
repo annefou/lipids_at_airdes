{
 "cells": [
  {
   "cell_type": "code",
   "execution_count": 1,
   "metadata": {},
   "outputs": [],
   "source": [
    "# Standard libraries to import\n",
    "from __future__ import division\n",
    "import numpy as np \n",
    "import matplotlib.pyplot as plt\n",
    "#from matplotlib import rcParams, rc\n",
    "import seaborn as sns; sns.set('paper', palette='colorblind')\n",
    "import matplotlib as mpl\n",
    "from matplotlib import gridspec\n",
    "from scipy.stats import pearsonr\n",
    "from scipy.stats.mstats import mquantiles\n",
    "\n",
    "# The refnx library, and associated classes\n",
    "import refnx\n",
    "from refnx.reflect import structure, ReflectModel, SLD#\n",
    "from refnx.dataset import ReflectDataset\n",
    "from refnx.analysis import Transform, CurveFitter, Objective, GlobalObjective, Parameter\n",
    "\n",
    "# The custom class to constain the monolayer model. \n",
    "import sys\n",
    "sys.path.insert(0, '/home/arm61/work/writing/articles/lipids_at_airdes/src/models')\n",
    "import mol_vol as mv\n",
    "\n",
    "data_dir = sys.argv[1] + '/data/processed/DMPC/'\n",
    "figures_dir = sys.argv[1] + '/reports/figures/'\n",
    "analysis_dir = sys.argv[1] + '/output/'"
   ]
  },
  {
   "cell_type": "code",
   "execution_count": 2,
   "metadata": {},
   "outputs": [],
   "source": [
    "# Reading datasets into refnx format\n",
    "dataset3_n1 = ReflectDataset('{}DMPC_Neutron_conc2_dDMPC_hDES.mft'.format(data_dir))"
   ]
  },
  {
   "cell_type": "code",
   "execution_count": 3,
   "metadata": {},
   "outputs": [],
   "source": [
    "# Scattering length of the lipid head group \n",
    "# (found from summing the electrons in the head group \n",
    "# and multiplying by the classical radius of an electron)\n",
    "head_sl = [602.7e-6, 602.7e-6]\n",
    "# Scattering length of the lipid tail group\",\n",
    "tail_sl = [5329.76e-6, 5329.76e-6]\n",
    "# Solvent SLD from ref [3]\n",
    "solvent_sld = [0.43, 3.15]\n",
    "# SLD of air\",\n",
    "super_sld = [0, 0]\n",
    "# Some initial values for the head and tail thicknesses & APM\n",
    "thick_heads = [13.1117, 11.0571]\n",
    "tail_length = 1.54 + 1.265 * 13\n",
    "chain_tilt = [0.792674, 0.79015]\n",
    "vols = [200.497, 891.]\n",
    "head_tail_rough = 3.3\n",
    "tail_air_rough = 5.1"
   ]
  },
  {
   "cell_type": "code",
   "execution_count": 4,
   "metadata": {},
   "outputs": [],
   "source": [
    "# set up the chemical context system\n",
    "dmpc3_n1 = mv.VolMono(head_sl[0], thick_heads[0], tail_sl[0], tail_length, chain_tilt[0], vols, \n",
    "                  head_tail_rough, tail_air_rough, reverse_monolayer=True, name='dmpc3_n1')"
   ]
  },
  {
   "cell_type": "code",
   "execution_count": 5,
   "metadata": {},
   "outputs": [],
   "source": [
    "# build the structures\n",
    "air = SLD(0, '')\n",
    "des_n1 = SLD(solvent_sld[0], '')\n",
    "\n",
    "structure_dmpc3_n1 = air(0, 0) | dmpc3_n1 | des_n1(0, 0)"
   ]
  },
  {
   "cell_type": "code",
   "execution_count": 6,
   "metadata": {},
   "outputs": [],
   "source": [
    "def get_value(file):\n",
    "    f = open(analysis_dir + 'dmpc/' + file + '.txt', 'r')\n",
    "    for line in f:\n",
    "        k = line\n",
    "    l = k.split('$')[1].split('^')[0]\n",
    "    return float(l)"
   ]
  },
  {
   "cell_type": "code",
   "execution_count": 7,
   "metadata": {
    "scrolled": true
   },
   "outputs": [],
   "source": [
    "dmpc3_n1.head_mol_vol.setp(get_value('vh'), vary=False, bounds=(72., 472.))\n",
    "dmpc3_n1.tail_mol_vol.setp(get_value('vt'), vary=False)\n",
    "dmpc3_n1.tail_length.setp(vary=False)\n",
    "dmpc3_n1.rough_head_tail.constraint = dmpc3_n1.solventrough\n",
    "dmpc3_n1.rough_preceding_mono.constraint = dmpc3_n1.solventrough\n",
    "dmpc3_n1.solventrough.setp(get_value('rough4'), vary=True, bounds=(2.5, 8.))\n",
    "dmpc3_n1.phih.setp(get_value('solh5')/100, vary=True, bounds=(0.3, 0.9))\n",
    "dmpc3_n1.solventsld.setp(vary=False)\n",
    "dmpc3_n1.solventsldi.setp(vary=False)\n",
    "dmpc3_n1.supersld.setp(vary=False)\n",
    "dmpc3_n1.supersldi.setp(vary=False)\n",
    "dmpc3_n1.thick_heads.setp(get_value('head4'), vary=False)\n",
    "dmpc3_n1.phit.constraint = 1 - ((dmpc3_n1.thick_heads * dmpc3_n1.tail_mol_vol * (1 - dmpc3_n1.phih)) / (dmpc3_n1.head_mol_vol * dmpc3_n1.cos_rad_chain_tilt * dmpc3_n1.tail_length))\n",
    "dmpc3_n1.cos_rad_chain_tilt.setp(np.cos(np.deg2rad(get_value('angle5'))), vary=True, bounds=(0.5, 0.9))\n",
    "structure_dmpc3_n1[-1].rough.setp(vary=False)\n",
    "dmpc3_n1.solventsld.setp(solvent_sld[0], vary=False)"
   ]
  },
  {
   "cell_type": "code",
   "execution_count": 8,
   "metadata": {},
   "outputs": [],
   "source": [
    "# Creating a ReflectModel class object, add setting an initial scale \n",
    "model_dmpc3_n1 = ReflectModel(structure_dmpc3_n1)\n",
    "model_dmpc3_n1.scale.setp(0.9364, vary=True, bounds=(0.005, 10))\n",
    "# The background for held constant to a value determined from a previous fitting\n",
    "model_dmpc3_n1.bkg.setp(dataset3_n1.y[-1], vary=False)"
   ]
  },
  {
   "cell_type": "code",
   "execution_count": 9,
   "metadata": {},
   "outputs": [],
   "source": [
    "# building the global objective\n",
    "objective_n1 = Objective(model_dmpc3_n1, dataset3_n1, transform=Transform('YX4'))"
   ]
  },
  {
   "cell_type": "code",
   "execution_count": 10,
   "metadata": {},
   "outputs": [
    {
     "name": "stderr",
     "output_type": "stream",
     "text": [
      "100%|██████████| 10/10 [00:01<00:00,  8.74it/s]\n",
      "100%|██████████| 10/10 [00:01<00:00,  7.80it/s]\n"
     ]
    }
   ],
   "source": [
    "# A differential evolution algorithm is used to obtain an best fit\n",
    "fitter = CurveFitter(objective_n1)\n",
    "# A seed is used to ensure reproduciblity\n",
    "res = fitter.fit('differential_evolution', seed=1)\n",
    "# The first 200*200 samples are binned\n",
    "fitter.sample(200, random_state=1)\n",
    "fitter.sampler.reset()\n",
    "# The collection is across 5000*200 samples\n",
    "# The random_state seed is to allow for reproducibility\n",
    "res = fitter.sample(1000, nthin=1, random_state=2, f='{}dmpc_highconc_chain_neutron_n1.txt'.format(analysis_dir))\n",
    "flatchain = fitter.sampler.flatchain"
   ]
  },
  {
   "cell_type": "code",
   "execution_count": 11,
   "metadata": {
    "scrolled": false
   },
   "outputs": [
    {
     "name": "stdout",
     "output_type": "stream",
     "text": [
      "________________________________________________________________________________\n",
      "Objective - 139855480193880\n",
      "Dataset = DMPC_Neutron_conc2_dDMPC_hDES\n",
      "datapoints = 75\n",
      "chi2 = 155.81140524577557\n",
      "Weighted = True\n",
      "Transform = <refnx.analysis.objective.Transform object at 0x7f32a4378208>\n",
      "________________________________________________________________________________\n",
      "Parameters:       ''       \n",
      "________________________________________________________________________________\n",
      "Parameters: 'instrument parameters'\n",
      "<Parameter:    'scale'    value=   0.657121     +/- 0.0166, bounds=[0.005, 10]>\n",
      "<Parameter:     'bkg'     value=  5.15985e-06   (fixed)  , bounds=[-inf, inf]>\n",
      "<Parameter:'dq - resolution'value=       5        (fixed)  , bounds=[-inf, inf]>\n",
      "________________________________________________________________________________\n",
      "Parameters: 'Structure - ' \n",
      "________________________________________________________________________________\n",
      "Parameters:       ''       \n",
      "<Parameter:  ' - thick'   value=       0        (fixed)  , bounds=[-inf, inf]>\n",
      "<Parameter:   ' - sld'    value=       0        (fixed)  , bounds=[-inf, inf]>\n",
      "<Parameter:   ' - isld'   value=       0        (fixed)  , bounds=[-inf, inf]>\n",
      "<Parameter:  ' - rough'   value=       0        (fixed)  , bounds=[-inf, inf]>\n",
      "<Parameter:' - volfrac solvent'value=       0        (fixed)  , bounds=[-inf, inf]>\n",
      "________________________________________________________________________________\n",
      "Parameters:   'dmpc3_n1'   \n",
      "<Parameter:'dmpc3_n1 - b_heads_real'value=   0.0006027    (fixed)  , bounds=[-inf, inf]>\n",
      "<Parameter:'dmpc3_n1 - b_heads_imag'value=       0        (fixed)  , bounds=[-inf, inf]>\n",
      "<Parameter:'dmpc3_n1 - b_tails_real'value=  0.00532976    (fixed)  , bounds=[-inf, inf]>\n",
      "<Parameter:'dmpc3_n1 - b_tails_imag'value=       0        (fixed)  , bounds=[-inf, inf]>\n",
      "<Parameter:'dmpc3_n1 - thick_heads'value=     12.83      (fixed)  , bounds=[-inf, inf]>\n",
      "<Parameter:'dmpc3_n1 - tail_length'value=    17.985      (fixed)  , bounds=[-inf, inf]>\n",
      "<Parameter:'dmpc3_n1 - chain_tilt'value=   0.671065     +/- 0.0594, bounds=[0.5, 0.9]>\n",
      "<Parameter:'dmpc3_n1 - tail_molecular_volume'value=    704.33      (fixed)  , bounds=[-inf, inf]>\n",
      "<Parameter:'dmpc3_n1 - head_molecular_volume'value=    348.91      (fixed)  , bounds=[72.0, 472.0]>\n",
      "<Parameter:'dmpc3_n1 - rough_head_tail'value=    4.33441     +/- 0.733, bounds=[-inf, inf], constraint=<Parameter:'dmpc3_n1 - solvent rough'value=    4.33441     +/- 0.733, bounds=[2.5, 8.0]>>\n",
      "<Parameter:'dmpc3_n1 - rough_preceding_mono'value=    4.33441     +/- 0.733, bounds=[-inf, inf], constraint=<Parameter:'dmpc3_n1 - solvent rough'value=    4.33441     +/- 0.733, bounds=[2.5, 8.0]>>\n",
      "<Parameter:'dmpc3_n1 - solvent rough'value=    4.33441     +/- 0.733, bounds=[2.5, 8.0]>\n",
      "<Parameter:'dmpc3_n1 - phit'value=   0.273928     +/- 0.0694, bounds=[-inf, inf], constraint=<Parameter:     None      value=   0.273928     (fixed)  , bounds=None>>\n",
      "<Parameter:'dmpc3_n1 - phih'value=   0.661651     +/- 0.00803, bounds=[0.3, 0.9]>\n",
      "________________________________________________________________________________\n",
      "Parameters:       ''       \n",
      "<Parameter:  ' - thick'   value=       0        (fixed)  , bounds=[-inf, inf]>\n",
      "<Parameter:   ' - sld'    value=     0.43       (fixed)  , bounds=[-inf, inf]>\n",
      "<Parameter:   ' - isld'   value=       0        (fixed)  , bounds=[-inf, inf]>\n",
      "<Parameter:  ' - rough'   value=       0        (fixed)  , bounds=[-inf, inf]>\n",
      "<Parameter:' - volfrac solvent'value=       0        (fixed)  , bounds=[-inf, inf]>\n"
     ]
    }
   ],
   "source": [
    "#print total objective\n",
    "print(objective_n1)"
   ]
  },
  {
   "cell_type": "code",
   "execution_count": 12,
   "metadata": {
    "scrolled": false
   },
   "outputs": [],
   "source": [
    "def printref(n, dataset, model, objective, analysis_dir, choose):\n",
    "    file_open = open('{}dmpc{}_ref_neutron.txt'.format(analysis_dir, n), 'w')\n",
    "    saved_params = np.array(objective.parameters)\n",
    "    for i in range(0, len(dataset.x)):\n",
    "        file_open.write('{} '.format(dataset.x[i]))\n",
    "    file_open.write('\\n')\n",
    "    for i in range(0, len(dataset.x)):\n",
    "        file_open.write('{} '.format(dataset.y[i]*(dataset.x[i])**4))\n",
    "    file_open.write('\\n')\n",
    "    for i in range(0, len(dataset.x)):\n",
    "        file_open.write('{} '.format(dataset.y_err[i]*(dataset.x[i])**4))\n",
    "    file_open.write('\\n')\n",
    "    for i in range(0, len(dataset.x)):\n",
    "        file_open.write('{} '.format((model(dataset.x, x_err=dataset.x_err)[i])*(dataset.x[i])**4))\n",
    "    file_open.write('\\n')\n",
    "    for pvec in choose:\n",
    "        objective.setp(pvec)\n",
    "        calc = model(dataset.x, x_err=dataset.x_err) * np.power(dataset.x, 4)\n",
    "        for i in range(0, len(dataset.x)):\n",
    "            file_open.write('{} '.format(calc[i]))\n",
    "        file_open.write('\\n')\n",
    "    file_open.close()\n",
    "    \n",
    "def printsld(n, structure, objective, choose):\n",
    "    file_open = open('{}dmpc{}_sld_neutron.txt'.format(analysis_dir, n), 'w')\n",
    "    z, true_sld = structure.sld_profile()\n",
    "    for i in range(0, len(z)):\n",
    "        file_open.write('{} '.format(z[i]))\n",
    "    file_open.write('\\n')\n",
    "    for i in range(0, len(z)):\n",
    "        file_open.write('{} '.format(true_sld[i]))\n",
    "    file_open.write('\\n')\n",
    "    for pvec in choose:\n",
    "        objective.setp(pvec)\n",
    "        zs, sld = structure.sld_profile()\n",
    "        for i in range(0, len(z)):\n",
    "            file_open.write('{} '.format(sld[i]))   \n",
    "        file_open.write('\\n')\n",
    "    file_open.close()\n",
    "    \n",
    "choose = objective_n1.pgen(ngen=100)\n",
    "printref(\"3_n1\", dataset3_n1, model_dmpc3_n1, objective_n1, analysis_dir, choose)\n",
    "printsld(\"3_n1\", structure_dmpc3_n1, objective_n1, choose)"
   ]
  },
  {
   "cell_type": "code",
   "execution_count": 16,
   "metadata": {},
   "outputs": [
    {
     "name": "stdout",
     "output_type": "stream",
     "text": [
      "[22.99942137 29.37374528 24.94179554 ... 13.9871269  23.06328597\n",
      " 25.68685113]\n"
     ]
    }
   ],
   "source": [
    "lab = ['scale3', 'angle3', 'rought3', 'solh3']\n",
    "\n",
    "for i in range(0, flatchain.shape[1]):\n",
    "    total_pearsons = open('{}dmpc/{}_neutron_n1.txt'.format(analysis_dir, lab[i]), 'w')\n",
    "    a = mquantiles(flatchain[:, i], prob=[0.025, 0.5, 0.975])\n",
    "    if 'angle' in lab[i]:\n",
    "        c = np.rad2deg(np.arccos(a))\n",
    "        k = [c[1], c[0] - c[1], c[1] - c[2]]\n",
    "        q = '{:.2f}'.format(k[0])\n",
    "        w = '{:.2f}'.format(k[1])\n",
    "        e = '{:.2f}'.format(k[2])\n",
    "        total_pearsons.write('$' + str(q) + '^{+' + str(w) + '}_{-' + str(e) + '}$')\n",
    "    elif 'sol' in lab[i]:\n",
    "        k = [a[1]*100, (a[1] - a[0])*100, (a[2] - a[1])*100]\n",
    "        q = '{:.2f}'.format(k[0])\n",
    "        e = '{:.2f}'.format(k[1])\n",
    "        w = '{:.2f}'.format(k[2])\n",
    "        total_pearsons.write('$' + str(q) + '^{+' + str(w) + '}_{-' + str(e) + '}$')\n",
    "    else:\n",
    "        k = [a[1], a[1] - a[0], a[2] - a[1]]\n",
    "        q = '{:.2f}'.format(k[0])\n",
    "        e = '{:.2f}'.format(k[1])\n",
    "        w = '{:.2f}'.format(k[2])\n",
    "        total_pearsons.write('$' + str(q) + '^{+' + str(w) + '}_{-' + str(e) + '}$')\n",
    "    total_pearsons.close()\n",
    "    \n",
    "lab2 = ['solt3']\n",
    "kl = 1 - ((dmpc3_n1.thick_heads.value * dmpc3_n1.tail_mol_vol.value * (1 - flatchain[:, 3])) / (dmpc3_n1.head_mol_vol.value * flatchain[:, 1] * dmpc3_n1.tail_length.value))\n",
    "kl = kl * 100\n",
    "for i in range(0, len(lab2)):\n",
    "    total_pearsons = open('{}dmpc/{}_neutron_n1.txt'.format(analysis_dir, lab2[i]), 'w')\n",
    "    a = mquantiles(kl, prob=[0.025, 0.5, 0.975])\n",
    "    c = a\n",
    "    k = [a[1], a[1] - a[0], a[2] - a[1]]\n",
    "    q = '{:.2f}'.format(k[0])\n",
    "    w = '{:.2f}'.format(k[1])\n",
    "    e = '{:.2f}'.format(k[2])\n",
    "    total_pearsons.write('$' + str(q) + '^{+' + str(w) + '}_{-' + str(e) + '}$')\n",
    "    total_pearsons.close()\n",
    "    \n",
    "lab2 = ['tail3']\n",
    "kl = flatchain[:, 1] * dmpc3_n1.tail_length.value\n",
    "for i in range(0, len(lab2)):\n",
    "    total_pearsons = open('{}dmpc/{}_neutron_n1.txt'.format(analysis_dir, lab2[i]), 'w')\n",
    "    a = mquantiles(kl, prob=[0.025, 0.5, 0.975])\n",
    "    k = [a[1], a[1] - a[0], a[2] - a[1]]\n",
    "    q = '{:.2f}'.format(k[0])\n",
    "    e = '{:.2f}'.format(k[1])\n",
    "    w = '{:.2f}'.format(k[2])\n",
    "    total_pearsons.write('$' + str(q) + '^{+' + str(w) + '}_{-' + str(e) + '}$')\n",
    "    total_pearsons.close()"
   ]
  },
  {
   "cell_type": "code",
   "execution_count": null,
   "metadata": {},
   "outputs": [],
   "source": []
  },
  {
   "cell_type": "code",
   "execution_count": null,
   "metadata": {},
   "outputs": [],
   "source": []
  }
 ],
 "metadata": {
  "kernelspec": {
   "display_name": "Python [conda env:asfarm_2018]",
   "language": "python",
   "name": "conda-env-asfarm_2018-py"
  },
  "language_info": {
   "codemirror_mode": {
    "name": "ipython",
    "version": 3
   },
   "file_extension": ".py",
   "mimetype": "text/x-python",
   "name": "python",
   "nbconvert_exporter": "python",
   "pygments_lexer": "ipython3",
   "version": "3.6.5"
  },
  "latex_envs": {
   "LaTeX_envs_menu_present": true,
   "autoclose": false,
   "autocomplete": true,
   "bibliofile": "biblio.bib",
   "cite_by": "apalike",
   "current_citInitial": 1,
   "eqLabelWithNumbers": true,
   "eqNumInitial": 1,
   "hotkeys": {
    "equation": "Ctrl-E",
    "itemize": "Ctrl-I"
   },
   "labels_anchors": false,
   "latex_user_defs": false,
   "report_style_numbering": false,
   "user_envs_cfg": false
  }
 },
 "nbformat": 4,
 "nbformat_minor": 2
}
